{
 "cells": [
  {
   "cell_type": "code",
   "execution_count": 1,
   "metadata": {},
   "outputs": [],
   "source": [
    "import pandas as pd\n",
    "import numpy as np\n",
    "import statsmodels\n",
    "from statsmodels.tsa.stattools import coint\n",
    "import matplotlib.pyplot as plt\n",
    "import seaborn\n",
    "import dateutil\n",
    "from datetime import datetime\n",
    "import math\n",
    "import plotly.graph_objects as go\n",
    "import plotly.express as px\n"
   ]
  },
  {
   "cell_type": "code",
   "execution_count": 2,
   "metadata": {},
   "outputs": [],
   "source": [
    "symbols = ['USD.FOREX','NZD.FOREX', 'GBPUSD.FOREX', 'CHFUSD.FOREX', 'JPYUSD.FOREX', 'AUDUSD.FOREX']\n",
    "#symbols = ['LUV.US','AAL.US', 'DAL.US', 'UAL.US', 'ATSG.US', 'SKYW.US', 'ALGT.US', 'GD.US', 'ALK.US', 'HA.US']\n",
    "\n",
    "\n"
   ]
  },
  {
   "cell_type": "markdown",
   "metadata": {},
   "source": [
    "# Get Data"
   ]
  },
  {
   "cell_type": "code",
   "execution_count": 3,
   "metadata": {},
   "outputs": [],
   "source": [
    "quotes = pd.DataFrame()\n",
    "#start = '2015-01-1' ## Anti correlated period - starts with a massive drop\n",
    "start = '2016-01-1'\n",
    "end = '2020-03-30'"
   ]
  },
  {
   "cell_type": "code",
   "execution_count": 4,
   "metadata": {},
   "outputs": [
    {
     "name": "stdout",
     "output_type": "stream",
     "text": [
      "USD.FOREX\n",
      "NZD.FOREX\n",
      "GBPUSD.FOREX\n",
      "CHFUSD.FOREX\n",
      "JPYUSD.FOREX\n",
      "AUDUSD.FOREX\n"
     ]
    }
   ],
   "source": [
    "for s in symbols:\n",
    "    print(s)\n",
    "    endpoint = f'https://eodhistoricaldata.com/api/intraday/{s}?api_token=5d7111a684ee90.02476162&fmt=csv'\n",
    "    df = pd.read_csv(endpoint)\n",
    "    #print(df)\n",
    "    df = df[df['Adjusted_close'] > 0]\n",
    "    #print(df.head(1))\n",
    "    if len(quotes) == 0:\n",
    "        quotes['Date'] = df['Datetime']\n",
    "        quotes[s] = df['Adjusted_close']\n",
    "    else:\n",
    "        new_df = pd.DataFrame()\n",
    "        new_df['Date'] = df['Datetime']\n",
    "        new_df[s] = df['Adjusted_close']\n",
    "        quotes = quotes.merge(new_df, how=\"inner\", on=\"Date\")\n",
    "    #print(quotes)\n",
    "#print(quotes.tail(20))"
   ]
  },
  {
   "cell_type": "code",
   "execution_count": 5,
   "metadata": {},
   "outputs": [],
   "source": [
    "old_quotes = quotes\n",
    "#quotes=old_quotes\n",
    "\n",
    "#print(quotes)\n"
   ]
  },
  {
   "cell_type": "code",
   "execution_count": 6,
   "metadata": {},
   "outputs": [],
   "source": [
    "quotes = quotes.dropna()\n",
    "quotes = quotes.reset_index()\n",
    "quotes['Date'] = pd.to_datetime(quotes['Date'])\n",
    "quotes = quotes.set_index('Date')\n",
    "#quotes = quotes[quotes.index > dateutil.parser.parse(\"2020-03-01\")]\n",
    "#print(quotes)"
   ]
  },
  {
   "cell_type": "markdown",
   "metadata": {},
   "source": [
    "# Understand cointegration"
   ]
  },
  {
   "cell_type": "code",
   "execution_count": 7,
   "metadata": {},
   "outputs": [],
   "source": [
    "def find_cointegrated_pairs(data):\n",
    "    n = data.shape[1]\n",
    "    score_matrix = np.zeros((n, n))\n",
    "    pvalue_matrix = np.ones((n, n))\n",
    "    keys = data.keys()\n",
    "    pairs = []\n",
    "    for i in range(n):\n",
    "        for j in range(i+1, n):\n",
    "            S1 = data[keys[i]]\n",
    "            S2 = data[keys[j]]\n",
    "            result = coint(S1, S2)\n",
    "            score = result[0]\n",
    "            pvalue = result[1]\n",
    "            score_matrix[i, j] = score\n",
    "            pvalue_matrix[i, j] = pvalue\n",
    "            if pvalue < 0.05:\n",
    "                pairs.append((keys[i], keys[j]))\n",
    "    return score_matrix, pvalue_matrix, pairs"
   ]
  },
  {
   "cell_type": "code",
   "execution_count": 8,
   "metadata": {},
   "outputs": [
    {
     "name": "stderr",
     "output_type": "stream",
     "text": [
      "/Users/edoardofoco/miniconda3/envs/trading-algos/lib/python3.6/site-packages/statsmodels/regression/linear_model.py:1386: RuntimeWarning:\n",
      "\n",
      "divide by zero encountered in double_scalars\n",
      "\n",
      "/Users/edoardofoco/miniconda3/envs/trading-algos/lib/python3.6/site-packages/statsmodels/base/model.py:1036: RuntimeWarning:\n",
      "\n",
      "invalid value encountered in true_divide\n",
      "\n",
      "/Users/edoardofoco/miniconda3/envs/trading-algos/lib/python3.6/site-packages/ipykernel_launcher.py:6: RuntimeWarning:\n",
      "\n",
      "invalid value encountered in greater_equal\n",
      "\n"
     ]
    },
    {
     "data": {
      "image/png": "[encoded data removed]",
      "text/plain": [
       "<Figure size 432x288 with 2 Axes>"
      ]
     },
     "metadata": {
      "needs_background": "light"
     },
     "output_type": "display_data"
    },
    {
     "name": "stdout",
     "output_type": "stream",
     "text": [
      "[]\n"
     ]
    }
   ],
   "source": [
    "data = quotes\n",
    "scores, pvalues, pairs = find_cointegrated_pairs(data)\n",
    "m = [0,0.2,0.4,0.6,0.8,1]\n",
    "seaborn.heatmap(pvalues, xticklabels=data.columns, \n",
    "                yticklabels=data.columns, cmap='RdYlGn_r' \n",
    "                , mask = (pvalues >= 0.80)\n",
    "                )\n",
    "plt.show()\n",
    "print(pairs)\n"
   ]
  },
  {
   "cell_type": "markdown",
   "metadata": {},
   "source": [
    "### Initial analysis of ratio and zscore. Do they go back to a mean?"
   ]
  },
  {
   "cell_type": "code",
   "execution_count": 9,
   "metadata": {},
   "outputs": [
    {
     "data": {
      "image/png": "[encoded data removed]",
      "text/plain": [
       "<Figure size 1080x504 with 1 Axes>"
      ]
     },
     "metadata": {
      "needs_background": "light"
     },
     "output_type": "display_data"
    }
   ],
   "source": [
    "chosen = ['NZD.FOREX', 'USD.FOREX']\n",
    "S1 = quotes[chosen[0]]\n",
    "S2 = quotes[chosen[1]]\n",
    "\n",
    "score, pvalue, _ = coint(S1, S2)\n",
    "ratios = S1 / S2\n",
    "ratios.plot(figsize=(15,7))\n",
    "plt.axhline(ratios.mean())\n",
    "plt.legend(['Price Ratio'])\n",
    "plt.show()"
   ]
  },
  {
   "cell_type": "code",
   "execution_count": 10,
   "metadata": {},
   "outputs": [],
   "source": [
    "def zscore(series):\n",
    "    return (series - series.mean()) / np.std(series)"
   ]
  },
  {
   "cell_type": "code",
   "execution_count": 11,
   "metadata": {},
   "outputs": [
    {
     "data": {
      "image/png": "[encoded data removed]",
      "text/plain": [
       "<Figure size 1080x504 with 1 Axes>"
      ]
     },
     "metadata": {
      "needs_background": "light"
     },
     "output_type": "display_data"
    }
   ],
   "source": [
    "zscores = zscore(ratios)\n",
    "zscores.plot(figsize=(15,7))\n",
    "#print(zscores)\n",
    "plt.axhline(zscore(ratios).mean(), color='black')\n",
    "plt.axhline(1, color='red', linestyle='--')\n",
    "plt.axhline(-1, color='green', linestyle='--')\n",
    "plt.legend(['Ratio z-score', 'Mean', '+1', '-1'])\n",
    "plt.show()"
   ]
  },
  {
   "cell_type": "markdown",
   "metadata": {},
   "source": [
    "# Variables"
   ]
  },
  {
   "cell_type": "code",
   "execution_count": 101,
   "metadata": {},
   "outputs": [],
   "source": [
    "# Indicators\n",
    "moving_avg_1 = 40 #default 60\n",
    "moving_avg_2 = 5 # default 5\n",
    "macd_fast = 1\n",
    "macd_slow = 2\n",
    "\n",
    "# Trading limits\n",
    "limit = 0.75 #default 1\n",
    "exit_limit = 0.5 #default -.75\n",
    "leverage_limit = 1.2\n",
    "max_leverage = 2\n"
   ]
  },
  {
   "cell_type": "markdown",
   "metadata": {},
   "source": [
    "# Identify features\n",
    "- Slow Moving Average of Ratio: Check Variables\n",
    "- Fast Moving Average of Ratio: Check Variables\n",
    "- Standard Deviation (Based on Slow Moving AVG) \n",
    "- z score: (FastMA — SlowMA) / STD\n",
    "- macd"
   ]
  },
  {
   "cell_type": "code",
   "execution_count": 102,
   "metadata": {},
   "outputs": [
    {
     "data": {
      "image/png": "[encoded data removed]",
      "text/plain": [
       "<Figure size 1080x504 with 1 Axes>"
      ]
     },
     "metadata": {
      "needs_background": "light"
     },
     "output_type": "display_data"
    }
   ],
   "source": [
    "moving_avg_fast = ratios.rolling(window=moving_avg_2,\n",
    "                               center=False).mean()\n",
    "moving_avg_slow = ratios.rolling(window=moving_avg_1,\n",
    "                               center=False).mean()\n",
    "std_60 = ratios.rolling(window=moving_avg_1,\n",
    "                        center=False).std()\n",
    "zscore_moving_avg = (moving_avg_fast - moving_avg_slow)/std_60\n",
    "plt.figure(figsize=(15,7))\n",
    "plt.plot(ratios.index, ratios.values)\n",
    "plt.plot(moving_avg_fast.index, moving_avg_fast.values)\n",
    "plt.plot(moving_avg_slow.index, moving_avg_slow.values)\n",
    "plt.legend(['Ratio',f'{moving_avg_2}d Ratio MA', f'{moving_avg_1}d Ratio MA'])\n",
    "plt.ylabel('Ratio')\n",
    "plt.show()"
   ]
  },
  {
   "cell_type": "code",
   "execution_count": 103,
   "metadata": {},
   "outputs": [
    {
     "data": {
      "image/png": "[encoded data removed]",
      "text/plain": [
       "<Figure size 1080x504 with 1 Axes>"
      ]
     },
     "metadata": {
      "needs_background": "light"
     },
     "output_type": "display_data"
    }
   ],
   "source": [
    "plt.figure(figsize=(15,7))\n",
    "zscore_moving_avg.plot()\n",
    "\n",
    "#buy_with_leverage = zscore_moving_avg.copy()\n",
    "#buy_with_leverage[zscore_moving_avg>-leverage_limit] = None\n",
    "\n",
    "#sell_with_leverage = zscore_moving_avg.copy()\n",
    "#sell_with_leverage[zscore_moving_avg<leverage_limit] = None\n",
    "\n",
    "buy = zscore_moving_avg.copy()\n",
    "buy[zscore_moving_avg>-limit] = None\n",
    "\n",
    "sell = zscore_moving_avg.copy()\n",
    "sell[zscore_moving_avg<limit] = None\n",
    "\n",
    "buy.plot(color='g', linestyle='None', marker='^')\n",
    "sell.plot(color='r', linestyle='None', marker='^')\n",
    "\n",
    "\n",
    "#buy_with_leverage.plot(color='black', linestyle='None', marker='^')\n",
    "#sell_with_leverage.plot(color='black', linestyle='None', marker='^')\n",
    "\n",
    "plt.axhline(0, color='black')\n",
    "plt.axhline(limit, color='red', linestyle='--')\n",
    "plt.axhline(-limit, color='green', linestyle='--')\n",
    "plt.axhline(leverage_limit, color='blue', linestyle='--')\n",
    "plt.axhline(-leverage_limit, color='blue', linestyle='--')\n",
    "plt.axhline(exit_limit, color='black', linestyle='--')\n",
    "plt.axhline(-exit_limit, color='black', linestyle='--')\n",
    "plt.legend(['Rolling Ratio z-Score', 'Mean', '+'+str(limit), '-'+str(limit)])\n",
    "plt.show()"
   ]
  },
  {
   "cell_type": "code",
   "execution_count": 104,
   "metadata": {},
   "outputs": [
    {
     "data": {
      "application/vnd.plotly.v1+json": {
       "config": {
        "plotlyServerURL": "https://plot.ly"
       },
       "data": [
        {
         "mode": "lines",
         "name": "high",
         "type": "scatter",
         "x": [
          0,
          1,
          2,
          3,
          4,
          5,
          6,
          7,
          8,
          9,
          10,
          11,
          12,
          13,
          14,
          15,
          16,
          17,
          18,
          19,
          20,
          21,
          22
         ],
         "y": [
          null,
          null,
          null,
          null,
          null,
          null,
          null,
          null,
          null,
          null,
          null,
          null,
          null,
          null,
          null,
          null,
          null,
          null,
          null,
          null,
          null,
          null,
          null
         ]
        },
        {
         "mode": "lines",
         "name": "low",
         "type": "scatter",
         "x": [
          0,
          1,
          2,
          3,
          4,
          5,
          6,
          7,
          8,
          9,
          10,
          11,
          12,
          13,
          14,
          15,
          16,
          17,
          18,
          19,
          20,
          21,
          22
         ],
         "y": [
          null,
          null,
          null,
          null,
          null,
          null,
          null,
          null,
          null,
          null,
          null,
          null,
          null,
          null,
          null,
          null,
          null,
          null,
          null,
          null,
          null,
          null,
          null
         ]
        }
       ],
       "layout": {
        "template": {
         "data": {
          "bar": [
           {
            "error_x": {
             "color": "#2a3f5f"
            },
            "error_y": {
             "color": "#2a3f5f"
            },
            "marker": {
             "line": {
              "color": "#E5ECF6",
              "width": 0.5
             }
            },
            "type": "bar"
           }
          ],
          "barpolar": [
           {
            "marker": {
             "line": {
              "color": "#E5ECF6",
              "width": 0.5
             }
            },
            "type": "barpolar"
           }
          ],
          "carpet": [
           {
            "aaxis": {
             "endlinecolor": "#2a3f5f",
             "gridcolor": "white",
             "linecolor": "white",
             "minorgridcolor": "white",
             "startlinecolor": "#2a3f5f"
            },
            "baxis": {
             "endlinecolor": "#2a3f5f",
             "gridcolor": "white",
             "linecolor": "white",
             "minorgridcolor": "white",
             "startlinecolor": "#2a3f5f"
            },
            "type": "carpet"
           }
          ],
          "choropleth": [
           {
            "colorbar": {
             "outlinewidth": 0,
             "ticks": ""
            },
            "type": "choropleth"
           }
          ],
          "contour": [
           {
            "colorbar": {
             "outlinewidth": 0,
             "ticks": ""
            },
            "colorscale": [
             [
              0,
              "#0d0887"
             ],
             [
              0.1111111111111111,
              "#46039f"
             ],
             [
              0.2222222222222222,
              "#7201a8"
             ],
             [
              0.3333333333333333,
              "#9c179e"
             ],
             [
              0.4444444444444444,
              "#bd3786"
             ],
             [
              0.5555555555555556,
              "#d8576b"
             ],
             [
              0.6666666666666666,
              "#ed7953"
             ],
             [
              0.7777777777777778,
              "#fb9f3a"
             ],
             [
              0.8888888888888888,
              "#fdca26"
             ],
             [
              1,
              "#f0f921"
             ]
            ],
            "type": "contour"
           }
          ],
          "contourcarpet": [
           {
            "colorbar": {
             "outlinewidth": 0,
             "ticks": ""
            },
            "type": "contourcarpet"
           }
          ],
          "heatmap": [
           {
            "colorbar": {
             "outlinewidth": 0,
             "ticks": ""
            },
            "colorscale": [
             [
              0,
              "#0d0887"
             ],
             [
              0.1111111111111111,
              "#46039f"
             ],
             [
              0.2222222222222222,
              "#7201a8"
             ],
             [
              0.3333333333333333,
              "#9c179e"
             ],
             [
              0.4444444444444444,
              "#bd3786"
             ],
             [
              0.5555555555555556,
              "#d8576b"
             ],
             [
              0.6666666666666666,
              "#ed7953"
             ],
             [
              0.7777777777777778,
              "#fb9f3a"
             ],
             [
              0.8888888888888888,
              "#fdca26"
             ],
             [
              1,
              "#f0f921"
             ]
            ],
            "type": "heatmap"
           }
          ],
          "heatmapgl": [
           {
            "colorbar": {
             "outlinewidth": 0,
             "ticks": ""
            },
            "colorscale": [
             [
              0,
              "#0d0887"
             ],
             [
              0.1111111111111111,
              "#46039f"
             ],
             [
              0.2222222222222222,
              "#7201a8"
             ],
             [
              0.3333333333333333,
              "#9c179e"
             ],
             [
              0.4444444444444444,
              "#bd3786"
             ],
             [
              0.5555555555555556,
              "#d8576b"
             ],
             [
              0.6666666666666666,
              "#ed7953"
             ],
             [
              0.7777777777777778,
              "#fb9f3a"
             ],
             [
              0.8888888888888888,
              "#fdca26"
             ],
             [
              1,
              "#f0f921"
             ]
            ],
            "type": "heatmapgl"
           }
          ],
          "histogram": [
           {
            "marker": {
             "colorbar": {
              "outlinewidth": 0,
              "ticks": ""
             }
            },
            "type": "histogram"
           }
          ],
          "histogram2d": [
           {
            "colorbar": {
             "outlinewidth": 0,
             "ticks": ""
            },
            "colorscale": [
             [
              0,
              "#0d0887"
             ],
             [
              0.1111111111111111,
              "#46039f"
             ],
             [
              0.2222222222222222,
              "#7201a8"
             ],
             [
              0.3333333333333333,
              "#9c179e"
             ],
             [
              0.4444444444444444,
              "#bd3786"
             ],
             [
              0.5555555555555556,
              "#d8576b"
             ],
             [
              0.6666666666666666,
              "#ed7953"
             ],
             [
              0.7777777777777778,
              "#fb9f3a"
             ],
             [
              0.8888888888888888,
              "#fdca26"
             ],
             [
              1,
              "#f0f921"
             ]
            ],
            "type": "histogram2d"
           }
          ],
          "histogram2dcontour": [
           {
            "colorbar": {
             "outlinewidth": 0,
             "ticks": ""
            },
            "colorscale": [
             [
              0,
              "#0d0887"
             ],
             [
              0.1111111111111111,
              "#46039f"
             ],
             [
              0.2222222222222222,
              "#7201a8"
             ],
             [
              0.3333333333333333,
              "#9c179e"
             ],
             [
              0.4444444444444444,
              "#bd3786"
             ],
             [
              0.5555555555555556,
              "#d8576b"
             ],
             [
              0.6666666666666666,
              "#ed7953"
             ],
             [
              0.7777777777777778,
              "#fb9f3a"
             ],
             [
              0.8888888888888888,
              "#fdca26"
             ],
             [
              1,
              "#f0f921"
             ]
            ],
            "type": "histogram2dcontour"
           }
          ],
          "mesh3d": [
           {
            "colorbar": {
             "outlinewidth": 0,
             "ticks": ""
            },
            "type": "mesh3d"
           }
          ],
          "parcoords": [
           {
            "line": {
             "colorbar": {
              "outlinewidth": 0,
              "ticks": ""
             }
            },
            "type": "parcoords"
           }
          ],
          "pie": [
           {
            "automargin": true,
            "type": "pie"
           }
          ],
          "scatter": [
           {
            "marker": {
             "colorbar": {
              "outlinewidth": 0,
              "ticks": ""
             }
            },
            "type": "scatter"
           }
          ],
          "scatter3d": [
           {
            "line": {
             "colorbar": {
              "outlinewidth": 0,
              "ticks": ""
             }
            },
            "marker": {
             "colorbar": {
              "outlinewidth": 0,
              "ticks": ""
             }
            },
            "type": "scatter3d"
           }
          ],
          "scattercarpet": [
           {
            "marker": {
             "colorbar": {
              "outlinewidth": 0,
              "ticks": ""
             }
            },
            "type": "scattercarpet"
           }
          ],
          "scattergeo": [
           {
            "marker": {
             "colorbar": {
              "outlinewidth": 0,
              "ticks": ""
             }
            },
            "type": "scattergeo"
           }
          ],
          "scattergl": [
           {
            "marker": {
             "colorbar": {
              "outlinewidth": 0,
              "ticks": ""
             }
            },
            "type": "scattergl"
           }
          ],
          "scattermapbox": [
           {
            "marker": {
             "colorbar": {
              "outlinewidth": 0,
              "ticks": ""
             }
            },
            "type": "scattermapbox"
           }
          ],
          "scatterpolar": [
           {
            "marker": {
             "colorbar": {
              "outlinewidth": 0,
              "ticks": ""
             }
            },
            "type": "scatterpolar"
           }
          ],
          "scatterpolargl": [
           {
            "marker": {
             "colorbar": {
              "outlinewidth": 0,
              "ticks": ""
             }
            },
            "type": "scatterpolargl"
           }
          ],
          "scatterternary": [
           {
            "marker": {
             "colorbar": {
              "outlinewidth": 0,
              "ticks": ""
             }
            },
            "type": "scatterternary"
           }
          ],
          "surface": [
           {
            "colorbar": {
             "outlinewidth": 0,
             "ticks": ""
            },
            "colorscale": [
             [
              0,
              "#0d0887"
             ],
             [
              0.1111111111111111,
              "#46039f"
             ],
             [
              0.2222222222222222,
              "#7201a8"
             ],
             [
              0.3333333333333333,
              "#9c179e"
             ],
             [
              0.4444444444444444,
              "#bd3786"
             ],
             [
              0.5555555555555556,
              "#d8576b"
             ],
             [
              0.6666666666666666,
              "#ed7953"
             ],
             [
              0.7777777777777778,
              "#fb9f3a"
             ],
             [
              0.8888888888888888,
              "#fdca26"
             ],
             [
              1,
              "#f0f921"
             ]
            ],
            "type": "surface"
           }
          ],
          "table": [
           {
            "cells": {
             "fill": {
              "color": "#EBF0F8"
             },
             "line": {
              "color": "white"
             }
            },
            "header": {
             "fill": {
              "color": "#C8D4E3"
             },
             "line": {
              "color": "white"
             }
            },
            "type": "table"
           }
          ]
         },
         "layout": {
          "annotationdefaults": {
           "arrowcolor": "#2a3f5f",
           "arrowhead": 0,
           "arrowwidth": 1
          },
          "coloraxis": {
           "colorbar": {
            "outlinewidth": 0,
            "ticks": ""
           }
          },
          "colorscale": {
           "diverging": [
            [
             0,
             "#8e0152"
            ],
            [
             0.1,
             "#c51b7d"
            ],
            [
             0.2,
             "#de77ae"
            ],
            [
             0.3,
             "#f1b6da"
            ],
            [
             0.4,
             "#fde0ef"
            ],
            [
             0.5,
             "#f7f7f7"
            ],
            [
             0.6,
             "#e6f5d0"
            ],
            [
             0.7,
             "#b8e186"
            ],
            [
             0.8,
             "#7fbc41"
            ],
            [
             0.9,
             "#4d9221"
            ],
            [
             1,
             "#276419"
            ]
           ],
           "sequential": [
            [
             0,
             "#0d0887"
            ],
            [
             0.1111111111111111,
             "#46039f"
            ],
            [
             0.2222222222222222,
             "#7201a8"
            ],
            [
             0.3333333333333333,
             "#9c179e"
            ],
            [
             0.4444444444444444,
             "#bd3786"
            ],
            [
             0.5555555555555556,
             "#d8576b"
            ],
            [
             0.6666666666666666,
             "#ed7953"
            ],
            [
             0.7777777777777778,
             "#fb9f3a"
            ],
            [
             0.8888888888888888,
             "#fdca26"
            ],
            [
             1,
             "#f0f921"
            ]
           ],
           "sequentialminus": [
            [
             0,
             "#0d0887"
            ],
            [
             0.1111111111111111,
             "#46039f"
            ],
            [
             0.2222222222222222,
             "#7201a8"
            ],
            [
             0.3333333333333333,
             "#9c179e"
            ],
            [
             0.4444444444444444,
             "#bd3786"
            ],
            [
             0.5555555555555556,
             "#d8576b"
            ],
            [
             0.6666666666666666,
             "#ed7953"
            ],
            [
             0.7777777777777778,
             "#fb9f3a"
            ],
            [
             0.8888888888888888,
             "#fdca26"
            ],
            [
             1,
             "#f0f921"
            ]
           ]
          },
          "colorway": [
           "#636efa",
           "#EF553B",
           "#00cc96",
           "#ab63fa",
           "#FFA15A",
           "#19d3f3",
           "#FF6692",
           "#B6E880",
           "#FF97FF",
           "#FECB52"
          ],
          "font": {
           "color": "#2a3f5f"
          },
          "geo": {
           "bgcolor": "white",
           "lakecolor": "white",
           "landcolor": "#E5ECF6",
           "showlakes": true,
           "showland": true,
           "subunitcolor": "white"
          },
          "hoverlabel": {
           "align": "left"
          },
          "hovermode": "closest",
          "mapbox": {
           "style": "light"
          },
          "paper_bgcolor": "white",
          "plot_bgcolor": "#E5ECF6",
          "polar": {
           "angularaxis": {
            "gridcolor": "white",
            "linecolor": "white",
            "ticks": ""
           },
           "bgcolor": "#E5ECF6",
           "radialaxis": {
            "gridcolor": "white",
            "linecolor": "white",
            "ticks": ""
           }
          },
          "scene": {
           "xaxis": {
            "backgroundcolor": "#E5ECF6",
            "gridcolor": "white",
            "gridwidth": 2,
            "linecolor": "white",
            "showbackground": true,
            "ticks": "",
            "zerolinecolor": "white"
           },
           "yaxis": {
            "backgroundcolor": "#E5ECF6",
            "gridcolor": "white",
            "gridwidth": 2,
            "linecolor": "white",
            "showbackground": true,
            "ticks": "",
            "zerolinecolor": "white"
           },
           "zaxis": {
            "backgroundcolor": "#E5ECF6",
            "gridcolor": "white",
            "gridwidth": 2,
            "linecolor": "white",
            "showbackground": true,
            "ticks": "",
            "zerolinecolor": "white"
           }
          },
          "shapedefaults": {
           "line": {
            "color": "#2a3f5f"
           }
          },
          "ternary": {
           "aaxis": {
            "gridcolor": "white",
            "linecolor": "white",
            "ticks": ""
           },
           "baxis": {
            "gridcolor": "white",
            "linecolor": "white",
            "ticks": ""
           },
           "bgcolor": "#E5ECF6",
           "caxis": {
            "gridcolor": "white",
            "linecolor": "white",
            "ticks": ""
           }
          },
          "title": {
           "x": 0.05
          },
          "xaxis": {
           "automargin": true,
           "gridcolor": "white",
           "linecolor": "white",
           "ticks": "",
           "title": {
            "standoff": 15
           },
           "zerolinecolor": "white",
           "zerolinewidth": 2
          },
          "yaxis": {
           "automargin": true,
           "gridcolor": "white",
           "linecolor": "white",
           "ticks": "",
           "title": {
            "standoff": 15
           },
           "zerolinecolor": "white",
           "zerolinewidth": 2
          }
         }
        }
       }
      },
      "text/html": [
       "<div>\n",
       "        \n",
       "        \n",
       "            <div id=\"5253c5f4-3806-42df-af2f-f14392edf0bc\" class=\"plotly-graph-div\" style=\"height:525px; width:100%;\"></div>\n",
       "            <script type=\"text/javascript\">\n",
       "                require([\"plotly\"], function(Plotly) {\n",
       "                    window.PLOTLYENV=window.PLOTLYENV || {};\n",
       "                    \n",
       "                if (document.getElementById(\"5253c5f4-3806-42df-af2f-f14392edf0bc\")) {\n",
       "                    Plotly.newPlot(\n",
       "                        '5253c5f4-3806-42df-af2f-f14392edf0bc',\n",
       "                        [{\"mode\": \"lines\", \"name\": \"high\", \"type\": \"scatter\", \"x\": [0, 1, 2, 3, 4, 5, 6, 7, 8, 9, 10, 11, 12, 13, 14, 15, 16, 17, 18, 19, 20, 21, 22], \"y\": [null, null, null, null, null, null, null, null, null, null, null, null, null, null, null, null, null, null, null, null, null, null, null]}, {\"mode\": \"lines\", \"name\": \"low\", \"type\": \"scatter\", \"x\": [0, 1, 2, 3, 4, 5, 6, 7, 8, 9, 10, 11, 12, 13, 14, 15, 16, 17, 18, 19, 20, 21, 22], \"y\": [null, null, null, null, null, null, null, null, null, null, null, null, null, null, null, null, null, null, null, null, null, null, null]}],\n",
       "                        {\"template\": {\"data\": {\"bar\": [{\"error_x\": {\"color\": \"#2a3f5f\"}, \"error_y\": {\"color\": \"#2a3f5f\"}, \"marker\": {\"line\": {\"color\": \"#E5ECF6\", \"width\": 0.5}}, \"type\": \"bar\"}], \"barpolar\": [{\"marker\": {\"line\": {\"color\": \"#E5ECF6\", \"width\": 0.5}}, \"type\": \"barpolar\"}], \"carpet\": [{\"aaxis\": {\"endlinecolor\": \"#2a3f5f\", \"gridcolor\": \"white\", \"linecolor\": \"white\", \"minorgridcolor\": \"white\", \"startlinecolor\": \"#2a3f5f\"}, \"baxis\": {\"endlinecolor\": \"#2a3f5f\", \"gridcolor\": \"white\", \"linecolor\": \"white\", \"minorgridcolor\": \"white\", \"startlinecolor\": \"#2a3f5f\"}, \"type\": \"carpet\"}], \"choropleth\": [{\"colorbar\": {\"outlinewidth\": 0, \"ticks\": \"\"}, \"type\": \"choropleth\"}], \"contour\": [{\"colorbar\": {\"outlinewidth\": 0, \"ticks\": \"\"}, \"colorscale\": [[0.0, \"#0d0887\"], [0.1111111111111111, \"#46039f\"], [0.2222222222222222, \"#7201a8\"], [0.3333333333333333, \"#9c179e\"], [0.4444444444444444, \"#bd3786\"], [0.5555555555555556, \"#d8576b\"], [0.6666666666666666, \"#ed7953\"], [0.7777777777777778, \"#fb9f3a\"], [0.8888888888888888, \"#fdca26\"], [1.0, \"#f0f921\"]], \"type\": \"contour\"}], \"contourcarpet\": [{\"colorbar\": {\"outlinewidth\": 0, \"ticks\": \"\"}, \"type\": \"contourcarpet\"}], \"heatmap\": [{\"colorbar\": {\"outlinewidth\": 0, \"ticks\": \"\"}, \"colorscale\": [[0.0, \"#0d0887\"], [0.1111111111111111, \"#46039f\"], [0.2222222222222222, \"#7201a8\"], [0.3333333333333333, \"#9c179e\"], [0.4444444444444444, \"#bd3786\"], [0.5555555555555556, \"#d8576b\"], [0.6666666666666666, \"#ed7953\"], [0.7777777777777778, \"#fb9f3a\"], [0.8888888888888888, \"#fdca26\"], [1.0, \"#f0f921\"]], \"type\": \"heatmap\"}], \"heatmapgl\": [{\"colorbar\": {\"outlinewidth\": 0, \"ticks\": \"\"}, \"colorscale\": [[0.0, \"#0d0887\"], [0.1111111111111111, \"#46039f\"], [0.2222222222222222, \"#7201a8\"], [0.3333333333333333, \"#9c179e\"], [0.4444444444444444, \"#bd3786\"], [0.5555555555555556, \"#d8576b\"], [0.6666666666666666, \"#ed7953\"], [0.7777777777777778, \"#fb9f3a\"], [0.8888888888888888, \"#fdca26\"], [1.0, \"#f0f921\"]], \"type\": \"heatmapgl\"}], \"histogram\": [{\"marker\": {\"colorbar\": {\"outlinewidth\": 0, \"ticks\": \"\"}}, \"type\": \"histogram\"}], \"histogram2d\": [{\"colorbar\": {\"outlinewidth\": 0, \"ticks\": \"\"}, \"colorscale\": [[0.0, \"#0d0887\"], [0.1111111111111111, \"#46039f\"], [0.2222222222222222, \"#7201a8\"], [0.3333333333333333, \"#9c179e\"], [0.4444444444444444, \"#bd3786\"], [0.5555555555555556, \"#d8576b\"], [0.6666666666666666, \"#ed7953\"], [0.7777777777777778, \"#fb9f3a\"], [0.8888888888888888, \"#fdca26\"], [1.0, \"#f0f921\"]], \"type\": \"histogram2d\"}], \"histogram2dcontour\": [{\"colorbar\": {\"outlinewidth\": 0, \"ticks\": \"\"}, \"colorscale\": [[0.0, \"#0d0887\"], [0.1111111111111111, \"#46039f\"], [0.2222222222222222, \"#7201a8\"], [0.3333333333333333, \"#9c179e\"], [0.4444444444444444, \"#bd3786\"], [0.5555555555555556, \"#d8576b\"], [0.6666666666666666, \"#ed7953\"], [0.7777777777777778, \"#fb9f3a\"], [0.8888888888888888, \"#fdca26\"], [1.0, \"#f0f921\"]], \"type\": \"histogram2dcontour\"}], \"mesh3d\": [{\"colorbar\": {\"outlinewidth\": 0, \"ticks\": \"\"}, \"type\": \"mesh3d\"}], \"parcoords\": [{\"line\": {\"colorbar\": {\"outlinewidth\": 0, \"ticks\": \"\"}}, \"type\": \"parcoords\"}], \"pie\": [{\"automargin\": true, \"type\": \"pie\"}], \"scatter\": [{\"marker\": {\"colorbar\": {\"outlinewidth\": 0, \"ticks\": \"\"}}, \"type\": \"scatter\"}], \"scatter3d\": [{\"line\": {\"colorbar\": {\"outlinewidth\": 0, \"ticks\": \"\"}}, \"marker\": {\"colorbar\": {\"outlinewidth\": 0, \"ticks\": \"\"}}, \"type\": \"scatter3d\"}], \"scattercarpet\": [{\"marker\": {\"colorbar\": {\"outlinewidth\": 0, \"ticks\": \"\"}}, \"type\": \"scattercarpet\"}], \"scattergeo\": [{\"marker\": {\"colorbar\": {\"outlinewidth\": 0, \"ticks\": \"\"}}, \"type\": \"scattergeo\"}], \"scattergl\": [{\"marker\": {\"colorbar\": {\"outlinewidth\": 0, \"ticks\": \"\"}}, \"type\": \"scattergl\"}], \"scattermapbox\": [{\"marker\": {\"colorbar\": {\"outlinewidth\": 0, \"ticks\": \"\"}}, \"type\": \"scattermapbox\"}], \"scatterpolar\": [{\"marker\": {\"colorbar\": {\"outlinewidth\": 0, \"ticks\": \"\"}}, \"type\": \"scatterpolar\"}], \"scatterpolargl\": [{\"marker\": {\"colorbar\": {\"outlinewidth\": 0, \"ticks\": \"\"}}, \"type\": \"scatterpolargl\"}], \"scatterternary\": [{\"marker\": {\"colorbar\": {\"outlinewidth\": 0, \"ticks\": \"\"}}, \"type\": \"scatterternary\"}], \"surface\": [{\"colorbar\": {\"outlinewidth\": 0, \"ticks\": \"\"}, \"colorscale\": [[0.0, \"#0d0887\"], [0.1111111111111111, \"#46039f\"], [0.2222222222222222, \"#7201a8\"], [0.3333333333333333, \"#9c179e\"], [0.4444444444444444, \"#bd3786\"], [0.5555555555555556, \"#d8576b\"], [0.6666666666666666, \"#ed7953\"], [0.7777777777777778, \"#fb9f3a\"], [0.8888888888888888, \"#fdca26\"], [1.0, \"#f0f921\"]], \"type\": \"surface\"}], \"table\": [{\"cells\": {\"fill\": {\"color\": \"#EBF0F8\"}, \"line\": {\"color\": \"white\"}}, \"header\": {\"fill\": {\"color\": \"#C8D4E3\"}, \"line\": {\"color\": \"white\"}}, \"type\": \"table\"}]}, \"layout\": {\"annotationdefaults\": {\"arrowcolor\": \"#2a3f5f\", \"arrowhead\": 0, \"arrowwidth\": 1}, \"coloraxis\": {\"colorbar\": {\"outlinewidth\": 0, \"ticks\": \"\"}}, \"colorscale\": {\"diverging\": [[0, \"#8e0152\"], [0.1, \"#c51b7d\"], [0.2, \"#de77ae\"], [0.3, \"#f1b6da\"], [0.4, \"#fde0ef\"], [0.5, \"#f7f7f7\"], [0.6, \"#e6f5d0\"], [0.7, \"#b8e186\"], [0.8, \"#7fbc41\"], [0.9, \"#4d9221\"], [1, \"#276419\"]], \"sequential\": [[0.0, \"#0d0887\"], [0.1111111111111111, \"#46039f\"], [0.2222222222222222, \"#7201a8\"], [0.3333333333333333, \"#9c179e\"], [0.4444444444444444, \"#bd3786\"], [0.5555555555555556, \"#d8576b\"], [0.6666666666666666, \"#ed7953\"], [0.7777777777777778, \"#fb9f3a\"], [0.8888888888888888, \"#fdca26\"], [1.0, \"#f0f921\"]], \"sequentialminus\": [[0.0, \"#0d0887\"], [0.1111111111111111, \"#46039f\"], [0.2222222222222222, \"#7201a8\"], [0.3333333333333333, \"#9c179e\"], [0.4444444444444444, \"#bd3786\"], [0.5555555555555556, \"#d8576b\"], [0.6666666666666666, \"#ed7953\"], [0.7777777777777778, \"#fb9f3a\"], [0.8888888888888888, \"#fdca26\"], [1.0, \"#f0f921\"]]}, \"colorway\": [\"#636efa\", \"#EF553B\", \"#00cc96\", \"#ab63fa\", \"#FFA15A\", \"#19d3f3\", \"#FF6692\", \"#B6E880\", \"#FF97FF\", \"#FECB52\"], \"font\": {\"color\": \"#2a3f5f\"}, \"geo\": {\"bgcolor\": \"white\", \"lakecolor\": \"white\", \"landcolor\": \"#E5ECF6\", \"showlakes\": true, \"showland\": true, \"subunitcolor\": \"white\"}, \"hoverlabel\": {\"align\": \"left\"}, \"hovermode\": \"closest\", \"mapbox\": {\"style\": \"light\"}, \"paper_bgcolor\": \"white\", \"plot_bgcolor\": \"#E5ECF6\", \"polar\": {\"angularaxis\": {\"gridcolor\": \"white\", \"linecolor\": \"white\", \"ticks\": \"\"}, \"bgcolor\": \"#E5ECF6\", \"radialaxis\": {\"gridcolor\": \"white\", \"linecolor\": \"white\", \"ticks\": \"\"}}, \"scene\": {\"xaxis\": {\"backgroundcolor\": \"#E5ECF6\", \"gridcolor\": \"white\", \"gridwidth\": 2, \"linecolor\": \"white\", \"showbackground\": true, \"ticks\": \"\", \"zerolinecolor\": \"white\"}, \"yaxis\": {\"backgroundcolor\": \"#E5ECF6\", \"gridcolor\": \"white\", \"gridwidth\": 2, \"linecolor\": \"white\", \"showbackground\": true, \"ticks\": \"\", \"zerolinecolor\": \"white\"}, \"zaxis\": {\"backgroundcolor\": \"#E5ECF6\", \"gridcolor\": \"white\", \"gridwidth\": 2, \"linecolor\": \"white\", \"showbackground\": true, \"ticks\": \"\", \"zerolinecolor\": \"white\"}}, \"shapedefaults\": {\"line\": {\"color\": \"#2a3f5f\"}}, \"ternary\": {\"aaxis\": {\"gridcolor\": \"white\", \"linecolor\": \"white\", \"ticks\": \"\"}, \"baxis\": {\"gridcolor\": \"white\", \"linecolor\": \"white\", \"ticks\": \"\"}, \"bgcolor\": \"#E5ECF6\", \"caxis\": {\"gridcolor\": \"white\", \"linecolor\": \"white\", \"ticks\": \"\"}}, \"title\": {\"x\": 0.05}, \"xaxis\": {\"automargin\": true, \"gridcolor\": \"white\", \"linecolor\": \"white\", \"ticks\": \"\", \"title\": {\"standoff\": 15}, \"zerolinecolor\": \"white\", \"zerolinewidth\": 2}, \"yaxis\": {\"automargin\": true, \"gridcolor\": \"white\", \"linecolor\": \"white\", \"ticks\": \"\", \"title\": {\"standoff\": 15}, \"zerolinecolor\": \"white\", \"zerolinewidth\": 2}}}},\n",
       "                        {\"responsive\": true}\n",
       "                    ).then(function(){\n",
       "                            \n",
       "var gd = document.getElementById('5253c5f4-3806-42df-af2f-f14392edf0bc');\n",
       "var x = new MutationObserver(function (mutations, observer) {{\n",
       "        var display = window.getComputedStyle(gd).display;\n",
       "        if (!display || display === 'none') {{\n",
       "            console.log([gd, 'removed!']);\n",
       "            Plotly.purge(gd);\n",
       "            observer.disconnect();\n",
       "        }}\n",
       "}});\n",
       "\n",
       "// Listen for the removal of the full notebook cells\n",
       "var notebookContainer = gd.closest('#notebook-container');\n",
       "if (notebookContainer) {{\n",
       "    x.observe(notebookContainer, {childList: true});\n",
       "}}\n",
       "\n",
       "// Listen for the clearing of the current output cell\n",
       "var outputEl = gd.closest('.output');\n",
       "if (outputEl) {{\n",
       "    x.observe(outputEl, {childList: true});\n",
       "}}\n",
       "\n",
       "                        })\n",
       "                };\n",
       "                });\n",
       "            </script>\n",
       "        </div>"
      ]
     },
     "metadata": {},
     "output_type": "display_data"
    },
    {
     "data": {
      "text/plain": [
       "<Figure size 1080x504 with 0 Axes>"
      ]
     },
     "metadata": {},
     "output_type": "display_data"
    }
   ],
   "source": [
    "zscores_frame = zscore_moving_avg.to_frame()\n",
    "#print(zscores_frame)\n",
    "macd_high = zscore_moving_avg.ewm(span=macd_fast, adjust=False).mean()\n",
    "macd_low = zscore_moving_avg.ewm(span=macd_slow, adjust=False).mean()\n",
    "#macd_high = exp1-exp2\n",
    "#macd_low = macd.ewm(span=9, adjust=False).mean()\n",
    "\n",
    "\n",
    "plt.figure(figsize=(15,7))\n",
    "fig = go.Figure()\n",
    "\n",
    "#print(macd_low)\n",
    "fig.add_trace(go.Scatter(x=macd_high.index, y=macd_high,\n",
    "                    mode='lines',\n",
    "                    name='high'))\n",
    "\n",
    "fig.add_trace(go.Scatter(x=macd_low.index, y=macd_low,\n",
    "                    mode='lines',\n",
    "                    name='low'))\n",
    "\n",
    "\n",
    "\n",
    "fig.show()"
   ]
  },
  {
   "cell_type": "markdown",
   "metadata": {},
   "source": [
    "## Trading algo"
   ]
  },
  {
   "cell_type": "code",
   "execution_count": 87,
   "metadata": {},
   "outputs": [],
   "source": [
    "def get_holding_return_on_close(holding):\n",
    "    if holding['type'] == 'BUY':\n",
    "        holding['return'] = (holding['sold_at'] / holding['bought_at'] -1) * holding['leverage']\n",
    "    else:\n",
    "        holding['return'] = (1 - holding['sold_at'] / holding['bought_at'])  * holding['leverage']\n",
    "    holding['nav'] = holding['amount'] + (holding['return'] * holding['amount'])\n",
    "    return holding\n"
   ]
  },
  {
   "cell_type": "code",
   "execution_count": 88,
   "metadata": {},
   "outputs": [],
   "source": [
    "def get_open_holding_nav(holding, current_price):\n",
    "    if holding['type'] == 'BUY':\n",
    "        holding['return'] = (current_price / holding['bought_at'] -1) * holding['leverage']\n",
    "    else:\n",
    "        holding['return'] = (1 - current_price / holding['bought_at']) * holding['leverage']\n",
    "    holding['nav'] = holding['amount'] + (holding['return'] * holding['amount'])\n",
    "    return holding['nav']"
   ]
  },
  {
   "cell_type": "code",
   "execution_count": 89,
   "metadata": {},
   "outputs": [],
   "source": [
    "# Trade using a simple strategy\n",
    "# If window length is 0, algorithm doesn't make sense, so exit\n",
    "def trade(S1, S2):\n",
    "    portfolio = {\n",
    "        'cash': 10000,\n",
    "        'nav': 10000,\n",
    "        'holdings': {\n",
    "            's1': None,\n",
    "            's2': None\n",
    "        },\n",
    "        'history': pd.DataFrame(columns=[\"symbol\", \"type\", \"amount\", \"bought_at\", \"bought_on\", \"status\"]),\n",
    "        'nav': pd.DataFrame(columns=['date', 'nav'])\n",
    "    }\n",
    "    prices = pd.DataFrame(columns=[\"Date\", \"Action\", \"Price\"])\n",
    "    \n",
    "    old_trend = \"\"\n",
    "    new_trend = \"\"\n",
    "    indicator = zscore_moving_avg\n",
    "    for i in range(len(indicator)):\n",
    "        \n",
    "        if macd_low[indicator.index[i]] <= macd_high[indicator.index[i]]:\n",
    "            new_trend = \"UP\"\n",
    "        else:\n",
    "            new_trend = \"DOWN\"\n",
    "            \n",
    "       # dates.append\n",
    "        # Sell short if the z-score is > 1\n",
    "        if indicator[i] > limit and new_trend == \"DOWN\":\n",
    "            if portfolio['holdings']['s1'] == None and portfolio['holdings']['s2'] == None:\n",
    "                amount = portfolio['cash'] * 0.5\n",
    "                leverage = 1\n",
    "                if indicator[i] > leverage_limit:\n",
    "                    leverage = max_leverage\n",
    "                    \n",
    "                portfolio['holdings']['s1'] = {'amount': amount, 'bought_at': S1.loc[indicator.index[i]], 'type': 'SELL', 'bought_on': indicator.index[i], 'symbol': chosen[0], 'status': 'OPEN', 'leverage': leverage}\n",
    "                portfolio['holdings']['s2'] = {'amount': amount, 'bought_at': S2.loc[indicator.index[i]], 'type': 'BUY', 'bought_on': indicator.index[i], 'symbol': chosen[1], 'status': 'OPEN', 'leverage': leverage}\n",
    "                portfolio['cash'] = portfolio['cash'] - amount*2\n",
    "                \n",
    "        # Buy long if the z-score is < 1\n",
    "        elif indicator[i] < -limit and new_trend == \"UP\":\n",
    "            if portfolio['holdings']['s1'] == None and portfolio['holdings']['s2'] == None:\n",
    "                amount = portfolio['cash'] * 0.5\n",
    "                leverage = 1\n",
    "                if indicator[i] < -leverage_limit:\n",
    "                    leverage = max_leverage\n",
    "                    \n",
    "                portfolio['holdings']['s1'] = {'amount': amount, 'bought_at': S1.loc[indicator.index[i]], 'type': 'BUY', 'bought_on': indicator.index[i], 'symbol': chosen[0], 'status': 'OPEN', 'leverage': leverage}\n",
    "                portfolio['holdings']['s2'] = {'amount': amount, 'bought_at': S2.loc[indicator.index[i]], 'type': 'SELL', 'bought_on': indicator.index[i], 'symbol': chosen[1], 'status': 'OPEN', 'leverage': leverage}\n",
    "                portfolio['cash'] = portfolio['cash'] - amount*2\n",
    "        \n",
    "        # Clear positions if the z-score between -.5 and .5\n",
    "        elif abs(indicator[i]) < exit_limit:\n",
    "            if portfolio['holdings']['s1'] != None and portfolio['holdings']['s2'] != None:\n",
    "                s1_res =  portfolio['holdings']['s1']\n",
    "                s1_res['sold_on'] =  indicator.index[i]\n",
    "                s1_res['sold_at'] =  S1.loc[indicator.index[i]]\n",
    "                s1_res['status'] = 'CLOSE'\n",
    "                s1_res = get_holding_return_on_close(s1_res)\n",
    "                \n",
    "                s2_res =  portfolio['holdings']['s2']\n",
    "                s2_res['sold_on'] =  indicator.index[i]\n",
    "                s2_res['sold_at'] =  S2.loc[indicator.index[i]]\n",
    "                s2_res['status'] = 'CLOSE'\n",
    "                s2_res = get_holding_return_on_close(s2_res)\n",
    "\n",
    "                portfolio['cash'] = s1_res['nav'] + s2_res['nav']\n",
    "                \n",
    "                portfolio['nav'] = portfolio['nav'].append({'date': indicator.index[i], 'nav': portfolio['cash']}, ignore_index=True)\n",
    "\n",
    "                portfolio['history'] = portfolio['history'].append(s1_res, ignore_index=True)\n",
    "                portfolio['history'] = portfolio['history'].append(s2_res, ignore_index=True)\n",
    "\n",
    "                portfolio['holdings']['s1'] = None\n",
    "                portfolio['holdings']['s2'] = None\n",
    "\n",
    "                #print('Exit')\n",
    "        \n",
    "        holdings_nav = 0\n",
    "        if portfolio['holdings']['s1'] != None and portfolio['holdings']['s2'] != None:\n",
    "            s1_nav = get_open_holding_nav(portfolio['holdings']['s1'], S1.loc[indicator.index[i]])\n",
    "            s2_nav = get_open_holding_nav(portfolio['holdings']['s2'], S2.loc[indicator.index[i]])\n",
    "            holdings_nav = s1_nav + s2_nav\n",
    "\n",
    "        portfolio['nav'] = portfolio['nav'].append({'date': indicator.index[i], 'nav': portfolio['cash'] + holdings_nav}, ignore_index=True)\n",
    "        \n",
    "        old_trend = new_trend\n",
    "        #print(portfolio['history'])\n",
    "            \n",
    "            #print('Exit pos %s %s %s %s'%(money,ratios[i], countS1,countS2))\n",
    "    \n",
    "    portfolio['nav'] = portfolio['nav'].set_index('date')\n",
    "    return portfolio\n",
    "\n",
    "portfolio = trade(quotes[chosen[0]],quotes[chosen[1]])\n",
    "\n"
   ]
  },
  {
   "cell_type": "code",
   "execution_count": 90,
   "metadata": {},
   "outputs": [
    {
     "name": "stdout",
     "output_type": "stream",
     "text": [
      "nav    0.003003\n",
      "dtype: float64\n"
     ]
    }
   ],
   "source": [
    "normalized_nav = pd.DataFrame(portfolio['nav'])\n",
    "normalized_nav = normalized_nav.reset_index()\n",
    "normalized_nav['nav'] = normalized_nav['nav'] / normalized_nav['nav'].iloc[0]\n",
    "normalized_nav = normalized_nav.set_index('date')\n",
    "\n",
    "returns = np.log(portfolio['nav'] / portfolio['nav'].shift(1))\n",
    "vol = returns.std() * 250 ** 0.5\n",
    "print(vol)\n",
    "\n",
    "#print(portfolio['nav'].std() * np.sqrt(252) )"
   ]
  },
  {
   "cell_type": "code",
   "execution_count": 91,
   "metadata": {},
   "outputs": [
    {
     "data": {
      "application/vnd.plotly.v1+json": {
       "config": {
        "plotlyServerURL": "https://plot.ly"
       },
       "data": [
        {
         "mode": "lines",
         "name": "benchmark",
         "type": "scatter",
         "x": [
          "2020-04-02T23:00:00",
          "2020-04-02T23:05:00",
          "2020-04-02T23:10:00",
          "2020-04-02T23:15:00",
          "2020-04-02T23:20:00",
          "2020-04-02T23:25:00",
          "2020-04-02T23:30:00",
          "2020-04-02T23:35:00",
          "2020-04-02T23:40:00",
          "2020-04-02T23:45:00",
          "2020-04-02T23:50:00",
          "2020-04-02T23:55:00",
          "2020-04-03T00:00:00",
          "2020-04-03T00:05:00",
          "2020-04-03T00:10:00",
          "2020-04-03T00:15:00",
          "2020-04-03T00:20:00",
          "2020-04-03T00:25:00",
          "2020-04-03T00:30:00",
          "2020-04-03T00:35:00",
          "2020-04-03T00:40:00",
          "2020-04-03T00:45:00",
          "2020-04-03T00:50:00",
          "2020-04-03T00:55:00",
          "2020-04-03T01:00:00",
          "2020-04-03T01:05:00",
          "2020-04-03T01:10:00",
          "2020-04-03T01:15:00",
          "2020-04-03T01:20:00",
          "2020-04-03T01:25:00",
          "2020-04-03T01:30:00",
          "2020-04-03T01:35:00",
          "2020-04-03T01:40:00",
          "2020-04-03T01:45:00",
          "2020-04-03T01:50:00",
          "2020-04-03T01:55:00",
          "2020-04-03T02:00:00",
          "2020-04-03T02:05:00",
          "2020-04-03T02:10:00",
          "2020-04-03T02:15:00",
          "2020-04-03T02:20:00",
          "2020-04-03T02:25:00",
          "2020-04-03T02:30:00",
          "2020-04-03T02:35:00",
          "2020-04-03T02:40:00",
          "2020-04-03T02:45:00",
          "2020-04-03T02:50:00",
          "2020-04-03T02:55:00",
          "2020-04-03T03:00:00",
          "2020-04-03T03:05:00",
          "2020-04-03T03:10:00",
          "2020-04-03T03:15:00",
          "2020-04-03T03:20:00",
          "2020-04-03T03:25:00",
          "2020-04-03T03:30:00",
          "2020-04-03T03:35:00",
          "2020-04-03T03:40:00",
          "2020-04-03T03:45:00",
          "2020-04-03T03:50:00",
          "2020-04-03T03:55:00",
          "2020-04-03T04:00:00",
          "2020-04-03T04:05:00",
          "2020-04-03T04:10:00",
          "2020-04-03T04:15:00",
          "2020-04-03T04:20:00",
          "2020-04-03T04:25:00",
          "2020-04-03T04:30:00",
          "2020-04-03T04:35:00",
          "2020-04-03T04:40:00",
          "2020-04-03T04:45:00",
          "2020-04-03T04:50:00",
          "2020-04-03T04:55:00",
          "2020-04-03T05:00:00",
          "2020-04-03T05:05:00",
          "2020-04-03T05:10:00",
          "2020-04-03T05:15:00",
          "2020-04-03T05:20:00",
          "2020-04-03T05:25:00",
          "2020-04-03T05:30:00",
          "2020-04-03T05:35:00",
          "2020-04-03T05:40:00",
          "2020-04-03T05:45:00",
          "2020-04-03T05:50:00",
          "2020-04-03T05:55:00",
          "2020-04-03T06:00:00",
          "2020-04-03T06:05:00",
          "2020-04-03T06:10:00",
          "2020-04-03T06:15:00",
          "2020-04-03T06:20:00",
          "2020-04-03T06:25:00",
          "2020-04-03T06:30:00",
          "2020-04-03T06:35:00",
          "2020-04-03T06:40:00",
          "2020-04-03T06:45:00",
          "2020-04-03T06:50:00",
          "2020-04-03T06:55:00",
          "2020-04-03T07:00:00",
          "2020-04-03T07:05:00",
          "2020-04-03T07:10:00",
          "2020-04-03T07:15:00",
          "2020-04-03T07:20:00",
          "2020-04-03T07:25:00",
          "2020-04-03T07:30:00",
          "2020-04-03T07:35:00",
          "2020-04-03T07:40:00",
          "2020-04-03T07:45:00",
          "2020-04-03T07:50:00",
          "2020-04-03T07:55:00",
          "2020-04-03T08:00:00",
          "2020-04-03T08:05:00",
          "2020-04-03T08:10:00",
          "2020-04-03T08:15:00",
          "2020-04-03T08:20:00",
          "2020-04-03T08:25:00",
          "2020-04-03T08:30:00",
          "2020-04-03T08:35:00",
          "2020-04-03T08:40:00",
          "2020-04-03T08:45:00",
          "2020-04-03T08:50:00",
          "2020-04-03T08:55:00",
          "2020-04-03T09:00:00",
          "2020-04-03T09:05:00",
          "2020-04-03T09:10:00",
          "2020-04-03T09:15:00",
          "2020-04-03T09:20:00",
          "2020-04-03T09:25:00",
          "2020-04-03T09:30:00",
          "2020-04-03T09:35:00",
          "2020-04-03T09:40:00",
          "2020-04-03T09:45:00",
          "2020-04-03T09:50:00",
          "2020-04-03T09:55:00",
          "2020-04-03T10:00:00",
          "2020-04-03T10:05:00",
          "2020-04-03T10:10:00",
          "2020-04-03T10:15:00",
          "2020-04-03T10:20:00",
          "2020-04-03T10:25:00",
          "2020-04-03T10:30:00",
          "2020-04-03T10:35:00",
          "2020-04-03T10:40:00",
          "2020-04-03T10:45:00",
          "2020-04-03T10:50:00",
          "2020-04-03T10:55:00",
          "2020-04-03T11:00:00",
          "2020-04-03T11:05:00",
          "2020-04-03T11:10:00",
          "2020-04-03T11:15:00",
          "2020-04-03T11:20:00",
          "2020-04-03T11:25:00",
          "2020-04-03T11:30:00",
          "2020-04-03T11:35:00",
          "2020-04-03T11:40:00",
          "2020-04-03T11:45:00",
          "2020-04-03T11:50:00",
          "2020-04-03T11:55:00",
          "2020-04-03T12:00:00",
          "2020-04-03T12:05:00",
          "2020-04-03T12:10:00",
          "2020-04-03T12:15:00",
          "2020-04-03T12:20:00",
          "2020-04-03T12:25:00",
          "2020-04-03T12:30:00",
          "2020-04-03T12:35:00",
          "2020-04-03T12:40:00",
          "2020-04-03T12:45:00",
          "2020-04-03T12:50:00",
          "2020-04-03T12:55:00",
          "2020-04-03T13:00:00",
          "2020-04-03T13:05:00",
          "2020-04-03T13:10:00",
          "2020-04-03T13:15:00",
          "2020-04-03T13:20:00",
          "2020-04-03T13:25:00",
          "2020-04-03T13:30:00",
          "2020-04-03T13:35:00",
          "2020-04-03T13:40:00",
          "2020-04-03T13:45:00",
          "2020-04-03T13:50:00",
          "2020-04-03T13:55:00",
          "2020-04-03T14:00:00",
          "2020-04-03T14:05:00",
          "2020-04-03T14:10:00",
          "2020-04-03T14:15:00",
          "2020-04-03T14:20:00",
          "2020-04-03T14:25:00",
          "2020-04-03T14:30:00",
          "2020-04-03T14:35:00",
          "2020-04-03T14:40:00",
          "2020-04-03T14:45:00",
          "2020-04-03T14:50:00",
          "2020-04-03T14:55:00",
          "2020-04-03T15:00:00",
          "2020-04-03T15:05:00",
          "2020-04-03T15:10:00",
          "2020-04-03T15:15:00",
          "2020-04-03T15:20:00",
          "2020-04-03T15:25:00",
          "2020-04-03T15:30:00",
          "2020-04-03T15:35:00",
          "2020-04-03T15:40:00",
          "2020-04-03T15:45:00",
          "2020-04-03T15:50:00",
          "2020-04-03T15:55:00",
          "2020-04-03T16:00:00",
          "2020-04-03T16:05:00",
          "2020-04-03T16:10:00",
          "2020-04-03T16:15:00",
          "2020-04-03T16:20:00",
          "2020-04-03T16:25:00",
          "2020-04-03T16:30:00",
          "2020-04-03T16:35:00",
          "2020-04-03T16:40:00",
          "2020-04-03T16:45:00",
          "2020-04-03T16:50:00",
          "2020-04-03T16:55:00",
          "2020-04-03T17:00:00",
          "2020-04-03T17:05:00",
          "2020-04-03T17:10:00",
          "2020-04-03T17:15:00",
          "2020-04-03T17:20:00",
          "2020-04-03T17:25:00",
          "2020-04-03T17:30:00",
          "2020-04-03T17:35:00",
          "2020-04-03T17:40:00",
          "2020-04-03T17:45:00",
          "2020-04-03T17:50:00",
          "2020-04-03T17:55:00",
          "2020-04-03T18:00:00",
          "2020-04-03T18:05:00",
          "2020-04-03T18:10:00",
          "2020-04-03T18:15:00",
          "2020-04-03T18:20:00",
          "2020-04-03T18:25:00",
          "2020-04-03T18:30:00",
          "2020-04-03T18:35:00",
          "2020-04-03T18:40:00",
          "2020-04-03T18:45:00",
          "2020-04-03T18:50:00",
          "2020-04-03T18:55:00",
          "2020-04-03T19:00:00",
          "2020-04-03T19:05:00",
          "2020-04-03T19:10:00",
          "2020-04-03T19:15:00",
          "2020-04-03T19:20:00",
          "2020-04-03T19:25:00",
          "2020-04-03T19:30:00",
          "2020-04-03T19:35:00",
          "2020-04-03T19:40:00",
          "2020-04-03T19:45:00",
          "2020-04-03T19:50:00",
          "2020-04-03T19:55:00",
          "2020-04-03T20:00:00",
          "2020-04-03T20:05:00",
          "2020-04-03T20:10:00",
          "2020-04-03T20:15:00",
          "2020-04-03T20:20:00",
          "2020-04-03T20:25:00",
          "2020-04-03T20:30:00",
          "2020-04-03T20:35:00",
          "2020-04-03T20:40:00",
          "2020-04-03T20:45:00",
          "2020-04-03T20:50:00",
          "2020-04-03T20:55:00",
          "2020-04-03T21:00:00",
          "2020-04-03T21:10:00",
          "2020-04-03T21:15:00",
          "2020-04-03T21:20:00",
          "2020-04-03T21:25:00",
          "2020-04-03T21:30:00",
          "2020-04-03T21:35:00",
          "2020-04-03T21:40:00",
          "2020-04-03T21:45:00",
          "2020-04-03T21:50:00",
          "2020-04-03T21:55:00"
         ],
         "y": [
          1,
          0.9997236296637495,
          0.9999078765545831,
          0.9997236296637495,
          0.9996315062183326,
          0.9991708889912484,
          0.9995393827729158,
          0.9992630124366653,
          0.9996315062183326,
          0.9996315062183326,
          0.9992630124366653,
          0.9995393827729158,
          0.9989866421004147,
          0.9988023952095809,
          0.9991708889912484,
          0.9990787655458315,
          0.9988023952095809,
          0.9986181483187473,
          0.9986181483187473,
          0.9987102717641642,
          0.9986181483187473,
          0.9983417779824967,
          0.9992630124366653,
          0.9989866421004147,
          0.9992630124366653,
          0.9991708889912484,
          0.9992630124366653,
          0.9988023952095809,
          0.9996315062183326,
          0.9992630124366653,
          0.9997236296637495,
          0.9998157531091663,
          0.9999078765545831,
          1.0003684937816677,
          0.9999078765545831,
          1.0002763703362507,
          0.9997236296637495,
          0.9997236296637495,
          0.9997236296637495,
          0.9997236296637495,
          1.000184246890834,
          1.0003684937816677,
          1.0004606172270842,
          1.0004606172270842,
          0.9998157531091663,
          0.9997236296637495,
          0.9999078765545831,
          1.0006448641179182,
          1,
          1.0002763703362507,
          0.9998157531091663,
          0.9996315062183326,
          0.9996315062183326,
          0.9999078765545831,
          0.9996315062183326,
          0.9996315062183326,
          0.9995393827729158,
          0.999355135882082,
          0.9992630124366653,
          0.999355135882082,
          0.999355135882082,
          0.9996315062183326,
          0.9998157531091663,
          0.9990787655458315,
          0.9990787655458315,
          0.9989866421004147,
          0.9989866421004147,
          0.9987102717641642,
          0.9988023952095809,
          0.999355135882082,
          0.9990787655458315,
          0.9991708889912484,
          0.9992630124366653,
          0.9991708889912484,
          0.9988023952095809,
          0.999355135882082,
          0.9992630124366653,
          0.9996315062183326,
          0.9996315062183326,
          0.9998157531091663,
          0.9997236296637495,
          0.9997236296637495,
          0.9998157531091663,
          0.9996315062183326,
          0.9992630124366653,
          0.9990787655458315,
          0.9989866421004147,
          0.9984339014279136,
          0.9981575310916628,
          0.9984339014279136,
          0.9981575310916628,
          0.9979732842008291,
          0.9981575310916628,
          0.9984339014279136,
          0.9979732842008291,
          0.998065407646246,
          0.997420543528328,
          0.9971441731920775,
          0.9962229387379088,
          0.9958544449562414,
          0.9952095808383234,
          0.9950253339474898,
          0.9948410870566561,
          0.9952095808383234,
          0.9955780746199908,
          0.9952095808383234,
          0.9950253339474898,
          0.9942883463841548,
          0.9946568401658223,
          0.9952095808383234,
          0.9955780746199908,
          0.9952095808383234,
          0.9953017042837403,
          0.9959465684016583,
          0.9953938277291572,
          0.9953017042837403,
          0.9953017042837403,
          0.9952095808383234,
          0.994933210502073,
          0.9953017042837403,
          0.9948410870566561,
          0.9946568401658223,
          0.9942883463841548,
          0.9953938277291572,
          0.9953017042837403,
          0.9952095808383234,
          0.9952095808383234,
          0.994933210502073,
          0.9952095808383234,
          0.9956701980654077,
          0.9959465684016583,
          0.9963150621833257,
          0.9965914325195764,
          0.9964993090741595,
          0.9959465684016583,
          0.996038691847075,
          0.9961308152924919,
          0.9958544449562414,
          0.9955780746199908,
          0.9959465684016583,
          0.996038691847075,
          0.9962229387379088,
          0.9963150621833257,
          0.9955780746199908,
          0.9950253339474898,
          0.9946568401658223,
          0.9945647167204054,
          0.9943804698295716,
          0.9941962229387379,
          0.9941962229387379,
          0.9943804698295716,
          0.9943804698295716,
          0.9945647167204054,
          0.9942883463841548,
          0.9941040994933211,
          0.9941962229387379,
          0.9942883463841548,
          0.9941962229387379,
          0.9939198526024874,
          0.9945647167204054,
          0.9945647167204054,
          0.9953938277291572,
          0.9937356057116536,
          0.9953017042837403,
          0.9939198526024874,
          0.9942883463841548,
          0.9941962229387379,
          0.9933671119299863,
          0.9937356057116536,
          0.9941040994933211,
          0.9941040994933211,
          0.9947489636112392,
          0.9945647167204054,
          0.9948410870566561,
          0.9946568401658223,
          0.9940119760479043,
          0.9942883463841548,
          0.99355135882082,
          0.9943804698295716,
          0.9941962229387379,
          0.9945647167204054,
          0.9943804698295716,
          0.9940119760479043,
          0.9945647167204054,
          0.9945647167204054,
          0.9941962229387379,
          0.9933671119299863,
          0.99355135882082,
          0.9934592353754031,
          0.9931828650391527,
          0.9940119760479043,
          0.9950253339474898,
          0.9950253339474898,
          0.9952095808383234,
          0.9958544449562414,
          0.994933210502073,
          0.9941962229387379,
          0.9948410870566561,
          0.9945647167204054,
          0.9942883463841548,
          0.9939198526024874,
          0.9936434822662369,
          0.9940119760479043,
          0.9948410870566561,
          0.9942883463841548,
          0.9940119760479043,
          0.9934592353754031,
          0.99355135882082,
          0.9939198526024874,
          0.9942883463841548,
          0.9946568401658223,
          0.9945647167204054,
          0.9942883463841548,
          0.9940119760479043,
          0.9937356057116536,
          0.9937356057116536,
          0.9941962229387379,
          0.9942883463841548,
          0.9941040994933211,
          0.9936434822662369,
          0.9941040994933211,
          0.9945647167204054,
          0.9946568401658223,
          0.9945647167204054,
          0.9947489636112392,
          0.9952095808383234,
          0.994933210502073,
          0.9950253339474898,
          0.9954859511745741,
          0.9950253339474898,
          0.9958544449562414,
          0.9958544449562414,
          0.9961308152924919,
          0.9965914325195764,
          0.996038691847075,
          0.9964993090741595,
          0.9964993090741595,
          0.9962229387379088,
          0.9965914325195764,
          0.9964993090741595,
          0.9963150621833257,
          0.9964993090741595,
          0.9972362966374944,
          0.9971441731920775,
          0.9976969138645786,
          0.9975126669737449,
          0.997420543528328,
          0.996867802855827,
          0.996867802855827,
          0.9970520497466606,
          0.9966835559649933,
          0.9961308152924919,
          0.9962229387379088,
          0.9963150621833257,
          0.9965914325195764,
          0.9963150621833257,
          0.9958544449562414,
          0.9958544449562414,
          0.9961308152924919,
          0.9966835559649933,
          0.9958544449562414,
          0.9956701980654077,
          0.9964993090741595,
          0.9955780746199908,
          0.9962229387379088,
          0.9962229387379088,
          0.9962229387379088,
          0.9962229387379088,
          0.9962229387379088,
          0.9962229387379088,
          0.9962229387379088,
          0.9962229387379088,
          0.9962229387379088,
          0.9962229387379088,
          0.9962229387379088
         ]
        },
        {
         "mode": "lines",
         "name": "strategy",
         "type": "scatter",
         "x": [
          "2020-04-02T23:00:00",
          "2020-04-02T23:05:00",
          "2020-04-02T23:10:00",
          "2020-04-02T23:15:00",
          "2020-04-02T23:20:00",
          "2020-04-02T23:25:00",
          "2020-04-02T23:30:00",
          "2020-04-02T23:35:00",
          "2020-04-02T23:40:00",
          "2020-04-02T23:45:00",
          "2020-04-02T23:50:00",
          "2020-04-02T23:55:00",
          "2020-04-03T00:00:00",
          "2020-04-03T00:05:00",
          "2020-04-03T00:10:00",
          "2020-04-03T00:15:00",
          "2020-04-03T00:20:00",
          "2020-04-03T00:25:00",
          "2020-04-03T00:30:00",
          "2020-04-03T00:35:00",
          "2020-04-03T00:40:00",
          "2020-04-03T00:45:00",
          "2020-04-03T00:50:00",
          "2020-04-03T00:55:00",
          "2020-04-03T01:00:00",
          "2020-04-03T01:05:00",
          "2020-04-03T01:10:00",
          "2020-04-03T01:15:00",
          "2020-04-03T01:20:00",
          "2020-04-03T01:25:00",
          "2020-04-03T01:30:00",
          "2020-04-03T01:35:00",
          "2020-04-03T01:40:00",
          "2020-04-03T01:45:00",
          "2020-04-03T01:50:00",
          "2020-04-03T01:55:00",
          "2020-04-03T02:00:00",
          "2020-04-03T02:05:00",
          "2020-04-03T02:10:00",
          "2020-04-03T02:15:00",
          "2020-04-03T02:20:00",
          "2020-04-03T02:25:00",
          "2020-04-03T02:30:00",
          "2020-04-03T02:35:00",
          "2020-04-03T02:40:00",
          "2020-04-03T02:45:00",
          "2020-04-03T02:50:00",
          "2020-04-03T02:55:00",
          "2020-04-03T03:00:00",
          "2020-04-03T03:05:00",
          "2020-04-03T03:10:00",
          "2020-04-03T03:15:00",
          "2020-04-03T03:20:00",
          "2020-04-03T03:25:00",
          "2020-04-03T03:30:00",
          "2020-04-03T03:35:00",
          "2020-04-03T03:40:00",
          "2020-04-03T03:45:00",
          "2020-04-03T03:50:00",
          "2020-04-03T03:55:00",
          "2020-04-03T04:00:00",
          "2020-04-03T04:05:00",
          "2020-04-03T04:10:00",
          "2020-04-03T04:10:00",
          "2020-04-03T04:15:00",
          "2020-04-03T04:20:00",
          "2020-04-03T04:25:00",
          "2020-04-03T04:30:00",
          "2020-04-03T04:35:00",
          "2020-04-03T04:40:00",
          "2020-04-03T04:45:00",
          "2020-04-03T04:50:00",
          "2020-04-03T04:55:00",
          "2020-04-03T05:00:00",
          "2020-04-03T05:05:00",
          "2020-04-03T05:10:00",
          "2020-04-03T05:15:00",
          "2020-04-03T05:20:00",
          "2020-04-03T05:20:00",
          "2020-04-03T05:25:00",
          "2020-04-03T05:30:00",
          "2020-04-03T05:35:00",
          "2020-04-03T05:40:00",
          "2020-04-03T05:45:00",
          "2020-04-03T05:50:00",
          "2020-04-03T05:55:00",
          "2020-04-03T06:00:00",
          "2020-04-03T06:05:00",
          "2020-04-03T06:10:00",
          "2020-04-03T06:15:00",
          "2020-04-03T06:20:00",
          "2020-04-03T06:25:00",
          "2020-04-03T06:30:00",
          "2020-04-03T06:35:00",
          "2020-04-03T06:35:00",
          "2020-04-03T06:40:00",
          "2020-04-03T06:45:00",
          "2020-04-03T06:50:00",
          "2020-04-03T06:55:00",
          "2020-04-03T07:00:00",
          "2020-04-03T07:05:00",
          "2020-04-03T07:10:00",
          "2020-04-03T07:15:00",
          "2020-04-03T07:20:00",
          "2020-04-03T07:25:00",
          "2020-04-03T07:25:00",
          "2020-04-03T07:30:00",
          "2020-04-03T07:35:00",
          "2020-04-03T07:40:00",
          "2020-04-03T07:45:00",
          "2020-04-03T07:50:00",
          "2020-04-03T07:55:00",
          "2020-04-03T08:00:00",
          "2020-04-03T08:05:00",
          "2020-04-03T08:10:00",
          "2020-04-03T08:15:00",
          "2020-04-03T08:20:00",
          "2020-04-03T08:25:00",
          "2020-04-03T08:30:00",
          "2020-04-03T08:35:00",
          "2020-04-03T08:40:00",
          "2020-04-03T08:45:00",
          "2020-04-03T08:50:00",
          "2020-04-03T08:55:00",
          "2020-04-03T09:00:00",
          "2020-04-03T09:05:00",
          "2020-04-03T09:10:00",
          "2020-04-03T09:15:00",
          "2020-04-03T09:20:00",
          "2020-04-03T09:25:00",
          "2020-04-03T09:30:00",
          "2020-04-03T09:35:00",
          "2020-04-03T09:40:00",
          "2020-04-03T09:45:00",
          "2020-04-03T09:50:00",
          "2020-04-03T09:55:00",
          "2020-04-03T10:00:00",
          "2020-04-03T10:05:00",
          "2020-04-03T10:10:00",
          "2020-04-03T10:15:00",
          "2020-04-03T10:20:00",
          "2020-04-03T10:25:00",
          "2020-04-03T10:30:00",
          "2020-04-03T10:35:00",
          "2020-04-03T10:40:00",
          "2020-04-03T10:45:00",
          "2020-04-03T10:50:00",
          "2020-04-03T10:55:00",
          "2020-04-03T11:00:00",
          "2020-04-03T11:05:00",
          "2020-04-03T11:10:00",
          "2020-04-03T11:15:00",
          "2020-04-03T11:20:00",
          "2020-04-03T11:20:00",
          "2020-04-03T11:25:00",
          "2020-04-03T11:30:00",
          "2020-04-03T11:35:00",
          "2020-04-03T11:40:00",
          "2020-04-03T11:45:00",
          "2020-04-03T11:50:00",
          "2020-04-03T11:55:00",
          "2020-04-03T12:00:00",
          "2020-04-03T12:05:00",
          "2020-04-03T12:10:00",
          "2020-04-03T12:15:00",
          "2020-04-03T12:20:00",
          "2020-04-03T12:25:00",
          "2020-04-03T12:30:00",
          "2020-04-03T12:35:00",
          "2020-04-03T12:40:00",
          "2020-04-03T12:45:00",
          "2020-04-03T12:50:00",
          "2020-04-03T12:55:00",
          "2020-04-03T13:00:00",
          "2020-04-03T13:05:00",
          "2020-04-03T13:10:00",
          "2020-04-03T13:15:00",
          "2020-04-03T13:20:00",
          "2020-04-03T13:25:00",
          "2020-04-03T13:30:00",
          "2020-04-03T13:35:00",
          "2020-04-03T13:40:00",
          "2020-04-03T13:45:00",
          "2020-04-03T13:50:00",
          "2020-04-03T13:55:00",
          "2020-04-03T14:00:00",
          "2020-04-03T14:05:00",
          "2020-04-03T14:05:00",
          "2020-04-03T14:10:00",
          "2020-04-03T14:15:00",
          "2020-04-03T14:20:00",
          "2020-04-03T14:25:00",
          "2020-04-03T14:30:00",
          "2020-04-03T14:35:00",
          "2020-04-03T14:40:00",
          "2020-04-03T14:45:00",
          "2020-04-03T14:50:00",
          "2020-04-03T14:55:00",
          "2020-04-03T15:00:00",
          "2020-04-03T15:05:00",
          "2020-04-03T15:10:00",
          "2020-04-03T15:15:00",
          "2020-04-03T15:20:00",
          "2020-04-03T15:25:00",
          "2020-04-03T15:30:00",
          "2020-04-03T15:35:00",
          "2020-04-03T15:40:00",
          "2020-04-03T15:45:00",
          "2020-04-03T15:50:00",
          "2020-04-03T15:55:00",
          "2020-04-03T16:00:00",
          "2020-04-03T16:05:00",
          "2020-04-03T16:10:00",
          "2020-04-03T16:15:00",
          "2020-04-03T16:20:00",
          "2020-04-03T16:25:00",
          "2020-04-03T16:25:00",
          "2020-04-03T16:30:00",
          "2020-04-03T16:35:00",
          "2020-04-03T16:40:00",
          "2020-04-03T16:45:00",
          "2020-04-03T16:50:00",
          "2020-04-03T16:55:00",
          "2020-04-03T17:00:00",
          "2020-04-03T17:05:00",
          "2020-04-03T17:10:00",
          "2020-04-03T17:15:00",
          "2020-04-03T17:20:00",
          "2020-04-03T17:25:00",
          "2020-04-03T17:30:00",
          "2020-04-03T17:35:00",
          "2020-04-03T17:40:00",
          "2020-04-03T17:45:00",
          "2020-04-03T17:50:00",
          "2020-04-03T17:55:00",
          "2020-04-03T18:00:00",
          "2020-04-03T18:05:00",
          "2020-04-03T18:10:00",
          "2020-04-03T18:15:00",
          "2020-04-03T18:20:00",
          "2020-04-03T18:25:00",
          "2020-04-03T18:30:00",
          "2020-04-03T18:35:00",
          "2020-04-03T18:40:00",
          "2020-04-03T18:45:00",
          "2020-04-03T18:50:00",
          "2020-04-03T18:55:00",
          "2020-04-03T19:00:00",
          "2020-04-03T19:05:00",
          "2020-04-03T19:05:00",
          "2020-04-03T19:10:00",
          "2020-04-03T19:15:00",
          "2020-04-03T19:20:00",
          "2020-04-03T19:25:00",
          "2020-04-03T19:30:00",
          "2020-04-03T19:35:00",
          "2020-04-03T19:40:00",
          "2020-04-03T19:45:00",
          "2020-04-03T19:50:00",
          "2020-04-03T19:55:00",
          "2020-04-03T20:00:00",
          "2020-04-03T20:00:00",
          "2020-04-03T20:05:00",
          "2020-04-03T20:10:00",
          "2020-04-03T20:15:00",
          "2020-04-03T20:20:00",
          "2020-04-03T20:25:00",
          "2020-04-03T20:30:00",
          "2020-04-03T20:35:00",
          "2020-04-03T20:40:00",
          "2020-04-03T20:45:00",
          "2020-04-03T20:50:00",
          "2020-04-03T20:55:00",
          "2020-04-03T21:00:00",
          "2020-04-03T21:10:00",
          "2020-04-03T21:15:00",
          "2020-04-03T21:20:00",
          "2020-04-03T21:25:00",
          "2020-04-03T21:30:00",
          "2020-04-03T21:35:00",
          "2020-04-03T21:40:00",
          "2020-04-03T21:45:00",
          "2020-04-03T21:50:00",
          "2020-04-03T21:50:00",
          "2020-04-03T21:55:00"
         ],
         "y": [
          1,
          1,
          1,
          1,
          1,
          1,
          1,
          1,
          1,
          1,
          1,
          1,
          1,
          1,
          1,
          1,
          1,
          1,
          1,
          1,
          1,
          1,
          1,
          1,
          1,
          1,
          1,
          1,
          1,
          1,
          1,
          1,
          1,
          1,
          1,
          1,
          1,
          1,
          1,
          1,
          1,
          1,
          1,
          1,
          1,
          1,
          1,
          1,
          1,
          1,
          1,
          1,
          1,
          1,
          1,
          1,
          1.0000384950458847,
          0.9999463376410372,
          0.9999848326869222,
          0.9999463376410372,
          1.0001154851376544,
          1.0002537212449256,
          1.0003458786497732,
          1.0003458786497732,
          1.0003458786497732,
          1.0003458786497732,
          1.0003458786497732,
          1.0003458786497732,
          1.0003458786497732,
          1.0003458786497732,
          1.0003458786497732,
          1.0003458786497732,
          1.0003458786497732,
          1.0003458786497732,
          1.0003458786497732,
          1.0003154207859162,
          1.0008688114619162,
          1.0009458143093213,
          1.0009458143093213,
          1.0009458143093213,
          1.0009458143093213,
          1.0009458143093213,
          1.0009458143093213,
          1.0009458143093213,
          1.0009458143093213,
          1.0009458143093213,
          1.0009458143093213,
          1.0009458143093213,
          1.0009458143093213,
          1.0009458143093213,
          1.0009458143093213,
          1.0019005304114343,
          1.0012846011816545,
          1.0017774133546908,
          1.0017774133546908,
          1.0017774133546908,
          1.0017774133546908,
          1.0017774133546908,
          1.0017774133546908,
          1.0017774133546908,
          1.0017774133546908,
          1.0017774133546908,
          1.0017774133546908,
          1.0021485075970367,
          1.002133130503188,
          1.002133130503188,
          1.002133130503188,
          1.002133130503188,
          1.002133130503188,
          1.002133130503188,
          1.002133130503188,
          1.002133130503188,
          1.002133130503188,
          1.002133130503188,
          1.002133130503188,
          1.002133130503188,
          1.002133130503188,
          1.002133130503188,
          1.002133130503188,
          1.002133130503188,
          1.002133130503188,
          1.002133130503188,
          1.002133130503188,
          1.002133130503188,
          1.002133130503188,
          1.002133130503188,
          1.002133130503188,
          1.002133130503188,
          1.002133130503188,
          1.002133130503188,
          1.002133130503188,
          1.002133130503188,
          1.0030543039500215,
          1.0027617168210494,
          1.0031688000846564,
          1.002112186088316,
          1.001833815774287,
          1.002097969273372,
          1.0019692563237943,
          1.001705102824709,
          1.0022977662976684,
          1.0024047732172883,
          1.0031972337145434,
          1.0029974366902477,
          1.0037614635576155,
          1.0039186101370812,
          1.0041685468212227,
          1.003539960503361,
          1.003068520764965,
          1.003268317789261,
          1.0033611078939375,
          1.00354668810329,
          1.0039036317070509,
          1.0039036317070509,
          1.0039036317070509,
          1.0039036317070509,
          1.0039036317070509,
          1.0039036317070509,
          1.0039036317070509,
          1.0039036317070509,
          1.0039036317070509,
          1.0039036317070509,
          1.0039036317070509,
          1.0039036317070509,
          1.0039036317070509,
          1.0038179305262667,
          1.0039792751445922,
          1.0038279882695098,
          1.0031614702774583,
          1.0030639649418178,
          1.003249941902119,
          1.0033748500236124,
          1.0032992065860715,
          1.0033137811848043,
          1.0032426546027526,
          1.0027284475180471,
          1.002882504837006,
          1.0027895163568552,
          1.0025861943539442,
          1.0027503094161465,
          1.0022534473740503,
          1.0027357348174137,
          1.0027922868007322,
          1.0033821373229788,
          1.0031177464812595,
          1.0034751258031294,
          1.0033821373229788,
          1.0033821373229788,
          1.0033821373229788,
          1.0033821373229788,
          1.0033821373229788,
          1.0033821373229788,
          1.0033821373229788,
          1.0033821373229788,
          1.0033821373229788,
          1.0033821373229788,
          1.0033821373229788,
          1.0033821373229788,
          1.0033821373229788,
          1.0033821373229788,
          1.0033821373229788,
          1.0033821373229788,
          1.0033821373229788,
          1.0033821373229788,
          1.0033821373229788,
          1.0033821373229788,
          1.0033821373229788,
          1.0033821373229788,
          1.0033821373229788,
          1.0033821373229788,
          1.0033821373229788,
          1.0033821373229788,
          1.0033821373229788,
          1.0038031214614431,
          1.003430947078163,
          1.0030587726948832,
          1.0030587726948832,
          1.0030587726948832,
          1.0030587726948832,
          1.0030587726948832,
          1.0030587726948832,
          1.0030587726948832,
          1.0030587726948832,
          1.0028263033399434,
          1.002779809468955,
          1.0025302809832737,
          1.0024202341105564,
          1.002359022869445,
          1.0024690697421625,
          1.0023369468142602,
          1.0022978116283339,
          1.0021191948294437,
          1.0020579835883323,
          1.0021974652012964,
          1.002322229444137,
          1.0019185019753682,
          1.0021509713303083,
          1.0019894136621594,
          1.0019894136621594,
          1.0020211901630243,
          1.0021312370357416,
          1.0020676840340121,
          1.0021777309067297,
          1.0020921018498152,
          1.0023172125196937,
          1.0023024951495703,
          1.0024346180774726,
          1.0022707186487059,
          1.0021777309067297,
          1.0021777309067297,
          1.0021777309067297,
          1.0021777309067297,
          1.0021777309067297,
          1.0021777309067297,
          1.0021777309067297,
          1.0021777309067297,
          1.0021777309067297,
          1.0021777309067297,
          1.0025337992740486,
          1.0023844046513486,
          1.0021672318394539,
          1.0021672318394539,
          1.0021672318394539,
          1.0021672318394539,
          1.0021672318394539,
          1.0021672318394539,
          1.0021672318394539,
          1.0021672318394539,
          1.0021672318394539,
          1.0021672318394539,
          1.0021672318394539,
          1.0021672318394539,
          1.0021672318394539,
          1.0021672318394539,
          1.0021672318394539,
          1.0021672318394539,
          1.0021672318394539,
          1.0021672318394539,
          1.0021672318394539,
          1.0021672318394539,
          1.0021672318394539,
          1.0021672318394539,
          1.0021672318394539,
          1.0021672318394539,
          1.0021672318394539
         ]
        }
       ],
       "layout": {
        "template": {
         "data": {
          "bar": [
           {
            "error_x": {
             "color": "#2a3f5f"
            },
            "error_y": {
             "color": "#2a3f5f"
            },
            "marker": {
             "line": {
              "color": "#E5ECF6",
              "width": 0.5
             }
            },
            "type": "bar"
           }
          ],
          "barpolar": [
           {
            "marker": {
             "line": {
              "color": "#E5ECF6",
              "width": 0.5
             }
            },
            "type": "barpolar"
           }
          ],
          "carpet": [
           {
            "aaxis": {
             "endlinecolor": "#2a3f5f",
             "gridcolor": "white",
             "linecolor": "white",
             "minorgridcolor": "white",
             "startlinecolor": "#2a3f5f"
            },
            "baxis": {
             "endlinecolor": "#2a3f5f",
             "gridcolor": "white",
             "linecolor": "white",
             "minorgridcolor": "white",
             "startlinecolor": "#2a3f5f"
            },
            "type": "carpet"
           }
          ],
          "choropleth": [
           {
            "colorbar": {
             "outlinewidth": 0,
             "ticks": ""
            },
            "type": "choropleth"
           }
          ],
          "contour": [
           {
            "colorbar": {
             "outlinewidth": 0,
             "ticks": ""
            },
            "colorscale": [
             [
              0,
              "#0d0887"
             ],
             [
              0.1111111111111111,
              "#46039f"
             ],
             [
              0.2222222222222222,
              "#7201a8"
             ],
             [
              0.3333333333333333,
              "#9c179e"
             ],
             [
              0.4444444444444444,
              "#bd3786"
             ],
             [
              0.5555555555555556,
              "#d8576b"
             ],
             [
              0.6666666666666666,
              "#ed7953"
             ],
             [
              0.7777777777777778,
              "#fb9f3a"
             ],
             [
              0.8888888888888888,
              "#fdca26"
             ],
             [
              1,
              "#f0f921"
             ]
            ],
            "type": "contour"
           }
          ],
          "contourcarpet": [
           {
            "colorbar": {
             "outlinewidth": 0,
             "ticks": ""
            },
            "type": "contourcarpet"
           }
          ],
          "heatmap": [
           {
            "colorbar": {
             "outlinewidth": 0,
             "ticks": ""
            },
            "colorscale": [
             [
              0,
              "#0d0887"
             ],
             [
              0.1111111111111111,
              "#46039f"
             ],
             [
              0.2222222222222222,
              "#7201a8"
             ],
             [
              0.3333333333333333,
              "#9c179e"
             ],
             [
              0.4444444444444444,
              "#bd3786"
             ],
             [
              0.5555555555555556,
              "#d8576b"
             ],
             [
              0.6666666666666666,
              "#ed7953"
             ],
             [
              0.7777777777777778,
              "#fb9f3a"
             ],
             [
              0.8888888888888888,
              "#fdca26"
             ],
             [
              1,
              "#f0f921"
             ]
            ],
            "type": "heatmap"
           }
          ],
          "heatmapgl": [
           {
            "colorbar": {
             "outlinewidth": 0,
             "ticks": ""
            },
            "colorscale": [
             [
              0,
              "#0d0887"
             ],
             [
              0.1111111111111111,
              "#46039f"
             ],
             [
              0.2222222222222222,
              "#7201a8"
             ],
             [
              0.3333333333333333,
              "#9c179e"
             ],
             [
              0.4444444444444444,
              "#bd3786"
             ],
             [
              0.5555555555555556,
              "#d8576b"
             ],
             [
              0.6666666666666666,
              "#ed7953"
             ],
             [
              0.7777777777777778,
              "#fb9f3a"
             ],
             [
              0.8888888888888888,
              "#fdca26"
             ],
             [
              1,
              "#f0f921"
             ]
            ],
            "type": "heatmapgl"
           }
          ],
          "histogram": [
           {
            "marker": {
             "colorbar": {
              "outlinewidth": 0,
              "ticks": ""
             }
            },
            "type": "histogram"
           }
          ],
          "histogram2d": [
           {
            "colorbar": {
             "outlinewidth": 0,
             "ticks": ""
            },
            "colorscale": [
             [
              0,
              "#0d0887"
             ],
             [
              0.1111111111111111,
              "#46039f"
             ],
             [
              0.2222222222222222,
              "#7201a8"
             ],
             [
              0.3333333333333333,
              "#9c179e"
             ],
             [
              0.4444444444444444,
              "#bd3786"
             ],
             [
              0.5555555555555556,
              "#d8576b"
             ],
             [
              0.6666666666666666,
              "#ed7953"
             ],
             [
              0.7777777777777778,
              "#fb9f3a"
             ],
             [
              0.8888888888888888,
              "#fdca26"
             ],
             [
              1,
              "#f0f921"
             ]
            ],
            "type": "histogram2d"
           }
          ],
          "histogram2dcontour": [
           {
            "colorbar": {
             "outlinewidth": 0,
             "ticks": ""
            },
            "colorscale": [
             [
              0,
              "#0d0887"
             ],
             [
              0.1111111111111111,
              "#46039f"
             ],
             [
              0.2222222222222222,
              "#7201a8"
             ],
             [
              0.3333333333333333,
              "#9c179e"
             ],
             [
              0.4444444444444444,
              "#bd3786"
             ],
             [
              0.5555555555555556,
              "#d8576b"
             ],
             [
              0.6666666666666666,
              "#ed7953"
             ],
             [
              0.7777777777777778,
              "#fb9f3a"
             ],
             [
              0.8888888888888888,
              "#fdca26"
             ],
             [
              1,
              "#f0f921"
             ]
            ],
            "type": "histogram2dcontour"
           }
          ],
          "mesh3d": [
           {
            "colorbar": {
             "outlinewidth": 0,
             "ticks": ""
            },
            "type": "mesh3d"
           }
          ],
          "parcoords": [
           {
            "line": {
             "colorbar": {
              "outlinewidth": 0,
              "ticks": ""
             }
            },
            "type": "parcoords"
           }
          ],
          "pie": [
           {
            "automargin": true,
            "type": "pie"
           }
          ],
          "scatter": [
           {
            "marker": {
             "colorbar": {
              "outlinewidth": 0,
              "ticks": ""
             }
            },
            "type": "scatter"
           }
          ],
          "scatter3d": [
           {
            "line": {
             "colorbar": {
              "outlinewidth": 0,
              "ticks": ""
             }
            },
            "marker": {
             "colorbar": {
              "outlinewidth": 0,
              "ticks": ""
             }
            },
            "type": "scatter3d"
           }
          ],
          "scattercarpet": [
           {
            "marker": {
             "colorbar": {
              "outlinewidth": 0,
              "ticks": ""
             }
            },
            "type": "scattercarpet"
           }
          ],
          "scattergeo": [
           {
            "marker": {
             "colorbar": {
              "outlinewidth": 0,
              "ticks": ""
             }
            },
            "type": "scattergeo"
           }
          ],
          "scattergl": [
           {
            "marker": {
             "colorbar": {
              "outlinewidth": 0,
              "ticks": ""
             }
            },
            "type": "scattergl"
           }
          ],
          "scattermapbox": [
           {
            "marker": {
             "colorbar": {
              "outlinewidth": 0,
              "ticks": ""
             }
            },
            "type": "scattermapbox"
           }
          ],
          "scatterpolar": [
           {
            "marker": {
             "colorbar": {
              "outlinewidth": 0,
              "ticks": ""
             }
            },
            "type": "scatterpolar"
           }
          ],
          "scatterpolargl": [
           {
            "marker": {
             "colorbar": {
              "outlinewidth": 0,
              "ticks": ""
             }
            },
            "type": "scatterpolargl"
           }
          ],
          "scatterternary": [
           {
            "marker": {
             "colorbar": {
              "outlinewidth": 0,
              "ticks": ""
             }
            },
            "type": "scatterternary"
           }
          ],
          "surface": [
           {
            "colorbar": {
             "outlinewidth": 0,
             "ticks": ""
            },
            "colorscale": [
             [
              0,
              "#0d0887"
             ],
             [
              0.1111111111111111,
              "#46039f"
             ],
             [
              0.2222222222222222,
              "#7201a8"
             ],
             [
              0.3333333333333333,
              "#9c179e"
             ],
             [
              0.4444444444444444,
              "#bd3786"
             ],
             [
              0.5555555555555556,
              "#d8576b"
             ],
             [
              0.6666666666666666,
              "#ed7953"
             ],
             [
              0.7777777777777778,
              "#fb9f3a"
             ],
             [
              0.8888888888888888,
              "#fdca26"
             ],
             [
              1,
              "#f0f921"
             ]
            ],
            "type": "surface"
           }
          ],
          "table": [
           {
            "cells": {
             "fill": {
              "color": "#EBF0F8"
             },
             "line": {
              "color": "white"
             }
            },
            "header": {
             "fill": {
              "color": "#C8D4E3"
             },
             "line": {
              "color": "white"
             }
            },
            "type": "table"
           }
          ]
         },
         "layout": {
          "annotationdefaults": {
           "arrowcolor": "#2a3f5f",
           "arrowhead": 0,
           "arrowwidth": 1
          },
          "coloraxis": {
           "colorbar": {
            "outlinewidth": 0,
            "ticks": ""
           }
          },
          "colorscale": {
           "diverging": [
            [
             0,
             "#8e0152"
            ],
            [
             0.1,
             "#c51b7d"
            ],
            [
             0.2,
             "#de77ae"
            ],
            [
             0.3,
             "#f1b6da"
            ],
            [
             0.4,
             "#fde0ef"
            ],
            [
             0.5,
             "#f7f7f7"
            ],
            [
             0.6,
             "#e6f5d0"
            ],
            [
             0.7,
             "#b8e186"
            ],
            [
             0.8,
             "#7fbc41"
            ],
            [
             0.9,
             "#4d9221"
            ],
            [
             1,
             "#276419"
            ]
           ],
           "sequential": [
            [
             0,
             "#0d0887"
            ],
            [
             0.1111111111111111,
             "#46039f"
            ],
            [
             0.2222222222222222,
             "#7201a8"
            ],
            [
             0.3333333333333333,
             "#9c179e"
            ],
            [
             0.4444444444444444,
             "#bd3786"
            ],
            [
             0.5555555555555556,
             "#d8576b"
            ],
            [
             0.6666666666666666,
             "#ed7953"
            ],
            [
             0.7777777777777778,
             "#fb9f3a"
            ],
            [
             0.8888888888888888,
             "#fdca26"
            ],
            [
             1,
             "#f0f921"
            ]
           ],
           "sequentialminus": [
            [
             0,
             "#0d0887"
            ],
            [
             0.1111111111111111,
             "#46039f"
            ],
            [
             0.2222222222222222,
             "#7201a8"
            ],
            [
             0.3333333333333333,
             "#9c179e"
            ],
            [
             0.4444444444444444,
             "#bd3786"
            ],
            [
             0.5555555555555556,
             "#d8576b"
            ],
            [
             0.6666666666666666,
             "#ed7953"
            ],
            [
             0.7777777777777778,
             "#fb9f3a"
            ],
            [
             0.8888888888888888,
             "#fdca26"
            ],
            [
             1,
             "#f0f921"
            ]
           ]
          },
          "colorway": [
           "#636efa",
           "#EF553B",
           "#00cc96",
           "#ab63fa",
           "#FFA15A",
           "#19d3f3",
           "#FF6692",
           "#B6E880",
           "#FF97FF",
           "#FECB52"
          ],
          "font": {
           "color": "#2a3f5f"
          },
          "geo": {
           "bgcolor": "white",
           "lakecolor": "white",
           "landcolor": "#E5ECF6",
           "showlakes": true,
           "showland": true,
           "subunitcolor": "white"
          },
          "hoverlabel": {
           "align": "left"
          },
          "hovermode": "closest",
          "mapbox": {
           "style": "light"
          },
          "paper_bgcolor": "white",
          "plot_bgcolor": "#E5ECF6",
          "polar": {
           "angularaxis": {
            "gridcolor": "white",
            "linecolor": "white",
            "ticks": ""
           },
           "bgcolor": "#E5ECF6",
           "radialaxis": {
            "gridcolor": "white",
            "linecolor": "white",
            "ticks": ""
           }
          },
          "scene": {
           "xaxis": {
            "backgroundcolor": "#E5ECF6",
            "gridcolor": "white",
            "gridwidth": 2,
            "linecolor": "white",
            "showbackground": true,
            "ticks": "",
            "zerolinecolor": "white"
           },
           "yaxis": {
            "backgroundcolor": "#E5ECF6",
            "gridcolor": "white",
            "gridwidth": 2,
            "linecolor": "white",
            "showbackground": true,
            "ticks": "",
            "zerolinecolor": "white"
           },
           "zaxis": {
            "backgroundcolor": "#E5ECF6",
            "gridcolor": "white",
            "gridwidth": 2,
            "linecolor": "white",
            "showbackground": true,
            "ticks": "",
            "zerolinecolor": "white"
           }
          },
          "shapedefaults": {
           "line": {
            "color": "#2a3f5f"
           }
          },
          "ternary": {
           "aaxis": {
            "gridcolor": "white",
            "linecolor": "white",
            "ticks": ""
           },
           "baxis": {
            "gridcolor": "white",
            "linecolor": "white",
            "ticks": ""
           },
           "bgcolor": "#E5ECF6",
           "caxis": {
            "gridcolor": "white",
            "linecolor": "white",
            "ticks": ""
           }
          },
          "title": {
           "x": 0.05
          },
          "xaxis": {
           "automargin": true,
           "gridcolor": "white",
           "linecolor": "white",
           "ticks": "",
           "title": {
            "standoff": 15
           },
           "zerolinecolor": "white",
           "zerolinewidth": 2
          },
          "yaxis": {
           "automargin": true,
           "gridcolor": "white",
           "linecolor": "white",
           "ticks": "",
           "title": {
            "standoff": 15
           },
           "zerolinecolor": "white",
           "zerolinewidth": 2
          }
         }
        }
       }
      },
      "text/html": [
       "<div>\n",
       "        \n",
       "        \n",
       "            <div id=\"2806e2f7-9415-4c03-9f37-8ae781e7915f\" class=\"plotly-graph-div\" style=\"height:525px; width:100%;\"></div>\n",
       "            <script type=\"text/javascript\">\n",
       "                require([\"plotly\"], function(Plotly) {\n",
       "                    window.PLOTLYENV=window.PLOTLYENV || {};\n",
       "                    \n",
       "                if (document.getElementById(\"2806e2f7-9415-4c03-9f37-8ae781e7915f\")) {\n",
       "                    Plotly.newPlot(\n",
       "                        '2806e2f7-9415-4c03-9f37-8ae781e7915f',\n",
       "                        [{\"mode\": \"lines\", \"name\": \"benchmark\", \"type\": \"scatter\", \"x\": [\"2020-04-02T23:00:00\", \"2020-04-02T23:05:00\", \"2020-04-02T23:10:00\", \"2020-04-02T23:15:00\", \"2020-04-02T23:20:00\", \"2020-04-02T23:25:00\", \"2020-04-02T23:30:00\", \"2020-04-02T23:35:00\", \"2020-04-02T23:40:00\", \"2020-04-02T23:45:00\", \"2020-04-02T23:50:00\", \"2020-04-02T23:55:00\", \"2020-04-03T00:00:00\", \"2020-04-03T00:05:00\", \"2020-04-03T00:10:00\", \"2020-04-03T00:15:00\", \"2020-04-03T00:20:00\", \"2020-04-03T00:25:00\", \"2020-04-03T00:30:00\", \"2020-04-03T00:35:00\", \"2020-04-03T00:40:00\", \"2020-04-03T00:45:00\", \"2020-04-03T00:50:00\", \"2020-04-03T00:55:00\", \"2020-04-03T01:00:00\", \"2020-04-03T01:05:00\", \"2020-04-03T01:10:00\", \"2020-04-03T01:15:00\", \"2020-04-03T01:20:00\", \"2020-04-03T01:25:00\", \"2020-04-03T01:30:00\", \"2020-04-03T01:35:00\", \"2020-04-03T01:40:00\", \"2020-04-03T01:45:00\", \"2020-04-03T01:50:00\", \"2020-04-03T01:55:00\", \"2020-04-03T02:00:00\", \"2020-04-03T02:05:00\", \"2020-04-03T02:10:00\", \"2020-04-03T02:15:00\", \"2020-04-03T02:20:00\", \"2020-04-03T02:25:00\", \"2020-04-03T02:30:00\", \"2020-04-03T02:35:00\", \"2020-04-03T02:40:00\", \"2020-04-03T02:45:00\", \"2020-04-03T02:50:00\", \"2020-04-03T02:55:00\", \"2020-04-03T03:00:00\", \"2020-04-03T03:05:00\", \"2020-04-03T03:10:00\", \"2020-04-03T03:15:00\", \"2020-04-03T03:20:00\", \"2020-04-03T03:25:00\", \"2020-04-03T03:30:00\", \"2020-04-03T03:35:00\", \"2020-04-03T03:40:00\", \"2020-04-03T03:45:00\", \"2020-04-03T03:50:00\", \"2020-04-03T03:55:00\", \"2020-04-03T04:00:00\", \"2020-04-03T04:05:00\", \"2020-04-03T04:10:00\", \"2020-04-03T04:15:00\", \"2020-04-03T04:20:00\", \"2020-04-03T04:25:00\", \"2020-04-03T04:30:00\", \"2020-04-03T04:35:00\", \"2020-04-03T04:40:00\", \"2020-04-03T04:45:00\", \"2020-04-03T04:50:00\", \"2020-04-03T04:55:00\", \"2020-04-03T05:00:00\", \"2020-04-03T05:05:00\", \"2020-04-03T05:10:00\", \"2020-04-03T05:15:00\", \"2020-04-03T05:20:00\", \"2020-04-03T05:25:00\", \"2020-04-03T05:30:00\", \"2020-04-03T05:35:00\", \"2020-04-03T05:40:00\", \"2020-04-03T05:45:00\", \"2020-04-03T05:50:00\", \"2020-04-03T05:55:00\", \"2020-04-03T06:00:00\", \"2020-04-03T06:05:00\", \"2020-04-03T06:10:00\", \"2020-04-03T06:15:00\", \"2020-04-03T06:20:00\", \"2020-04-03T06:25:00\", \"2020-04-03T06:30:00\", \"2020-04-03T06:35:00\", \"2020-04-03T06:40:00\", \"2020-04-03T06:45:00\", \"2020-04-03T06:50:00\", \"2020-04-03T06:55:00\", \"2020-04-03T07:00:00\", \"2020-04-03T07:05:00\", \"2020-04-03T07:10:00\", \"2020-04-03T07:15:00\", \"2020-04-03T07:20:00\", \"2020-04-03T07:25:00\", \"2020-04-03T07:30:00\", \"2020-04-03T07:35:00\", \"2020-04-03T07:40:00\", \"2020-04-03T07:45:00\", \"2020-04-03T07:50:00\", \"2020-04-03T07:55:00\", \"2020-04-03T08:00:00\", \"2020-04-03T08:05:00\", \"2020-04-03T08:10:00\", \"2020-04-03T08:15:00\", \"2020-04-03T08:20:00\", \"2020-04-03T08:25:00\", \"2020-04-03T08:30:00\", \"2020-04-03T08:35:00\", \"2020-04-03T08:40:00\", \"2020-04-03T08:45:00\", \"2020-04-03T08:50:00\", \"2020-04-03T08:55:00\", \"2020-04-03T09:00:00\", \"2020-04-03T09:05:00\", \"2020-04-03T09:10:00\", \"2020-04-03T09:15:00\", \"2020-04-03T09:20:00\", \"2020-04-03T09:25:00\", \"2020-04-03T09:30:00\", \"2020-04-03T09:35:00\", \"2020-04-03T09:40:00\", \"2020-04-03T09:45:00\", \"2020-04-03T09:50:00\", \"2020-04-03T09:55:00\", \"2020-04-03T10:00:00\", \"2020-04-03T10:05:00\", \"2020-04-03T10:10:00\", \"2020-04-03T10:15:00\", \"2020-04-03T10:20:00\", \"2020-04-03T10:25:00\", \"2020-04-03T10:30:00\", \"2020-04-03T10:35:00\", \"2020-04-03T10:40:00\", \"2020-04-03T10:45:00\", \"2020-04-03T10:50:00\", \"2020-04-03T10:55:00\", \"2020-04-03T11:00:00\", \"2020-04-03T11:05:00\", \"2020-04-03T11:10:00\", \"2020-04-03T11:15:00\", \"2020-04-03T11:20:00\", \"2020-04-03T11:25:00\", \"2020-04-03T11:30:00\", \"2020-04-03T11:35:00\", \"2020-04-03T11:40:00\", \"2020-04-03T11:45:00\", \"2020-04-03T11:50:00\", \"2020-04-03T11:55:00\", \"2020-04-03T12:00:00\", \"2020-04-03T12:05:00\", \"2020-04-03T12:10:00\", \"2020-04-03T12:15:00\", \"2020-04-03T12:20:00\", \"2020-04-03T12:25:00\", \"2020-04-03T12:30:00\", \"2020-04-03T12:35:00\", \"2020-04-03T12:40:00\", \"2020-04-03T12:45:00\", \"2020-04-03T12:50:00\", \"2020-04-03T12:55:00\", \"2020-04-03T13:00:00\", \"2020-04-03T13:05:00\", \"2020-04-03T13:10:00\", \"2020-04-03T13:15:00\", \"2020-04-03T13:20:00\", \"2020-04-03T13:25:00\", \"2020-04-03T13:30:00\", \"2020-04-03T13:35:00\", \"2020-04-03T13:40:00\", \"2020-04-03T13:45:00\", \"2020-04-03T13:50:00\", \"2020-04-03T13:55:00\", \"2020-04-03T14:00:00\", \"2020-04-03T14:05:00\", \"2020-04-03T14:10:00\", \"2020-04-03T14:15:00\", \"2020-04-03T14:20:00\", \"2020-04-03T14:25:00\", \"2020-04-03T14:30:00\", \"2020-04-03T14:35:00\", \"2020-04-03T14:40:00\", \"2020-04-03T14:45:00\", \"2020-04-03T14:50:00\", \"2020-04-03T14:55:00\", \"2020-04-03T15:00:00\", \"2020-04-03T15:05:00\", \"2020-04-03T15:10:00\", \"2020-04-03T15:15:00\", \"2020-04-03T15:20:00\", \"2020-04-03T15:25:00\", \"2020-04-03T15:30:00\", \"2020-04-03T15:35:00\", \"2020-04-03T15:40:00\", \"2020-04-03T15:45:00\", \"2020-04-03T15:50:00\", \"2020-04-03T15:55:00\", \"2020-04-03T16:00:00\", \"2020-04-03T16:05:00\", \"2020-04-03T16:10:00\", \"2020-04-03T16:15:00\", \"2020-04-03T16:20:00\", \"2020-04-03T16:25:00\", \"2020-04-03T16:30:00\", \"2020-04-03T16:35:00\", \"2020-04-03T16:40:00\", \"2020-04-03T16:45:00\", \"2020-04-03T16:50:00\", \"2020-04-03T16:55:00\", \"2020-04-03T17:00:00\", \"2020-04-03T17:05:00\", \"2020-04-03T17:10:00\", \"2020-04-03T17:15:00\", \"2020-04-03T17:20:00\", \"2020-04-03T17:25:00\", \"2020-04-03T17:30:00\", \"2020-04-03T17:35:00\", \"2020-04-03T17:40:00\", \"2020-04-03T17:45:00\", \"2020-04-03T17:50:00\", \"2020-04-03T17:55:00\", \"2020-04-03T18:00:00\", \"2020-04-03T18:05:00\", \"2020-04-03T18:10:00\", \"2020-04-03T18:15:00\", \"2020-04-03T18:20:00\", \"2020-04-03T18:25:00\", \"2020-04-03T18:30:00\", \"2020-04-03T18:35:00\", \"2020-04-03T18:40:00\", \"2020-04-03T18:45:00\", \"2020-04-03T18:50:00\", \"2020-04-03T18:55:00\", \"2020-04-03T19:00:00\", \"2020-04-03T19:05:00\", \"2020-04-03T19:10:00\", \"2020-04-03T19:15:00\", \"2020-04-03T19:20:00\", \"2020-04-03T19:25:00\", \"2020-04-03T19:30:00\", \"2020-04-03T19:35:00\", \"2020-04-03T19:40:00\", \"2020-04-03T19:45:00\", \"2020-04-03T19:50:00\", \"2020-04-03T19:55:00\", \"2020-04-03T20:00:00\", \"2020-04-03T20:05:00\", \"2020-04-03T20:10:00\", \"2020-04-03T20:15:00\", \"2020-04-03T20:20:00\", \"2020-04-03T20:25:00\", \"2020-04-03T20:30:00\", \"2020-04-03T20:35:00\", \"2020-04-03T20:40:00\", \"2020-04-03T20:45:00\", \"2020-04-03T20:50:00\", \"2020-04-03T20:55:00\", \"2020-04-03T21:00:00\", \"2020-04-03T21:10:00\", \"2020-04-03T21:15:00\", \"2020-04-03T21:20:00\", \"2020-04-03T21:25:00\", \"2020-04-03T21:30:00\", \"2020-04-03T21:35:00\", \"2020-04-03T21:40:00\", \"2020-04-03T21:45:00\", \"2020-04-03T21:50:00\", \"2020-04-03T21:55:00\"], \"y\": [1.0, 0.9997236296637495, 0.9999078765545831, 0.9997236296637495, 0.9996315062183326, 0.9991708889912484, 0.9995393827729158, 0.9992630124366653, 0.9996315062183326, 0.9996315062183326, 0.9992630124366653, 0.9995393827729158, 0.9989866421004147, 0.9988023952095809, 0.9991708889912484, 0.9990787655458315, 0.9988023952095809, 0.9986181483187473, 0.9986181483187473, 0.9987102717641642, 0.9986181483187473, 0.9983417779824967, 0.9992630124366653, 0.9989866421004147, 0.9992630124366653, 0.9991708889912484, 0.9992630124366653, 0.9988023952095809, 0.9996315062183326, 0.9992630124366653, 0.9997236296637495, 0.9998157531091663, 0.9999078765545831, 1.0003684937816677, 0.9999078765545831, 1.0002763703362507, 0.9997236296637495, 0.9997236296637495, 0.9997236296637495, 0.9997236296637495, 1.000184246890834, 1.0003684937816677, 1.0004606172270842, 1.0004606172270842, 0.9998157531091663, 0.9997236296637495, 0.9999078765545831, 1.0006448641179182, 1.0, 1.0002763703362507, 0.9998157531091663, 0.9996315062183326, 0.9996315062183326, 0.9999078765545831, 0.9996315062183326, 0.9996315062183326, 0.9995393827729158, 0.999355135882082, 0.9992630124366653, 0.999355135882082, 0.999355135882082, 0.9996315062183326, 0.9998157531091663, 0.9990787655458315, 0.9990787655458315, 0.9989866421004147, 0.9989866421004147, 0.9987102717641642, 0.9988023952095809, 0.999355135882082, 0.9990787655458315, 0.9991708889912484, 0.9992630124366653, 0.9991708889912484, 0.9988023952095809, 0.999355135882082, 0.9992630124366653, 0.9996315062183326, 0.9996315062183326, 0.9998157531091663, 0.9997236296637495, 0.9997236296637495, 0.9998157531091663, 0.9996315062183326, 0.9992630124366653, 0.9990787655458315, 0.9989866421004147, 0.9984339014279136, 0.9981575310916628, 0.9984339014279136, 0.9981575310916628, 0.9979732842008291, 0.9981575310916628, 0.9984339014279136, 0.9979732842008291, 0.998065407646246, 0.997420543528328, 0.9971441731920775, 0.9962229387379088, 0.9958544449562414, 0.9952095808383234, 0.9950253339474898, 0.9948410870566561, 0.9952095808383234, 0.9955780746199908, 0.9952095808383234, 0.9950253339474898, 0.9942883463841548, 0.9946568401658223, 0.9952095808383234, 0.9955780746199908, 0.9952095808383234, 0.9953017042837403, 0.9959465684016583, 0.9953938277291572, 0.9953017042837403, 0.9953017042837403, 0.9952095808383234, 0.994933210502073, 0.9953017042837403, 0.9948410870566561, 0.9946568401658223, 0.9942883463841548, 0.9953938277291572, 0.9953017042837403, 0.9952095808383234, 0.9952095808383234, 0.994933210502073, 0.9952095808383234, 0.9956701980654077, 0.9959465684016583, 0.9963150621833257, 0.9965914325195764, 0.9964993090741595, 0.9959465684016583, 0.996038691847075, 0.9961308152924919, 0.9958544449562414, 0.9955780746199908, 0.9959465684016583, 0.996038691847075, 0.9962229387379088, 0.9963150621833257, 0.9955780746199908, 0.9950253339474898, 0.9946568401658223, 0.9945647167204054, 0.9943804698295716, 0.9941962229387379, 0.9941962229387379, 0.9943804698295716, 0.9943804698295716, 0.9945647167204054, 0.9942883463841548, 0.9941040994933211, 0.9941962229387379, 0.9942883463841548, 0.9941962229387379, 0.9939198526024874, 0.9945647167204054, 0.9945647167204054, 0.9953938277291572, 0.9937356057116536, 0.9953017042837403, 0.9939198526024874, 0.9942883463841548, 0.9941962229387379, 0.9933671119299863, 0.9937356057116536, 0.9941040994933211, 0.9941040994933211, 0.9947489636112392, 0.9945647167204054, 0.9948410870566561, 0.9946568401658223, 0.9940119760479043, 0.9942883463841548, 0.99355135882082, 0.9943804698295716, 0.9941962229387379, 0.9945647167204054, 0.9943804698295716, 0.9940119760479043, 0.9945647167204054, 0.9945647167204054, 0.9941962229387379, 0.9933671119299863, 0.99355135882082, 0.9934592353754031, 0.9931828650391527, 0.9940119760479043, 0.9950253339474898, 0.9950253339474898, 0.9952095808383234, 0.9958544449562414, 0.994933210502073, 0.9941962229387379, 0.9948410870566561, 0.9945647167204054, 0.9942883463841548, 0.9939198526024874, 0.9936434822662369, 0.9940119760479043, 0.9948410870566561, 0.9942883463841548, 0.9940119760479043, 0.9934592353754031, 0.99355135882082, 0.9939198526024874, 0.9942883463841548, 0.9946568401658223, 0.9945647167204054, 0.9942883463841548, 0.9940119760479043, 0.9937356057116536, 0.9937356057116536, 0.9941962229387379, 0.9942883463841548, 0.9941040994933211, 0.9936434822662369, 0.9941040994933211, 0.9945647167204054, 0.9946568401658223, 0.9945647167204054, 0.9947489636112392, 0.9952095808383234, 0.994933210502073, 0.9950253339474898, 0.9954859511745741, 0.9950253339474898, 0.9958544449562414, 0.9958544449562414, 0.9961308152924919, 0.9965914325195764, 0.996038691847075, 0.9964993090741595, 0.9964993090741595, 0.9962229387379088, 0.9965914325195764, 0.9964993090741595, 0.9963150621833257, 0.9964993090741595, 0.9972362966374944, 0.9971441731920775, 0.9976969138645786, 0.9975126669737449, 0.997420543528328, 0.996867802855827, 0.996867802855827, 0.9970520497466606, 0.9966835559649933, 0.9961308152924919, 0.9962229387379088, 0.9963150621833257, 0.9965914325195764, 0.9963150621833257, 0.9958544449562414, 0.9958544449562414, 0.9961308152924919, 0.9966835559649933, 0.9958544449562414, 0.9956701980654077, 0.9964993090741595, 0.9955780746199908, 0.9962229387379088, 0.9962229387379088, 0.9962229387379088, 0.9962229387379088, 0.9962229387379088, 0.9962229387379088, 0.9962229387379088, 0.9962229387379088, 0.9962229387379088, 0.9962229387379088, 0.9962229387379088]}, {\"mode\": \"lines\", \"name\": \"strategy\", \"type\": \"scatter\", \"x\": [\"2020-04-02T23:00:00\", \"2020-04-02T23:05:00\", \"2020-04-02T23:10:00\", \"2020-04-02T23:15:00\", \"2020-04-02T23:20:00\", \"2020-04-02T23:25:00\", \"2020-04-02T23:30:00\", \"2020-04-02T23:35:00\", \"2020-04-02T23:40:00\", \"2020-04-02T23:45:00\", \"2020-04-02T23:50:00\", \"2020-04-02T23:55:00\", \"2020-04-03T00:00:00\", \"2020-04-03T00:05:00\", \"2020-04-03T00:10:00\", \"2020-04-03T00:15:00\", \"2020-04-03T00:20:00\", \"2020-04-03T00:25:00\", \"2020-04-03T00:30:00\", \"2020-04-03T00:35:00\", \"2020-04-03T00:40:00\", \"2020-04-03T00:45:00\", \"2020-04-03T00:50:00\", \"2020-04-03T00:55:00\", \"2020-04-03T01:00:00\", \"2020-04-03T01:05:00\", \"2020-04-03T01:10:00\", \"2020-04-03T01:15:00\", \"2020-04-03T01:20:00\", \"2020-04-03T01:25:00\", \"2020-04-03T01:30:00\", \"2020-04-03T01:35:00\", \"2020-04-03T01:40:00\", \"2020-04-03T01:45:00\", \"2020-04-03T01:50:00\", \"2020-04-03T01:55:00\", \"2020-04-03T02:00:00\", \"2020-04-03T02:05:00\", \"2020-04-03T02:10:00\", \"2020-04-03T02:15:00\", \"2020-04-03T02:20:00\", \"2020-04-03T02:25:00\", \"2020-04-03T02:30:00\", \"2020-04-03T02:35:00\", \"2020-04-03T02:40:00\", \"2020-04-03T02:45:00\", \"2020-04-03T02:50:00\", \"2020-04-03T02:55:00\", \"2020-04-03T03:00:00\", \"2020-04-03T03:05:00\", \"2020-04-03T03:10:00\", \"2020-04-03T03:15:00\", \"2020-04-03T03:20:00\", \"2020-04-03T03:25:00\", \"2020-04-03T03:30:00\", \"2020-04-03T03:35:00\", \"2020-04-03T03:40:00\", \"2020-04-03T03:45:00\", \"2020-04-03T03:50:00\", \"2020-04-03T03:55:00\", \"2020-04-03T04:00:00\", \"2020-04-03T04:05:00\", \"2020-04-03T04:10:00\", \"2020-04-03T04:10:00\", \"2020-04-03T04:15:00\", \"2020-04-03T04:20:00\", \"2020-04-03T04:25:00\", \"2020-04-03T04:30:00\", \"2020-04-03T04:35:00\", \"2020-04-03T04:40:00\", \"2020-04-03T04:45:00\", \"2020-04-03T04:50:00\", \"2020-04-03T04:55:00\", \"2020-04-03T05:00:00\", \"2020-04-03T05:05:00\", \"2020-04-03T05:10:00\", \"2020-04-03T05:15:00\", \"2020-04-03T05:20:00\", \"2020-04-03T05:20:00\", \"2020-04-03T05:25:00\", \"2020-04-03T05:30:00\", \"2020-04-03T05:35:00\", \"2020-04-03T05:40:00\", \"2020-04-03T05:45:00\", \"2020-04-03T05:50:00\", \"2020-04-03T05:55:00\", \"2020-04-03T06:00:00\", \"2020-04-03T06:05:00\", \"2020-04-03T06:10:00\", \"2020-04-03T06:15:00\", \"2020-04-03T06:20:00\", \"2020-04-03T06:25:00\", \"2020-04-03T06:30:00\", \"2020-04-03T06:35:00\", \"2020-04-03T06:35:00\", \"2020-04-03T06:40:00\", \"2020-04-03T06:45:00\", \"2020-04-03T06:50:00\", \"2020-04-03T06:55:00\", \"2020-04-03T07:00:00\", \"2020-04-03T07:05:00\", \"2020-04-03T07:10:00\", \"2020-04-03T07:15:00\", \"2020-04-03T07:20:00\", \"2020-04-03T07:25:00\", \"2020-04-03T07:25:00\", \"2020-04-03T07:30:00\", \"2020-04-03T07:35:00\", \"2020-04-03T07:40:00\", \"2020-04-03T07:45:00\", \"2020-04-03T07:50:00\", \"2020-04-03T07:55:00\", \"2020-04-03T08:00:00\", \"2020-04-03T08:05:00\", \"2020-04-03T08:10:00\", \"2020-04-03T08:15:00\", \"2020-04-03T08:20:00\", \"2020-04-03T08:25:00\", \"2020-04-03T08:30:00\", \"2020-04-03T08:35:00\", \"2020-04-03T08:40:00\", \"2020-04-03T08:45:00\", \"2020-04-03T08:50:00\", \"2020-04-03T08:55:00\", \"2020-04-03T09:00:00\", \"2020-04-03T09:05:00\", \"2020-04-03T09:10:00\", \"2020-04-03T09:15:00\", \"2020-04-03T09:20:00\", \"2020-04-03T09:25:00\", \"2020-04-03T09:30:00\", \"2020-04-03T09:35:00\", \"2020-04-03T09:40:00\", \"2020-04-03T09:45:00\", \"2020-04-03T09:50:00\", \"2020-04-03T09:55:00\", \"2020-04-03T10:00:00\", \"2020-04-03T10:05:00\", \"2020-04-03T10:10:00\", \"2020-04-03T10:15:00\", \"2020-04-03T10:20:00\", \"2020-04-03T10:25:00\", \"2020-04-03T10:30:00\", \"2020-04-03T10:35:00\", \"2020-04-03T10:40:00\", \"2020-04-03T10:45:00\", \"2020-04-03T10:50:00\", \"2020-04-03T10:55:00\", \"2020-04-03T11:00:00\", \"2020-04-03T11:05:00\", \"2020-04-03T11:10:00\", \"2020-04-03T11:15:00\", \"2020-04-03T11:20:00\", \"2020-04-03T11:20:00\", \"2020-04-03T11:25:00\", \"2020-04-03T11:30:00\", \"2020-04-03T11:35:00\", \"2020-04-03T11:40:00\", \"2020-04-03T11:45:00\", \"2020-04-03T11:50:00\", \"2020-04-03T11:55:00\", \"2020-04-03T12:00:00\", \"2020-04-03T12:05:00\", \"2020-04-03T12:10:00\", \"2020-04-03T12:15:00\", \"2020-04-03T12:20:00\", \"2020-04-03T12:25:00\", \"2020-04-03T12:30:00\", \"2020-04-03T12:35:00\", \"2020-04-03T12:40:00\", \"2020-04-03T12:45:00\", \"2020-04-03T12:50:00\", \"2020-04-03T12:55:00\", \"2020-04-03T13:00:00\", \"2020-04-03T13:05:00\", \"2020-04-03T13:10:00\", \"2020-04-03T13:15:00\", \"2020-04-03T13:20:00\", \"2020-04-03T13:25:00\", \"2020-04-03T13:30:00\", \"2020-04-03T13:35:00\", \"2020-04-03T13:40:00\", \"2020-04-03T13:45:00\", \"2020-04-03T13:50:00\", \"2020-04-03T13:55:00\", \"2020-04-03T14:00:00\", \"2020-04-03T14:05:00\", \"2020-04-03T14:05:00\", \"2020-04-03T14:10:00\", \"2020-04-03T14:15:00\", \"2020-04-03T14:20:00\", \"2020-04-03T14:25:00\", \"2020-04-03T14:30:00\", \"2020-04-03T14:35:00\", \"2020-04-03T14:40:00\", \"2020-04-03T14:45:00\", \"2020-04-03T14:50:00\", \"2020-04-03T14:55:00\", \"2020-04-03T15:00:00\", \"2020-04-03T15:05:00\", \"2020-04-03T15:10:00\", \"2020-04-03T15:15:00\", \"2020-04-03T15:20:00\", \"2020-04-03T15:25:00\", \"2020-04-03T15:30:00\", \"2020-04-03T15:35:00\", \"2020-04-03T15:40:00\", \"2020-04-03T15:45:00\", \"2020-04-03T15:50:00\", \"2020-04-03T15:55:00\", \"2020-04-03T16:00:00\", \"2020-04-03T16:05:00\", \"2020-04-03T16:10:00\", \"2020-04-03T16:15:00\", \"2020-04-03T16:20:00\", \"2020-04-03T16:25:00\", \"2020-04-03T16:25:00\", \"2020-04-03T16:30:00\", \"2020-04-03T16:35:00\", \"2020-04-03T16:40:00\", \"2020-04-03T16:45:00\", \"2020-04-03T16:50:00\", \"2020-04-03T16:55:00\", \"2020-04-03T17:00:00\", \"2020-04-03T17:05:00\", \"2020-04-03T17:10:00\", \"2020-04-03T17:15:00\", \"2020-04-03T17:20:00\", \"2020-04-03T17:25:00\", \"2020-04-03T17:30:00\", \"2020-04-03T17:35:00\", \"2020-04-03T17:40:00\", \"2020-04-03T17:45:00\", \"2020-04-03T17:50:00\", \"2020-04-03T17:55:00\", \"2020-04-03T18:00:00\", \"2020-04-03T18:05:00\", \"2020-04-03T18:10:00\", \"2020-04-03T18:15:00\", \"2020-04-03T18:20:00\", \"2020-04-03T18:25:00\", \"2020-04-03T18:30:00\", \"2020-04-03T18:35:00\", \"2020-04-03T18:40:00\", \"2020-04-03T18:45:00\", \"2020-04-03T18:50:00\", \"2020-04-03T18:55:00\", \"2020-04-03T19:00:00\", \"2020-04-03T19:05:00\", \"2020-04-03T19:05:00\", \"2020-04-03T19:10:00\", \"2020-04-03T19:15:00\", \"2020-04-03T19:20:00\", \"2020-04-03T19:25:00\", \"2020-04-03T19:30:00\", \"2020-04-03T19:35:00\", \"2020-04-03T19:40:00\", \"2020-04-03T19:45:00\", \"2020-04-03T19:50:00\", \"2020-04-03T19:55:00\", \"2020-04-03T20:00:00\", \"2020-04-03T20:00:00\", \"2020-04-03T20:05:00\", \"2020-04-03T20:10:00\", \"2020-04-03T20:15:00\", \"2020-04-03T20:20:00\", \"2020-04-03T20:25:00\", \"2020-04-03T20:30:00\", \"2020-04-03T20:35:00\", \"2020-04-03T20:40:00\", \"2020-04-03T20:45:00\", \"2020-04-03T20:50:00\", \"2020-04-03T20:55:00\", \"2020-04-03T21:00:00\", \"2020-04-03T21:10:00\", \"2020-04-03T21:15:00\", \"2020-04-03T21:20:00\", \"2020-04-03T21:25:00\", \"2020-04-03T21:30:00\", \"2020-04-03T21:35:00\", \"2020-04-03T21:40:00\", \"2020-04-03T21:45:00\", \"2020-04-03T21:50:00\", \"2020-04-03T21:50:00\", \"2020-04-03T21:55:00\"], \"y\": [1.0, 1.0, 1.0, 1.0, 1.0, 1.0, 1.0, 1.0, 1.0, 1.0, 1.0, 1.0, 1.0, 1.0, 1.0, 1.0, 1.0, 1.0, 1.0, 1.0, 1.0, 1.0, 1.0, 1.0, 1.0, 1.0, 1.0, 1.0, 1.0, 1.0, 1.0, 1.0, 1.0, 1.0, 1.0, 1.0, 1.0, 1.0, 1.0, 1.0, 1.0, 1.0, 1.0, 1.0, 1.0, 1.0, 1.0, 1.0, 1.0, 1.0, 1.0, 1.0, 1.0, 1.0, 1.0, 1.0, 1.0000384950458847, 0.9999463376410372, 0.9999848326869222, 0.9999463376410372, 1.0001154851376544, 1.0002537212449256, 1.0003458786497732, 1.0003458786497732, 1.0003458786497732, 1.0003458786497732, 1.0003458786497732, 1.0003458786497732, 1.0003458786497732, 1.0003458786497732, 1.0003458786497732, 1.0003458786497732, 1.0003458786497732, 1.0003458786497732, 1.0003458786497732, 1.0003154207859162, 1.0008688114619162, 1.0009458143093213, 1.0009458143093213, 1.0009458143093213, 1.0009458143093213, 1.0009458143093213, 1.0009458143093213, 1.0009458143093213, 1.0009458143093213, 1.0009458143093213, 1.0009458143093213, 1.0009458143093213, 1.0009458143093213, 1.0009458143093213, 1.0009458143093213, 1.0019005304114343, 1.0012846011816545, 1.0017774133546908, 1.0017774133546908, 1.0017774133546908, 1.0017774133546908, 1.0017774133546908, 1.0017774133546908, 1.0017774133546908, 1.0017774133546908, 1.0017774133546908, 1.0017774133546908, 1.0021485075970367, 1.002133130503188, 1.002133130503188, 1.002133130503188, 1.002133130503188, 1.002133130503188, 1.002133130503188, 1.002133130503188, 1.002133130503188, 1.002133130503188, 1.002133130503188, 1.002133130503188, 1.002133130503188, 1.002133130503188, 1.002133130503188, 1.002133130503188, 1.002133130503188, 1.002133130503188, 1.002133130503188, 1.002133130503188, 1.002133130503188, 1.002133130503188, 1.002133130503188, 1.002133130503188, 1.002133130503188, 1.002133130503188, 1.002133130503188, 1.002133130503188, 1.002133130503188, 1.0030543039500215, 1.0027617168210494, 1.0031688000846564, 1.002112186088316, 1.001833815774287, 1.002097969273372, 1.0019692563237943, 1.001705102824709, 1.0022977662976684, 1.0024047732172883, 1.0031972337145434, 1.0029974366902477, 1.0037614635576155, 1.0039186101370812, 1.0041685468212227, 1.003539960503361, 1.003068520764965, 1.003268317789261, 1.0033611078939375, 1.00354668810329, 1.0039036317070509, 1.0039036317070509, 1.0039036317070509, 1.0039036317070509, 1.0039036317070509, 1.0039036317070509, 1.0039036317070509, 1.0039036317070509, 1.0039036317070509, 1.0039036317070509, 1.0039036317070509, 1.0039036317070509, 1.0039036317070509, 1.0038179305262667, 1.0039792751445922, 1.0038279882695098, 1.0031614702774583, 1.0030639649418178, 1.003249941902119, 1.0033748500236124, 1.0032992065860715, 1.0033137811848043, 1.0032426546027526, 1.0027284475180471, 1.002882504837006, 1.0027895163568552, 1.0025861943539442, 1.0027503094161465, 1.0022534473740503, 1.0027357348174137, 1.0027922868007322, 1.0033821373229788, 1.0031177464812595, 1.0034751258031294, 1.0033821373229788, 1.0033821373229788, 1.0033821373229788, 1.0033821373229788, 1.0033821373229788, 1.0033821373229788, 1.0033821373229788, 1.0033821373229788, 1.0033821373229788, 1.0033821373229788, 1.0033821373229788, 1.0033821373229788, 1.0033821373229788, 1.0033821373229788, 1.0033821373229788, 1.0033821373229788, 1.0033821373229788, 1.0033821373229788, 1.0033821373229788, 1.0033821373229788, 1.0033821373229788, 1.0033821373229788, 1.0033821373229788, 1.0033821373229788, 1.0033821373229788, 1.0033821373229788, 1.0033821373229788, 1.0038031214614431, 1.003430947078163, 1.0030587726948832, 1.0030587726948832, 1.0030587726948832, 1.0030587726948832, 1.0030587726948832, 1.0030587726948832, 1.0030587726948832, 1.0030587726948832, 1.0028263033399434, 1.002779809468955, 1.0025302809832737, 1.0024202341105564, 1.002359022869445, 1.0024690697421625, 1.0023369468142602, 1.0022978116283339, 1.0021191948294437, 1.0020579835883323, 1.0021974652012964, 1.002322229444137, 1.0019185019753682, 1.0021509713303083, 1.0019894136621594, 1.0019894136621594, 1.0020211901630243, 1.0021312370357416, 1.0020676840340121, 1.0021777309067297, 1.0020921018498152, 1.0023172125196937, 1.0023024951495703, 1.0024346180774726, 1.0022707186487059, 1.0021777309067297, 1.0021777309067297, 1.0021777309067297, 1.0021777309067297, 1.0021777309067297, 1.0021777309067297, 1.0021777309067297, 1.0021777309067297, 1.0021777309067297, 1.0021777309067297, 1.0025337992740486, 1.0023844046513486, 1.0021672318394539, 1.0021672318394539, 1.0021672318394539, 1.0021672318394539, 1.0021672318394539, 1.0021672318394539, 1.0021672318394539, 1.0021672318394539, 1.0021672318394539, 1.0021672318394539, 1.0021672318394539, 1.0021672318394539, 1.0021672318394539, 1.0021672318394539, 1.0021672318394539, 1.0021672318394539, 1.0021672318394539, 1.0021672318394539, 1.0021672318394539, 1.0021672318394539, 1.0021672318394539, 1.0021672318394539, 1.0021672318394539, 1.0021672318394539, 1.0021672318394539]}],\n",
       "                        {\"template\": {\"data\": {\"bar\": [{\"error_x\": {\"color\": \"#2a3f5f\"}, \"error_y\": {\"color\": \"#2a3f5f\"}, \"marker\": {\"line\": {\"color\": \"#E5ECF6\", \"width\": 0.5}}, \"type\": \"bar\"}], \"barpolar\": [{\"marker\": {\"line\": {\"color\": \"#E5ECF6\", \"width\": 0.5}}, \"type\": \"barpolar\"}], \"carpet\": [{\"aaxis\": {\"endlinecolor\": \"#2a3f5f\", \"gridcolor\": \"white\", \"linecolor\": \"white\", \"minorgridcolor\": \"white\", \"startlinecolor\": \"#2a3f5f\"}, \"baxis\": {\"endlinecolor\": \"#2a3f5f\", \"gridcolor\": \"white\", \"linecolor\": \"white\", \"minorgridcolor\": \"white\", \"startlinecolor\": \"#2a3f5f\"}, \"type\": \"carpet\"}], \"choropleth\": [{\"colorbar\": {\"outlinewidth\": 0, \"ticks\": \"\"}, \"type\": \"choropleth\"}], \"contour\": [{\"colorbar\": {\"outlinewidth\": 0, \"ticks\": \"\"}, \"colorscale\": [[0.0, \"#0d0887\"], [0.1111111111111111, \"#46039f\"], [0.2222222222222222, \"#7201a8\"], [0.3333333333333333, \"#9c179e\"], [0.4444444444444444, \"#bd3786\"], [0.5555555555555556, \"#d8576b\"], [0.6666666666666666, \"#ed7953\"], [0.7777777777777778, \"#fb9f3a\"], [0.8888888888888888, \"#fdca26\"], [1.0, \"#f0f921\"]], \"type\": \"contour\"}], \"contourcarpet\": [{\"colorbar\": {\"outlinewidth\": 0, \"ticks\": \"\"}, \"type\": \"contourcarpet\"}], \"heatmap\": [{\"colorbar\": {\"outlinewidth\": 0, \"ticks\": \"\"}, \"colorscale\": [[0.0, \"#0d0887\"], [0.1111111111111111, \"#46039f\"], [0.2222222222222222, \"#7201a8\"], [0.3333333333333333, \"#9c179e\"], [0.4444444444444444, \"#bd3786\"], [0.5555555555555556, \"#d8576b\"], [0.6666666666666666, \"#ed7953\"], [0.7777777777777778, \"#fb9f3a\"], [0.8888888888888888, \"#fdca26\"], [1.0, \"#f0f921\"]], \"type\": \"heatmap\"}], \"heatmapgl\": [{\"colorbar\": {\"outlinewidth\": 0, \"ticks\": \"\"}, \"colorscale\": [[0.0, \"#0d0887\"], [0.1111111111111111, \"#46039f\"], [0.2222222222222222, \"#7201a8\"], [0.3333333333333333, \"#9c179e\"], [0.4444444444444444, \"#bd3786\"], [0.5555555555555556, \"#d8576b\"], [0.6666666666666666, \"#ed7953\"], [0.7777777777777778, \"#fb9f3a\"], [0.8888888888888888, \"#fdca26\"], [1.0, \"#f0f921\"]], \"type\": \"heatmapgl\"}], \"histogram\": [{\"marker\": {\"colorbar\": {\"outlinewidth\": 0, \"ticks\": \"\"}}, \"type\": \"histogram\"}], \"histogram2d\": [{\"colorbar\": {\"outlinewidth\": 0, \"ticks\": \"\"}, \"colorscale\": [[0.0, \"#0d0887\"], [0.1111111111111111, \"#46039f\"], [0.2222222222222222, \"#7201a8\"], [0.3333333333333333, \"#9c179e\"], [0.4444444444444444, \"#bd3786\"], [0.5555555555555556, \"#d8576b\"], [0.6666666666666666, \"#ed7953\"], [0.7777777777777778, \"#fb9f3a\"], [0.8888888888888888, \"#fdca26\"], [1.0, \"#f0f921\"]], \"type\": \"histogram2d\"}], \"histogram2dcontour\": [{\"colorbar\": {\"outlinewidth\": 0, \"ticks\": \"\"}, \"colorscale\": [[0.0, \"#0d0887\"], [0.1111111111111111, \"#46039f\"], [0.2222222222222222, \"#7201a8\"], [0.3333333333333333, \"#9c179e\"], [0.4444444444444444, \"#bd3786\"], [0.5555555555555556, \"#d8576b\"], [0.6666666666666666, \"#ed7953\"], [0.7777777777777778, \"#fb9f3a\"], [0.8888888888888888, \"#fdca26\"], [1.0, \"#f0f921\"]], \"type\": \"histogram2dcontour\"}], \"mesh3d\": [{\"colorbar\": {\"outlinewidth\": 0, \"ticks\": \"\"}, \"type\": \"mesh3d\"}], \"parcoords\": [{\"line\": {\"colorbar\": {\"outlinewidth\": 0, \"ticks\": \"\"}}, \"type\": \"parcoords\"}], \"pie\": [{\"automargin\": true, \"type\": \"pie\"}], \"scatter\": [{\"marker\": {\"colorbar\": {\"outlinewidth\": 0, \"ticks\": \"\"}}, \"type\": \"scatter\"}], \"scatter3d\": [{\"line\": {\"colorbar\": {\"outlinewidth\": 0, \"ticks\": \"\"}}, \"marker\": {\"colorbar\": {\"outlinewidth\": 0, \"ticks\": \"\"}}, \"type\": \"scatter3d\"}], \"scattercarpet\": [{\"marker\": {\"colorbar\": {\"outlinewidth\": 0, \"ticks\": \"\"}}, \"type\": \"scattercarpet\"}], \"scattergeo\": [{\"marker\": {\"colorbar\": {\"outlinewidth\": 0, \"ticks\": \"\"}}, \"type\": \"scattergeo\"}], \"scattergl\": [{\"marker\": {\"colorbar\": {\"outlinewidth\": 0, \"ticks\": \"\"}}, \"type\": \"scattergl\"}], \"scattermapbox\": [{\"marker\": {\"colorbar\": {\"outlinewidth\": 0, \"ticks\": \"\"}}, \"type\": \"scattermapbox\"}], \"scatterpolar\": [{\"marker\": {\"colorbar\": {\"outlinewidth\": 0, \"ticks\": \"\"}}, \"type\": \"scatterpolar\"}], \"scatterpolargl\": [{\"marker\": {\"colorbar\": {\"outlinewidth\": 0, \"ticks\": \"\"}}, \"type\": \"scatterpolargl\"}], \"scatterternary\": [{\"marker\": {\"colorbar\": {\"outlinewidth\": 0, \"ticks\": \"\"}}, \"type\": \"scatterternary\"}], \"surface\": [{\"colorbar\": {\"outlinewidth\": 0, \"ticks\": \"\"}, \"colorscale\": [[0.0, \"#0d0887\"], [0.1111111111111111, \"#46039f\"], [0.2222222222222222, \"#7201a8\"], [0.3333333333333333, \"#9c179e\"], [0.4444444444444444, \"#bd3786\"], [0.5555555555555556, \"#d8576b\"], [0.6666666666666666, \"#ed7953\"], [0.7777777777777778, \"#fb9f3a\"], [0.8888888888888888, \"#fdca26\"], [1.0, \"#f0f921\"]], \"type\": \"surface\"}], \"table\": [{\"cells\": {\"fill\": {\"color\": \"#EBF0F8\"}, \"line\": {\"color\": \"white\"}}, \"header\": {\"fill\": {\"color\": \"#C8D4E3\"}, \"line\": {\"color\": \"white\"}}, \"type\": \"table\"}]}, \"layout\": {\"annotationdefaults\": {\"arrowcolor\": \"#2a3f5f\", \"arrowhead\": 0, \"arrowwidth\": 1}, \"coloraxis\": {\"colorbar\": {\"outlinewidth\": 0, \"ticks\": \"\"}}, \"colorscale\": {\"diverging\": [[0, \"#8e0152\"], [0.1, \"#c51b7d\"], [0.2, \"#de77ae\"], [0.3, \"#f1b6da\"], [0.4, \"#fde0ef\"], [0.5, \"#f7f7f7\"], [0.6, \"#e6f5d0\"], [0.7, \"#b8e186\"], [0.8, \"#7fbc41\"], [0.9, \"#4d9221\"], [1, \"#276419\"]], \"sequential\": [[0.0, \"#0d0887\"], [0.1111111111111111, \"#46039f\"], [0.2222222222222222, \"#7201a8\"], [0.3333333333333333, \"#9c179e\"], [0.4444444444444444, \"#bd3786\"], [0.5555555555555556, \"#d8576b\"], [0.6666666666666666, \"#ed7953\"], [0.7777777777777778, \"#fb9f3a\"], [0.8888888888888888, \"#fdca26\"], [1.0, \"#f0f921\"]], \"sequentialminus\": [[0.0, \"#0d0887\"], [0.1111111111111111, \"#46039f\"], [0.2222222222222222, \"#7201a8\"], [0.3333333333333333, \"#9c179e\"], [0.4444444444444444, \"#bd3786\"], [0.5555555555555556, \"#d8576b\"], [0.6666666666666666, \"#ed7953\"], [0.7777777777777778, \"#fb9f3a\"], [0.8888888888888888, \"#fdca26\"], [1.0, \"#f0f921\"]]}, \"colorway\": [\"#636efa\", \"#EF553B\", \"#00cc96\", \"#ab63fa\", \"#FFA15A\", \"#19d3f3\", \"#FF6692\", \"#B6E880\", \"#FF97FF\", \"#FECB52\"], \"font\": {\"color\": \"#2a3f5f\"}, \"geo\": {\"bgcolor\": \"white\", \"lakecolor\": \"white\", \"landcolor\": \"#E5ECF6\", \"showlakes\": true, \"showland\": true, \"subunitcolor\": \"white\"}, \"hoverlabel\": {\"align\": \"left\"}, \"hovermode\": \"closest\", \"mapbox\": {\"style\": \"light\"}, \"paper_bgcolor\": \"white\", \"plot_bgcolor\": \"#E5ECF6\", \"polar\": {\"angularaxis\": {\"gridcolor\": \"white\", \"linecolor\": \"white\", \"ticks\": \"\"}, \"bgcolor\": \"#E5ECF6\", \"radialaxis\": {\"gridcolor\": \"white\", \"linecolor\": \"white\", \"ticks\": \"\"}}, \"scene\": {\"xaxis\": {\"backgroundcolor\": \"#E5ECF6\", \"gridcolor\": \"white\", \"gridwidth\": 2, \"linecolor\": \"white\", \"showbackground\": true, \"ticks\": \"\", \"zerolinecolor\": \"white\"}, \"yaxis\": {\"backgroundcolor\": \"#E5ECF6\", \"gridcolor\": \"white\", \"gridwidth\": 2, \"linecolor\": \"white\", \"showbackground\": true, \"ticks\": \"\", \"zerolinecolor\": \"white\"}, \"zaxis\": {\"backgroundcolor\": \"#E5ECF6\", \"gridcolor\": \"white\", \"gridwidth\": 2, \"linecolor\": \"white\", \"showbackground\": true, \"ticks\": \"\", \"zerolinecolor\": \"white\"}}, \"shapedefaults\": {\"line\": {\"color\": \"#2a3f5f\"}}, \"ternary\": {\"aaxis\": {\"gridcolor\": \"white\", \"linecolor\": \"white\", \"ticks\": \"\"}, \"baxis\": {\"gridcolor\": \"white\", \"linecolor\": \"white\", \"ticks\": \"\"}, \"bgcolor\": \"#E5ECF6\", \"caxis\": {\"gridcolor\": \"white\", \"linecolor\": \"white\", \"ticks\": \"\"}}, \"title\": {\"x\": 0.05}, \"xaxis\": {\"automargin\": true, \"gridcolor\": \"white\", \"linecolor\": \"white\", \"ticks\": \"\", \"title\": {\"standoff\": 15}, \"zerolinecolor\": \"white\", \"zerolinewidth\": 2}, \"yaxis\": {\"automargin\": true, \"gridcolor\": \"white\", \"linecolor\": \"white\", \"ticks\": \"\", \"title\": {\"standoff\": 15}, \"zerolinecolor\": \"white\", \"zerolinewidth\": 2}}}},\n",
       "                        {\"responsive\": true}\n",
       "                    ).then(function(){\n",
       "                            \n",
       "var gd = document.getElementById('2806e2f7-9415-4c03-9f37-8ae781e7915f');\n",
       "var x = new MutationObserver(function (mutations, observer) {{\n",
       "        var display = window.getComputedStyle(gd).display;\n",
       "        if (!display || display === 'none') {{\n",
       "            console.log([gd, 'removed!']);\n",
       "            Plotly.purge(gd);\n",
       "            observer.disconnect();\n",
       "        }}\n",
       "}});\n",
       "\n",
       "// Listen for the removal of the full notebook cells\n",
       "var notebookContainer = gd.closest('#notebook-container');\n",
       "if (notebookContainer) {{\n",
       "    x.observe(notebookContainer, {childList: true});\n",
       "}}\n",
       "\n",
       "// Listen for the clearing of the current output cell\n",
       "var outputEl = gd.closest('.output');\n",
       "if (outputEl) {{\n",
       "    x.observe(outputEl, {childList: true});\n",
       "}}\n",
       "\n",
       "                        })\n",
       "                };\n",
       "                });\n",
       "            </script>\n",
       "        </div>"
      ]
     },
     "metadata": {},
     "output_type": "display_data"
    }
   ],
   "source": [
    "normalized_S1 = S1.apply(lambda x: x / S1[0])\n",
    "normalized_S2 = S2.apply(lambda x: x / S2[0])\n",
    "normalized_nav = pd.DataFrame(portfolio['nav'])\n",
    "normalized_nav = normalized_nav.reset_index()\n",
    "normalized_nav['nav'] = normalized_nav['nav'] / normalized_nav['nav'].iloc[0]\n",
    "normalized_nav = normalized_nav.set_index('date')\n",
    "\n",
    "\n",
    "fig = go.Figure()\n",
    "fig.add_trace(go.Scatter(x=normalized_S1.index, y=normalized_S1,\n",
    "                    mode='lines',\n",
    "                    name='benchmark'))\n",
    "fig.add_trace(go.Scatter(x=normalized_nav.index, y=normalized_nav['nav'],\n",
    "                    mode='lines',\n",
    "                    name='strategy'))\n",
    "\n",
    "fig.show()\n"
   ]
  },
  {
   "cell_type": "code",
   "execution_count": 92,
   "metadata": {},
   "outputs": [],
   "source": [
    "nav = ratios.to_frame()\n",
    "#print(nav)\n",
    "history = portfolio['history']\n",
    "\n",
    "history = history[history['symbol'] == chosen[0]]\n",
    "trades = pd.DataFrame(columns=[\"Type\" \"BoughtOn\", \"SoldOn\", \"Return\"])\n",
    "trades['Type'] = history[\"type\"]\n",
    "trades['BoughtOn'] = history['bought_on']\n",
    "trades['SoldOn'] = history['sold_on']\n",
    "trades['Return'] = history['return']\n",
    "\n",
    "bought_on = trades['BoughtOn'].to_frame()\n",
    "bought_on['Type'] = trades['Type']\n",
    "bought_on.columns = ['date', 'type']\n",
    "bought_on.set_index('date', inplace=True)\n",
    "nav = nav.join(bought_on)\n",
    "\n",
    "sold_on = trades['SoldOn'].to_frame()\n",
    "sold_on['exit'] = \"Exit\"\n",
    "sold_on.columns = ['date', 'exit']\n",
    "sold_on['exit'] = \"Exit\"\n",
    "sold_on.set_index('date', inplace=True)\n",
    "\n",
    "bought = nav[nav['type'] == 'BUY']\n",
    "sold_on = nav[nav['type'] == 'SELL']\n"
   ]
  },
  {
   "cell_type": "code",
   "execution_count": 93,
   "metadata": {},
   "outputs": [],
   "source": [
    "def plot_returns(ret):\n",
    "    #tot_return['date'] = pd.to_datetime(tot_return.index)\n",
    "    fig = px.line(ret, x=ret.index, y='nav')\n",
    "    fig.show()\n"
   ]
  },
  {
   "cell_type": "code",
   "execution_count": 94,
   "metadata": {},
   "outputs": [
    {
     "data": {
      "application/vnd.plotly.v1+json": {
       "config": {
        "plotlyServerURL": "https://plot.ly"
       },
       "data": [
        {
         "hoverlabel": {
          "namelength": 0
         },
         "hovertemplate": "x=%{x}<br>nav=%{y}",
         "legendgroup": "",
         "line": {
          "color": "#636efa",
          "dash": "solid"
         },
         "mode": "lines",
         "name": "",
         "showlegend": false,
         "type": "scatter",
         "x": [
          "2020-04-02T23:00:00",
          "2020-04-02T23:05:00",
          "2020-04-02T23:10:00",
          "2020-04-02T23:15:00",
          "2020-04-02T23:20:00",
          "2020-04-02T23:25:00",
          "2020-04-02T23:30:00",
          "2020-04-02T23:35:00",
          "2020-04-02T23:40:00",
          "2020-04-02T23:45:00",
          "2020-04-02T23:50:00",
          "2020-04-02T23:55:00",
          "2020-04-03T00:00:00",
          "2020-04-03T00:05:00",
          "2020-04-03T00:10:00",
          "2020-04-03T00:15:00",
          "2020-04-03T00:20:00",
          "2020-04-03T00:25:00",
          "2020-04-03T00:30:00",
          "2020-04-03T00:35:00",
          "2020-04-03T00:40:00",
          "2020-04-03T00:45:00",
          "2020-04-03T00:50:00",
          "2020-04-03T00:55:00",
          "2020-04-03T01:00:00",
          "2020-04-03T01:05:00",
          "2020-04-03T01:10:00",
          "2020-04-03T01:15:00",
          "2020-04-03T01:20:00",
          "2020-04-03T01:25:00",
          "2020-04-03T01:30:00",
          "2020-04-03T01:35:00",
          "2020-04-03T01:40:00",
          "2020-04-03T01:45:00",
          "2020-04-03T01:50:00",
          "2020-04-03T01:55:00",
          "2020-04-03T02:00:00",
          "2020-04-03T02:05:00",
          "2020-04-03T02:10:00",
          "2020-04-03T02:15:00",
          "2020-04-03T02:20:00",
          "2020-04-03T02:25:00",
          "2020-04-03T02:30:00",
          "2020-04-03T02:35:00",
          "2020-04-03T02:40:00",
          "2020-04-03T02:45:00",
          "2020-04-03T02:50:00",
          "2020-04-03T02:55:00",
          "2020-04-03T03:00:00",
          "2020-04-03T03:05:00",
          "2020-04-03T03:10:00",
          "2020-04-03T03:15:00",
          "2020-04-03T03:20:00",
          "2020-04-03T03:25:00",
          "2020-04-03T03:30:00",
          "2020-04-03T03:35:00",
          "2020-04-03T03:40:00",
          "2020-04-03T03:45:00",
          "2020-04-03T03:50:00",
          "2020-04-03T03:55:00",
          "2020-04-03T04:00:00",
          "2020-04-03T04:05:00",
          "2020-04-03T04:10:00",
          "2020-04-03T04:10:00",
          "2020-04-03T04:15:00",
          "2020-04-03T04:20:00",
          "2020-04-03T04:25:00",
          "2020-04-03T04:30:00",
          "2020-04-03T04:35:00",
          "2020-04-03T04:40:00",
          "2020-04-03T04:45:00",
          "2020-04-03T04:50:00",
          "2020-04-03T04:55:00",
          "2020-04-03T05:00:00",
          "2020-04-03T05:05:00",
          "2020-04-03T05:10:00",
          "2020-04-03T05:15:00",
          "2020-04-03T05:20:00",
          "2020-04-03T05:20:00",
          "2020-04-03T05:25:00",
          "2020-04-03T05:30:00",
          "2020-04-03T05:35:00",
          "2020-04-03T05:40:00",
          "2020-04-03T05:45:00",
          "2020-04-03T05:50:00",
          "2020-04-03T05:55:00",
          "2020-04-03T06:00:00",
          "2020-04-03T06:05:00",
          "2020-04-03T06:10:00",
          "2020-04-03T06:15:00",
          "2020-04-03T06:20:00",
          "2020-04-03T06:25:00",
          "2020-04-03T06:30:00",
          "2020-04-03T06:35:00",
          "2020-04-03T06:35:00",
          "2020-04-03T06:40:00",
          "2020-04-03T06:45:00",
          "2020-04-03T06:50:00",
          "2020-04-03T06:55:00",
          "2020-04-03T07:00:00",
          "2020-04-03T07:05:00",
          "2020-04-03T07:10:00",
          "2020-04-03T07:15:00",
          "2020-04-03T07:20:00",
          "2020-04-03T07:25:00",
          "2020-04-03T07:25:00",
          "2020-04-03T07:30:00",
          "2020-04-03T07:35:00",
          "2020-04-03T07:40:00",
          "2020-04-03T07:45:00",
          "2020-04-03T07:50:00",
          "2020-04-03T07:55:00",
          "2020-04-03T08:00:00",
          "2020-04-03T08:05:00",
          "2020-04-03T08:10:00",
          "2020-04-03T08:15:00",
          "2020-04-03T08:20:00",
          "2020-04-03T08:25:00",
          "2020-04-03T08:30:00",
          "2020-04-03T08:35:00",
          "2020-04-03T08:40:00",
          "2020-04-03T08:45:00",
          "2020-04-03T08:50:00",
          "2020-04-03T08:55:00",
          "2020-04-03T09:00:00",
          "2020-04-03T09:05:00",
          "2020-04-03T09:10:00",
          "2020-04-03T09:15:00",
          "2020-04-03T09:20:00",
          "2020-04-03T09:25:00",
          "2020-04-03T09:30:00",
          "2020-04-03T09:35:00",
          "2020-04-03T09:40:00",
          "2020-04-03T09:45:00",
          "2020-04-03T09:50:00",
          "2020-04-03T09:55:00",
          "2020-04-03T10:00:00",
          "2020-04-03T10:05:00",
          "2020-04-03T10:10:00",
          "2020-04-03T10:15:00",
          "2020-04-03T10:20:00",
          "2020-04-03T10:25:00",
          "2020-04-03T10:30:00",
          "2020-04-03T10:35:00",
          "2020-04-03T10:40:00",
          "2020-04-03T10:45:00",
          "2020-04-03T10:50:00",
          "2020-04-03T10:55:00",
          "2020-04-03T11:00:00",
          "2020-04-03T11:05:00",
          "2020-04-03T11:10:00",
          "2020-04-03T11:15:00",
          "2020-04-03T11:20:00",
          "2020-04-03T11:20:00",
          "2020-04-03T11:25:00",
          "2020-04-03T11:30:00",
          "2020-04-03T11:35:00",
          "2020-04-03T11:40:00",
          "2020-04-03T11:45:00",
          "2020-04-03T11:50:00",
          "2020-04-03T11:55:00",
          "2020-04-03T12:00:00",
          "2020-04-03T12:05:00",
          "2020-04-03T12:10:00",
          "2020-04-03T12:15:00",
          "2020-04-03T12:20:00",
          "2020-04-03T12:25:00",
          "2020-04-03T12:30:00",
          "2020-04-03T12:35:00",
          "2020-04-03T12:40:00",
          "2020-04-03T12:45:00",
          "2020-04-03T12:50:00",
          "2020-04-03T12:55:00",
          "2020-04-03T13:00:00",
          "2020-04-03T13:05:00",
          "2020-04-03T13:10:00",
          "2020-04-03T13:15:00",
          "2020-04-03T13:20:00",
          "2020-04-03T13:25:00",
          "2020-04-03T13:30:00",
          "2020-04-03T13:35:00",
          "2020-04-03T13:40:00",
          "2020-04-03T13:45:00",
          "2020-04-03T13:50:00",
          "2020-04-03T13:55:00",
          "2020-04-03T14:00:00",
          "2020-04-03T14:05:00",
          "2020-04-03T14:05:00",
          "2020-04-03T14:10:00",
          "2020-04-03T14:15:00",
          "2020-04-03T14:20:00",
          "2020-04-03T14:25:00",
          "2020-04-03T14:30:00",
          "2020-04-03T14:35:00",
          "2020-04-03T14:40:00",
          "2020-04-03T14:45:00",
          "2020-04-03T14:50:00",
          "2020-04-03T14:55:00",
          "2020-04-03T15:00:00",
          "2020-04-03T15:05:00",
          "2020-04-03T15:10:00",
          "2020-04-03T15:15:00",
          "2020-04-03T15:20:00",
          "2020-04-03T15:25:00",
          "2020-04-03T15:30:00",
          "2020-04-03T15:35:00",
          "2020-04-03T15:40:00",
          "2020-04-03T15:45:00",
          "2020-04-03T15:50:00",
          "2020-04-03T15:55:00",
          "2020-04-03T16:00:00",
          "2020-04-03T16:05:00",
          "2020-04-03T16:10:00",
          "2020-04-03T16:15:00",
          "2020-04-03T16:20:00",
          "2020-04-03T16:25:00",
          "2020-04-03T16:25:00",
          "2020-04-03T16:30:00",
          "2020-04-03T16:35:00",
          "2020-04-03T16:40:00",
          "2020-04-03T16:45:00",
          "2020-04-03T16:50:00",
          "2020-04-03T16:55:00",
          "2020-04-03T17:00:00",
          "2020-04-03T17:05:00",
          "2020-04-03T17:10:00",
          "2020-04-03T17:15:00",
          "2020-04-03T17:20:00",
          "2020-04-03T17:25:00",
          "2020-04-03T17:30:00",
          "2020-04-03T17:35:00",
          "2020-04-03T17:40:00",
          "2020-04-03T17:45:00",
          "2020-04-03T17:50:00",
          "2020-04-03T17:55:00",
          "2020-04-03T18:00:00",
          "2020-04-03T18:05:00",
          "2020-04-03T18:10:00",
          "2020-04-03T18:15:00",
          "2020-04-03T18:20:00",
          "2020-04-03T18:25:00",
          "2020-04-03T18:30:00",
          "2020-04-03T18:35:00",
          "2020-04-03T18:40:00",
          "2020-04-03T18:45:00",
          "2020-04-03T18:50:00",
          "2020-04-03T18:55:00",
          "2020-04-03T19:00:00",
          "2020-04-03T19:05:00",
          "2020-04-03T19:05:00",
          "2020-04-03T19:10:00",
          "2020-04-03T19:15:00",
          "2020-04-03T19:20:00",
          "2020-04-03T19:25:00",
          "2020-04-03T19:30:00",
          "2020-04-03T19:35:00",
          "2020-04-03T19:40:00",
          "2020-04-03T19:45:00",
          "2020-04-03T19:50:00",
          "2020-04-03T19:55:00",
          "2020-04-03T20:00:00",
          "2020-04-03T20:00:00",
          "2020-04-03T20:05:00",
          "2020-04-03T20:10:00",
          "2020-04-03T20:15:00",
          "2020-04-03T20:20:00",
          "2020-04-03T20:25:00",
          "2020-04-03T20:30:00",
          "2020-04-03T20:35:00",
          "2020-04-03T20:40:00",
          "2020-04-03T20:45:00",
          "2020-04-03T20:50:00",
          "2020-04-03T20:55:00",
          "2020-04-03T21:00:00",
          "2020-04-03T21:10:00",
          "2020-04-03T21:15:00",
          "2020-04-03T21:20:00",
          "2020-04-03T21:25:00",
          "2020-04-03T21:30:00",
          "2020-04-03T21:35:00",
          "2020-04-03T21:40:00",
          "2020-04-03T21:45:00",
          "2020-04-03T21:50:00",
          "2020-04-03T21:50:00",
          "2020-04-03T21:55:00"
         ],
         "xaxis": "x",
         "y": [
          10000,
          10000,
          10000,
          10000,
          10000,
          10000,
          10000,
          10000,
          10000,
          10000,
          10000,
          10000,
          10000,
          10000,
          10000,
          10000,
          10000,
          10000,
          10000,
          10000,
          10000,
          10000,
          10000,
          10000,
          10000,
          10000,
          10000,
          10000,
          10000,
          10000,
          10000,
          10000,
          10000,
          10000,
          10000,
          10000,
          10000,
          10000,
          10000,
          10000,
          10000,
          10000,
          10000,
          10000,
          10000,
          10000,
          10000,
          10000,
          10000,
          10000,
          10000,
          10000,
          10000,
          10000,
          10000,
          10000,
          10000.384950458847,
          9999.463376410373,
          9999.848326869222,
          9999.463376410373,
          10001.154851376545,
          10002.537212449257,
          10003.458786497731,
          10003.458786497731,
          10003.458786497731,
          10003.458786497731,
          10003.458786497731,
          10003.458786497731,
          10003.458786497731,
          10003.458786497731,
          10003.458786497731,
          10003.458786497731,
          10003.458786497731,
          10003.458786497731,
          10003.458786497731,
          10003.154207859161,
          10008.688114619163,
          10009.458143093212,
          10009.458143093212,
          10009.458143093212,
          10009.458143093212,
          10009.458143093212,
          10009.458143093212,
          10009.458143093212,
          10009.458143093212,
          10009.458143093212,
          10009.458143093212,
          10009.458143093212,
          10009.458143093212,
          10009.458143093212,
          10009.458143093212,
          10019.005304114344,
          10012.846011816546,
          10017.774133546909,
          10017.774133546909,
          10017.774133546909,
          10017.774133546909,
          10017.774133546909,
          10017.774133546909,
          10017.774133546909,
          10017.774133546909,
          10017.774133546909,
          10017.774133546909,
          10021.485075970366,
          10021.33130503188,
          10021.33130503188,
          10021.33130503188,
          10021.33130503188,
          10021.33130503188,
          10021.33130503188,
          10021.33130503188,
          10021.33130503188,
          10021.33130503188,
          10021.33130503188,
          10021.33130503188,
          10021.33130503188,
          10021.33130503188,
          10021.33130503188,
          10021.33130503188,
          10021.33130503188,
          10021.33130503188,
          10021.33130503188,
          10021.33130503188,
          10021.33130503188,
          10021.33130503188,
          10021.33130503188,
          10021.33130503188,
          10021.33130503188,
          10021.33130503188,
          10021.33130503188,
          10021.33130503188,
          10021.33130503188,
          10030.543039500215,
          10027.617168210494,
          10031.688000846563,
          10021.12186088316,
          10018.33815774287,
          10020.97969273372,
          10019.692563237943,
          10017.05102824709,
          10022.977662976684,
          10024.047732172883,
          10031.972337145435,
          10029.974366902476,
          10037.614635576156,
          10039.186101370811,
          10041.685468212227,
          10035.39960503361,
          10030.68520764965,
          10032.68317789261,
          10033.611078939375,
          10035.4668810329,
          10039.03631707051,
          10039.03631707051,
          10039.03631707051,
          10039.03631707051,
          10039.03631707051,
          10039.03631707051,
          10039.03631707051,
          10039.03631707051,
          10039.03631707051,
          10039.03631707051,
          10039.03631707051,
          10039.03631707051,
          10039.03631707051,
          10038.179305262667,
          10039.792751445922,
          10038.279882695098,
          10031.614702774583,
          10030.639649418177,
          10032.499419021191,
          10033.748500236125,
          10032.992065860715,
          10033.137811848042,
          10032.426546027527,
          10027.284475180471,
          10028.825048370061,
          10027.895163568552,
          10025.861943539443,
          10027.503094161464,
          10022.534473740503,
          10027.357348174137,
          10027.922868007321,
          10033.821373229788,
          10031.177464812596,
          10034.751258031294,
          10033.821373229788,
          10033.821373229788,
          10033.821373229788,
          10033.821373229788,
          10033.821373229788,
          10033.821373229788,
          10033.821373229788,
          10033.821373229788,
          10033.821373229788,
          10033.821373229788,
          10033.821373229788,
          10033.821373229788,
          10033.821373229788,
          10033.821373229788,
          10033.821373229788,
          10033.821373229788,
          10033.821373229788,
          10033.821373229788,
          10033.821373229788,
          10033.821373229788,
          10033.821373229788,
          10033.821373229788,
          10033.821373229788,
          10033.821373229788,
          10033.821373229788,
          10033.821373229788,
          10033.821373229788,
          10038.031214614432,
          10034.30947078163,
          10030.587726948832,
          10030.587726948832,
          10030.587726948832,
          10030.587726948832,
          10030.587726948832,
          10030.587726948832,
          10030.587726948832,
          10030.587726948832,
          10028.263033399433,
          10027.798094689551,
          10025.302809832738,
          10024.202341105563,
          10023.590228694451,
          10024.690697421625,
          10023.369468142602,
          10022.978116283339,
          10021.191948294436,
          10020.579835883324,
          10021.974652012963,
          10023.22229444137,
          10019.185019753682,
          10021.509713303083,
          10019.894136621595,
          10019.894136621595,
          10020.211901630242,
          10021.312370357417,
          10020.676840340122,
          10021.777309067296,
          10020.921018498153,
          10023.172125196937,
          10023.024951495703,
          10024.346180774726,
          10022.707186487058,
          10021.777309067296,
          10021.777309067296,
          10021.777309067296,
          10021.777309067296,
          10021.777309067296,
          10021.777309067296,
          10021.777309067296,
          10021.777309067296,
          10021.777309067296,
          10021.777309067296,
          10025.337992740486,
          10023.844046513486,
          10021.67231839454,
          10021.67231839454,
          10021.67231839454,
          10021.67231839454,
          10021.67231839454,
          10021.67231839454,
          10021.67231839454,
          10021.67231839454,
          10021.67231839454,
          10021.67231839454,
          10021.67231839454,
          10021.67231839454,
          10021.67231839454,
          10021.67231839454,
          10021.67231839454,
          10021.67231839454,
          10021.67231839454,
          10021.67231839454,
          10021.67231839454,
          10021.67231839454,
          10021.67231839454,
          10021.67231839454,
          10021.67231839454,
          10021.67231839454,
          10021.67231839454
         ],
         "yaxis": "y"
        }
       ],
       "layout": {
        "legend": {
         "tracegroupgap": 0
        },
        "margin": {
         "t": 60
        },
        "template": {
         "data": {
          "bar": [
           {
            "error_x": {
             "color": "#2a3f5f"
            },
            "error_y": {
             "color": "#2a3f5f"
            },
            "marker": {
             "line": {
              "color": "#E5ECF6",
              "width": 0.5
             }
            },
            "type": "bar"
           }
          ],
          "barpolar": [
           {
            "marker": {
             "line": {
              "color": "#E5ECF6",
              "width": 0.5
             }
            },
            "type": "barpolar"
           }
          ],
          "carpet": [
           {
            "aaxis": {
             "endlinecolor": "#2a3f5f",
             "gridcolor": "white",
             "linecolor": "white",
             "minorgridcolor": "white",
             "startlinecolor": "#2a3f5f"
            },
            "baxis": {
             "endlinecolor": "#2a3f5f",
             "gridcolor": "white",
             "linecolor": "white",
             "minorgridcolor": "white",
             "startlinecolor": "#2a3f5f"
            },
            "type": "carpet"
           }
          ],
          "choropleth": [
           {
            "colorbar": {
             "outlinewidth": 0,
             "ticks": ""
            },
            "type": "choropleth"
           }
          ],
          "contour": [
           {
            "colorbar": {
             "outlinewidth": 0,
             "ticks": ""
            },
            "colorscale": [
             [
              0,
              "#0d0887"
             ],
             [
              0.1111111111111111,
              "#46039f"
             ],
             [
              0.2222222222222222,
              "#7201a8"
             ],
             [
              0.3333333333333333,
              "#9c179e"
             ],
             [
              0.4444444444444444,
              "#bd3786"
             ],
             [
              0.5555555555555556,
              "#d8576b"
             ],
             [
              0.6666666666666666,
              "#ed7953"
             ],
             [
              0.7777777777777778,
              "#fb9f3a"
             ],
             [
              0.8888888888888888,
              "#fdca26"
             ],
             [
              1,
              "#f0f921"
             ]
            ],
            "type": "contour"
           }
          ],
          "contourcarpet": [
           {
            "colorbar": {
             "outlinewidth": 0,
             "ticks": ""
            },
            "type": "contourcarpet"
           }
          ],
          "heatmap": [
           {
            "colorbar": {
             "outlinewidth": 0,
             "ticks": ""
            },
            "colorscale": [
             [
              0,
              "#0d0887"
             ],
             [
              0.1111111111111111,
              "#46039f"
             ],
             [
              0.2222222222222222,
              "#7201a8"
             ],
             [
              0.3333333333333333,
              "#9c179e"
             ],
             [
              0.4444444444444444,
              "#bd3786"
             ],
             [
              0.5555555555555556,
              "#d8576b"
             ],
             [
              0.6666666666666666,
              "#ed7953"
             ],
             [
              0.7777777777777778,
              "#fb9f3a"
             ],
             [
              0.8888888888888888,
              "#fdca26"
             ],
             [
              1,
              "#f0f921"
             ]
            ],
            "type": "heatmap"
           }
          ],
          "heatmapgl": [
           {
            "colorbar": {
             "outlinewidth": 0,
             "ticks": ""
            },
            "colorscale": [
             [
              0,
              "#0d0887"
             ],
             [
              0.1111111111111111,
              "#46039f"
             ],
             [
              0.2222222222222222,
              "#7201a8"
             ],
             [
              0.3333333333333333,
              "#9c179e"
             ],
             [
              0.4444444444444444,
              "#bd3786"
             ],
             [
              0.5555555555555556,
              "#d8576b"
             ],
             [
              0.6666666666666666,
              "#ed7953"
             ],
             [
              0.7777777777777778,
              "#fb9f3a"
             ],
             [
              0.8888888888888888,
              "#fdca26"
             ],
             [
              1,
              "#f0f921"
             ]
            ],
            "type": "heatmapgl"
           }
          ],
          "histogram": [
           {
            "marker": {
             "colorbar": {
              "outlinewidth": 0,
              "ticks": ""
             }
            },
            "type": "histogram"
           }
          ],
          "histogram2d": [
           {
            "colorbar": {
             "outlinewidth": 0,
             "ticks": ""
            },
            "colorscale": [
             [
              0,
              "#0d0887"
             ],
             [
              0.1111111111111111,
              "#46039f"
             ],
             [
              0.2222222222222222,
              "#7201a8"
             ],
             [
              0.3333333333333333,
              "#9c179e"
             ],
             [
              0.4444444444444444,
              "#bd3786"
             ],
             [
              0.5555555555555556,
              "#d8576b"
             ],
             [
              0.6666666666666666,
              "#ed7953"
             ],
             [
              0.7777777777777778,
              "#fb9f3a"
             ],
             [
              0.8888888888888888,
              "#fdca26"
             ],
             [
              1,
              "#f0f921"
             ]
            ],
            "type": "histogram2d"
           }
          ],
          "histogram2dcontour": [
           {
            "colorbar": {
             "outlinewidth": 0,
             "ticks": ""
            },
            "colorscale": [
             [
              0,
              "#0d0887"
             ],
             [
              0.1111111111111111,
              "#46039f"
             ],
             [
              0.2222222222222222,
              "#7201a8"
             ],
             [
              0.3333333333333333,
              "#9c179e"
             ],
             [
              0.4444444444444444,
              "#bd3786"
             ],
             [
              0.5555555555555556,
              "#d8576b"
             ],
             [
              0.6666666666666666,
              "#ed7953"
             ],
             [
              0.7777777777777778,
              "#fb9f3a"
             ],
             [
              0.8888888888888888,
              "#fdca26"
             ],
             [
              1,
              "#f0f921"
             ]
            ],
            "type": "histogram2dcontour"
           }
          ],
          "mesh3d": [
           {
            "colorbar": {
             "outlinewidth": 0,
             "ticks": ""
            },
            "type": "mesh3d"
           }
          ],
          "parcoords": [
           {
            "line": {
             "colorbar": {
              "outlinewidth": 0,
              "ticks": ""
             }
            },
            "type": "parcoords"
           }
          ],
          "pie": [
           {
            "automargin": true,
            "type": "pie"
           }
          ],
          "scatter": [
           {
            "marker": {
             "colorbar": {
              "outlinewidth": 0,
              "ticks": ""
             }
            },
            "type": "scatter"
           }
          ],
          "scatter3d": [
           {
            "line": {
             "colorbar": {
              "outlinewidth": 0,
              "ticks": ""
             }
            },
            "marker": {
             "colorbar": {
              "outlinewidth": 0,
              "ticks": ""
             }
            },
            "type": "scatter3d"
           }
          ],
          "scattercarpet": [
           {
            "marker": {
             "colorbar": {
              "outlinewidth": 0,
              "ticks": ""
             }
            },
            "type": "scattercarpet"
           }
          ],
          "scattergeo": [
           {
            "marker": {
             "colorbar": {
              "outlinewidth": 0,
              "ticks": ""
             }
            },
            "type": "scattergeo"
           }
          ],
          "scattergl": [
           {
            "marker": {
             "colorbar": {
              "outlinewidth": 0,
              "ticks": ""
             }
            },
            "type": "scattergl"
           }
          ],
          "scattermapbox": [
           {
            "marker": {
             "colorbar": {
              "outlinewidth": 0,
              "ticks": ""
             }
            },
            "type": "scattermapbox"
           }
          ],
          "scatterpolar": [
           {
            "marker": {
             "colorbar": {
              "outlinewidth": 0,
              "ticks": ""
             }
            },
            "type": "scatterpolar"
           }
          ],
          "scatterpolargl": [
           {
            "marker": {
             "colorbar": {
              "outlinewidth": 0,
              "ticks": ""
             }
            },
            "type": "scatterpolargl"
           }
          ],
          "scatterternary": [
           {
            "marker": {
             "colorbar": {
              "outlinewidth": 0,
              "ticks": ""
             }
            },
            "type": "scatterternary"
           }
          ],
          "surface": [
           {
            "colorbar": {
             "outlinewidth": 0,
             "ticks": ""
            },
            "colorscale": [
             [
              0,
              "#0d0887"
             ],
             [
              0.1111111111111111,
              "#46039f"
             ],
             [
              0.2222222222222222,
              "#7201a8"
             ],
             [
              0.3333333333333333,
              "#9c179e"
             ],
             [
              0.4444444444444444,
              "#bd3786"
             ],
             [
              0.5555555555555556,
              "#d8576b"
             ],
             [
              0.6666666666666666,
              "#ed7953"
             ],
             [
              0.7777777777777778,
              "#fb9f3a"
             ],
             [
              0.8888888888888888,
              "#fdca26"
             ],
             [
              1,
              "#f0f921"
             ]
            ],
            "type": "surface"
           }
          ],
          "table": [
           {
            "cells": {
             "fill": {
              "color": "#EBF0F8"
             },
             "line": {
              "color": "white"
             }
            },
            "header": {
             "fill": {
              "color": "#C8D4E3"
             },
             "line": {
              "color": "white"
             }
            },
            "type": "table"
           }
          ]
         },
         "layout": {
          "annotationdefaults": {
           "arrowcolor": "#2a3f5f",
           "arrowhead": 0,
           "arrowwidth": 1
          },
          "coloraxis": {
           "colorbar": {
            "outlinewidth": 0,
            "ticks": ""
           }
          },
          "colorscale": {
           "diverging": [
            [
             0,
             "#8e0152"
            ],
            [
             0.1,
             "#c51b7d"
            ],
            [
             0.2,
             "#de77ae"
            ],
            [
             0.3,
             "#f1b6da"
            ],
            [
             0.4,
             "#fde0ef"
            ],
            [
             0.5,
             "#f7f7f7"
            ],
            [
             0.6,
             "#e6f5d0"
            ],
            [
             0.7,
             "#b8e186"
            ],
            [
             0.8,
             "#7fbc41"
            ],
            [
             0.9,
             "#4d9221"
            ],
            [
             1,
             "#276419"
            ]
           ],
           "sequential": [
            [
             0,
             "#0d0887"
            ],
            [
             0.1111111111111111,
             "#46039f"
            ],
            [
             0.2222222222222222,
             "#7201a8"
            ],
            [
             0.3333333333333333,
             "#9c179e"
            ],
            [
             0.4444444444444444,
             "#bd3786"
            ],
            [
             0.5555555555555556,
             "#d8576b"
            ],
            [
             0.6666666666666666,
             "#ed7953"
            ],
            [
             0.7777777777777778,
             "#fb9f3a"
            ],
            [
             0.8888888888888888,
             "#fdca26"
            ],
            [
             1,
             "#f0f921"
            ]
           ],
           "sequentialminus": [
            [
             0,
             "#0d0887"
            ],
            [
             0.1111111111111111,
             "#46039f"
            ],
            [
             0.2222222222222222,
             "#7201a8"
            ],
            [
             0.3333333333333333,
             "#9c179e"
            ],
            [
             0.4444444444444444,
             "#bd3786"
            ],
            [
             0.5555555555555556,
             "#d8576b"
            ],
            [
             0.6666666666666666,
             "#ed7953"
            ],
            [
             0.7777777777777778,
             "#fb9f3a"
            ],
            [
             0.8888888888888888,
             "#fdca26"
            ],
            [
             1,
             "#f0f921"
            ]
           ]
          },
          "colorway": [
           "#636efa",
           "#EF553B",
           "#00cc96",
           "#ab63fa",
           "#FFA15A",
           "#19d3f3",
           "#FF6692",
           "#B6E880",
           "#FF97FF",
           "#FECB52"
          ],
          "font": {
           "color": "#2a3f5f"
          },
          "geo": {
           "bgcolor": "white",
           "lakecolor": "white",
           "landcolor": "#E5ECF6",
           "showlakes": true,
           "showland": true,
           "subunitcolor": "white"
          },
          "hoverlabel": {
           "align": "left"
          },
          "hovermode": "closest",
          "mapbox": {
           "style": "light"
          },
          "paper_bgcolor": "white",
          "plot_bgcolor": "#E5ECF6",
          "polar": {
           "angularaxis": {
            "gridcolor": "white",
            "linecolor": "white",
            "ticks": ""
           },
           "bgcolor": "#E5ECF6",
           "radialaxis": {
            "gridcolor": "white",
            "linecolor": "white",
            "ticks": ""
           }
          },
          "scene": {
           "xaxis": {
            "backgroundcolor": "#E5ECF6",
            "gridcolor": "white",
            "gridwidth": 2,
            "linecolor": "white",
            "showbackground": true,
            "ticks": "",
            "zerolinecolor": "white"
           },
           "yaxis": {
            "backgroundcolor": "#E5ECF6",
            "gridcolor": "white",
            "gridwidth": 2,
            "linecolor": "white",
            "showbackground": true,
            "ticks": "",
            "zerolinecolor": "white"
           },
           "zaxis": {
            "backgroundcolor": "#E5ECF6",
            "gridcolor": "white",
            "gridwidth": 2,
            "linecolor": "white",
            "showbackground": true,
            "ticks": "",
            "zerolinecolor": "white"
           }
          },
          "shapedefaults": {
           "line": {
            "color": "#2a3f5f"
           }
          },
          "ternary": {
           "aaxis": {
            "gridcolor": "white",
            "linecolor": "white",
            "ticks": ""
           },
           "baxis": {
            "gridcolor": "white",
            "linecolor": "white",
            "ticks": ""
           },
           "bgcolor": "#E5ECF6",
           "caxis": {
            "gridcolor": "white",
            "linecolor": "white",
            "ticks": ""
           }
          },
          "title": {
           "x": 0.05
          },
          "xaxis": {
           "automargin": true,
           "gridcolor": "white",
           "linecolor": "white",
           "ticks": "",
           "title": {
            "standoff": 15
           },
           "zerolinecolor": "white",
           "zerolinewidth": 2
          },
          "yaxis": {
           "automargin": true,
           "gridcolor": "white",
           "linecolor": "white",
           "ticks": "",
           "title": {
            "standoff": 15
           },
           "zerolinecolor": "white",
           "zerolinewidth": 2
          }
         }
        },
        "xaxis": {
         "anchor": "y",
         "domain": [
          0,
          1
         ],
         "title": {
          "text": "x"
         }
        },
        "yaxis": {
         "anchor": "x",
         "domain": [
          0,
          1
         ],
         "title": {
          "text": "nav"
         }
        }
       }
      },
      "text/html": [
       "<div>\n",
       "        \n",
       "        \n",
       "            <div id=\"e2517716-e81b-4163-a2c7-7cc748165618\" class=\"plotly-graph-div\" style=\"height:525px; width:100%;\"></div>\n",
       "            <script type=\"text/javascript\">\n",
       "                require([\"plotly\"], function(Plotly) {\n",
       "                    window.PLOTLYENV=window.PLOTLYENV || {};\n",
       "                    \n",
       "                if (document.getElementById(\"e2517716-e81b-4163-a2c7-7cc748165618\")) {\n",
       "                    Plotly.newPlot(\n",
       "                        'e2517716-e81b-4163-a2c7-7cc748165618',\n",
       "                        [{\"hoverlabel\": {\"namelength\": 0}, \"hovertemplate\": \"x=%{x}<br>nav=%{y}\", \"legendgroup\": \"\", \"line\": {\"color\": \"#636efa\", \"dash\": \"solid\"}, \"mode\": \"lines\", \"name\": \"\", \"showlegend\": false, \"type\": \"scatter\", \"x\": [\"2020-04-02T23:00:00\", \"2020-04-02T23:05:00\", \"2020-04-02T23:10:00\", \"2020-04-02T23:15:00\", \"2020-04-02T23:20:00\", \"2020-04-02T23:25:00\", \"2020-04-02T23:30:00\", \"2020-04-02T23:35:00\", \"2020-04-02T23:40:00\", \"2020-04-02T23:45:00\", \"2020-04-02T23:50:00\", \"2020-04-02T23:55:00\", \"2020-04-03T00:00:00\", \"2020-04-03T00:05:00\", \"2020-04-03T00:10:00\", \"2020-04-03T00:15:00\", \"2020-04-03T00:20:00\", \"2020-04-03T00:25:00\", \"2020-04-03T00:30:00\", \"2020-04-03T00:35:00\", \"2020-04-03T00:40:00\", \"2020-04-03T00:45:00\", \"2020-04-03T00:50:00\", \"2020-04-03T00:55:00\", \"2020-04-03T01:00:00\", \"2020-04-03T01:05:00\", \"2020-04-03T01:10:00\", \"2020-04-03T01:15:00\", \"2020-04-03T01:20:00\", \"2020-04-03T01:25:00\", \"2020-04-03T01:30:00\", \"2020-04-03T01:35:00\", \"2020-04-03T01:40:00\", \"2020-04-03T01:45:00\", \"2020-04-03T01:50:00\", \"2020-04-03T01:55:00\", \"2020-04-03T02:00:00\", \"2020-04-03T02:05:00\", \"2020-04-03T02:10:00\", \"2020-04-03T02:15:00\", \"2020-04-03T02:20:00\", \"2020-04-03T02:25:00\", \"2020-04-03T02:30:00\", \"2020-04-03T02:35:00\", \"2020-04-03T02:40:00\", \"2020-04-03T02:45:00\", \"2020-04-03T02:50:00\", \"2020-04-03T02:55:00\", \"2020-04-03T03:00:00\", \"2020-04-03T03:05:00\", \"2020-04-03T03:10:00\", \"2020-04-03T03:15:00\", \"2020-04-03T03:20:00\", \"2020-04-03T03:25:00\", \"2020-04-03T03:30:00\", \"2020-04-03T03:35:00\", \"2020-04-03T03:40:00\", \"2020-04-03T03:45:00\", \"2020-04-03T03:50:00\", \"2020-04-03T03:55:00\", \"2020-04-03T04:00:00\", \"2020-04-03T04:05:00\", \"2020-04-03T04:10:00\", \"2020-04-03T04:10:00\", \"2020-04-03T04:15:00\", \"2020-04-03T04:20:00\", \"2020-04-03T04:25:00\", \"2020-04-03T04:30:00\", \"2020-04-03T04:35:00\", \"2020-04-03T04:40:00\", \"2020-04-03T04:45:00\", \"2020-04-03T04:50:00\", \"2020-04-03T04:55:00\", \"2020-04-03T05:00:00\", \"2020-04-03T05:05:00\", \"2020-04-03T05:10:00\", \"2020-04-03T05:15:00\", \"2020-04-03T05:20:00\", \"2020-04-03T05:20:00\", \"2020-04-03T05:25:00\", \"2020-04-03T05:30:00\", \"2020-04-03T05:35:00\", \"2020-04-03T05:40:00\", \"2020-04-03T05:45:00\", \"2020-04-03T05:50:00\", \"2020-04-03T05:55:00\", \"2020-04-03T06:00:00\", \"2020-04-03T06:05:00\", \"2020-04-03T06:10:00\", \"2020-04-03T06:15:00\", \"2020-04-03T06:20:00\", \"2020-04-03T06:25:00\", \"2020-04-03T06:30:00\", \"2020-04-03T06:35:00\", \"2020-04-03T06:35:00\", \"2020-04-03T06:40:00\", \"2020-04-03T06:45:00\", \"2020-04-03T06:50:00\", \"2020-04-03T06:55:00\", \"2020-04-03T07:00:00\", \"2020-04-03T07:05:00\", \"2020-04-03T07:10:00\", \"2020-04-03T07:15:00\", \"2020-04-03T07:20:00\", \"2020-04-03T07:25:00\", \"2020-04-03T07:25:00\", \"2020-04-03T07:30:00\", \"2020-04-03T07:35:00\", \"2020-04-03T07:40:00\", \"2020-04-03T07:45:00\", \"2020-04-03T07:50:00\", \"2020-04-03T07:55:00\", \"2020-04-03T08:00:00\", \"2020-04-03T08:05:00\", \"2020-04-03T08:10:00\", \"2020-04-03T08:15:00\", \"2020-04-03T08:20:00\", \"2020-04-03T08:25:00\", \"2020-04-03T08:30:00\", \"2020-04-03T08:35:00\", \"2020-04-03T08:40:00\", \"2020-04-03T08:45:00\", \"2020-04-03T08:50:00\", \"2020-04-03T08:55:00\", \"2020-04-03T09:00:00\", \"2020-04-03T09:05:00\", \"2020-04-03T09:10:00\", \"2020-04-03T09:15:00\", \"2020-04-03T09:20:00\", \"2020-04-03T09:25:00\", \"2020-04-03T09:30:00\", \"2020-04-03T09:35:00\", \"2020-04-03T09:40:00\", \"2020-04-03T09:45:00\", \"2020-04-03T09:50:00\", \"2020-04-03T09:55:00\", \"2020-04-03T10:00:00\", \"2020-04-03T10:05:00\", \"2020-04-03T10:10:00\", \"2020-04-03T10:15:00\", \"2020-04-03T10:20:00\", \"2020-04-03T10:25:00\", \"2020-04-03T10:30:00\", \"2020-04-03T10:35:00\", \"2020-04-03T10:40:00\", \"2020-04-03T10:45:00\", \"2020-04-03T10:50:00\", \"2020-04-03T10:55:00\", \"2020-04-03T11:00:00\", \"2020-04-03T11:05:00\", \"2020-04-03T11:10:00\", \"2020-04-03T11:15:00\", \"2020-04-03T11:20:00\", \"2020-04-03T11:20:00\", \"2020-04-03T11:25:00\", \"2020-04-03T11:30:00\", \"2020-04-03T11:35:00\", \"2020-04-03T11:40:00\", \"2020-04-03T11:45:00\", \"2020-04-03T11:50:00\", \"2020-04-03T11:55:00\", \"2020-04-03T12:00:00\", \"2020-04-03T12:05:00\", \"2020-04-03T12:10:00\", \"2020-04-03T12:15:00\", \"2020-04-03T12:20:00\", \"2020-04-03T12:25:00\", \"2020-04-03T12:30:00\", \"2020-04-03T12:35:00\", \"2020-04-03T12:40:00\", \"2020-04-03T12:45:00\", \"2020-04-03T12:50:00\", \"2020-04-03T12:55:00\", \"2020-04-03T13:00:00\", \"2020-04-03T13:05:00\", \"2020-04-03T13:10:00\", \"2020-04-03T13:15:00\", \"2020-04-03T13:20:00\", \"2020-04-03T13:25:00\", \"2020-04-03T13:30:00\", \"2020-04-03T13:35:00\", \"2020-04-03T13:40:00\", \"2020-04-03T13:45:00\", \"2020-04-03T13:50:00\", \"2020-04-03T13:55:00\", \"2020-04-03T14:00:00\", \"2020-04-03T14:05:00\", \"2020-04-03T14:05:00\", \"2020-04-03T14:10:00\", \"2020-04-03T14:15:00\", \"2020-04-03T14:20:00\", \"2020-04-03T14:25:00\", \"2020-04-03T14:30:00\", \"2020-04-03T14:35:00\", \"2020-04-03T14:40:00\", \"2020-04-03T14:45:00\", \"2020-04-03T14:50:00\", \"2020-04-03T14:55:00\", \"2020-04-03T15:00:00\", \"2020-04-03T15:05:00\", \"2020-04-03T15:10:00\", \"2020-04-03T15:15:00\", \"2020-04-03T15:20:00\", \"2020-04-03T15:25:00\", \"2020-04-03T15:30:00\", \"2020-04-03T15:35:00\", \"2020-04-03T15:40:00\", \"2020-04-03T15:45:00\", \"2020-04-03T15:50:00\", \"2020-04-03T15:55:00\", \"2020-04-03T16:00:00\", \"2020-04-03T16:05:00\", \"2020-04-03T16:10:00\", \"2020-04-03T16:15:00\", \"2020-04-03T16:20:00\", \"2020-04-03T16:25:00\", \"2020-04-03T16:25:00\", \"2020-04-03T16:30:00\", \"2020-04-03T16:35:00\", \"2020-04-03T16:40:00\", \"2020-04-03T16:45:00\", \"2020-04-03T16:50:00\", \"2020-04-03T16:55:00\", \"2020-04-03T17:00:00\", \"2020-04-03T17:05:00\", \"2020-04-03T17:10:00\", \"2020-04-03T17:15:00\", \"2020-04-03T17:20:00\", \"2020-04-03T17:25:00\", \"2020-04-03T17:30:00\", \"2020-04-03T17:35:00\", \"2020-04-03T17:40:00\", \"2020-04-03T17:45:00\", \"2020-04-03T17:50:00\", \"2020-04-03T17:55:00\", \"2020-04-03T18:00:00\", \"2020-04-03T18:05:00\", \"2020-04-03T18:10:00\", \"2020-04-03T18:15:00\", \"2020-04-03T18:20:00\", \"2020-04-03T18:25:00\", \"2020-04-03T18:30:00\", \"2020-04-03T18:35:00\", \"2020-04-03T18:40:00\", \"2020-04-03T18:45:00\", \"2020-04-03T18:50:00\", \"2020-04-03T18:55:00\", \"2020-04-03T19:00:00\", \"2020-04-03T19:05:00\", \"2020-04-03T19:05:00\", \"2020-04-03T19:10:00\", \"2020-04-03T19:15:00\", \"2020-04-03T19:20:00\", \"2020-04-03T19:25:00\", \"2020-04-03T19:30:00\", \"2020-04-03T19:35:00\", \"2020-04-03T19:40:00\", \"2020-04-03T19:45:00\", \"2020-04-03T19:50:00\", \"2020-04-03T19:55:00\", \"2020-04-03T20:00:00\", \"2020-04-03T20:00:00\", \"2020-04-03T20:05:00\", \"2020-04-03T20:10:00\", \"2020-04-03T20:15:00\", \"2020-04-03T20:20:00\", \"2020-04-03T20:25:00\", \"2020-04-03T20:30:00\", \"2020-04-03T20:35:00\", \"2020-04-03T20:40:00\", \"2020-04-03T20:45:00\", \"2020-04-03T20:50:00\", \"2020-04-03T20:55:00\", \"2020-04-03T21:00:00\", \"2020-04-03T21:10:00\", \"2020-04-03T21:15:00\", \"2020-04-03T21:20:00\", \"2020-04-03T21:25:00\", \"2020-04-03T21:30:00\", \"2020-04-03T21:35:00\", \"2020-04-03T21:40:00\", \"2020-04-03T21:45:00\", \"2020-04-03T21:50:00\", \"2020-04-03T21:50:00\", \"2020-04-03T21:55:00\"], \"xaxis\": \"x\", \"y\": [10000.0, 10000.0, 10000.0, 10000.0, 10000.0, 10000.0, 10000.0, 10000.0, 10000.0, 10000.0, 10000.0, 10000.0, 10000.0, 10000.0, 10000.0, 10000.0, 10000.0, 10000.0, 10000.0, 10000.0, 10000.0, 10000.0, 10000.0, 10000.0, 10000.0, 10000.0, 10000.0, 10000.0, 10000.0, 10000.0, 10000.0, 10000.0, 10000.0, 10000.0, 10000.0, 10000.0, 10000.0, 10000.0, 10000.0, 10000.0, 10000.0, 10000.0, 10000.0, 10000.0, 10000.0, 10000.0, 10000.0, 10000.0, 10000.0, 10000.0, 10000.0, 10000.0, 10000.0, 10000.0, 10000.0, 10000.0, 10000.384950458847, 9999.463376410373, 9999.848326869222, 9999.463376410373, 10001.154851376545, 10002.537212449257, 10003.458786497731, 10003.458786497731, 10003.458786497731, 10003.458786497731, 10003.458786497731, 10003.458786497731, 10003.458786497731, 10003.458786497731, 10003.458786497731, 10003.458786497731, 10003.458786497731, 10003.458786497731, 10003.458786497731, 10003.154207859161, 10008.688114619163, 10009.458143093212, 10009.458143093212, 10009.458143093212, 10009.458143093212, 10009.458143093212, 10009.458143093212, 10009.458143093212, 10009.458143093212, 10009.458143093212, 10009.458143093212, 10009.458143093212, 10009.458143093212, 10009.458143093212, 10009.458143093212, 10019.005304114344, 10012.846011816546, 10017.774133546909, 10017.774133546909, 10017.774133546909, 10017.774133546909, 10017.774133546909, 10017.774133546909, 10017.774133546909, 10017.774133546909, 10017.774133546909, 10017.774133546909, 10021.485075970366, 10021.33130503188, 10021.33130503188, 10021.33130503188, 10021.33130503188, 10021.33130503188, 10021.33130503188, 10021.33130503188, 10021.33130503188, 10021.33130503188, 10021.33130503188, 10021.33130503188, 10021.33130503188, 10021.33130503188, 10021.33130503188, 10021.33130503188, 10021.33130503188, 10021.33130503188, 10021.33130503188, 10021.33130503188, 10021.33130503188, 10021.33130503188, 10021.33130503188, 10021.33130503188, 10021.33130503188, 10021.33130503188, 10021.33130503188, 10021.33130503188, 10021.33130503188, 10030.543039500215, 10027.617168210494, 10031.688000846563, 10021.12186088316, 10018.33815774287, 10020.97969273372, 10019.692563237943, 10017.05102824709, 10022.977662976684, 10024.047732172883, 10031.972337145435, 10029.974366902476, 10037.614635576156, 10039.186101370811, 10041.685468212227, 10035.39960503361, 10030.68520764965, 10032.68317789261, 10033.611078939375, 10035.4668810329, 10039.03631707051, 10039.03631707051, 10039.03631707051, 10039.03631707051, 10039.03631707051, 10039.03631707051, 10039.03631707051, 10039.03631707051, 10039.03631707051, 10039.03631707051, 10039.03631707051, 10039.03631707051, 10039.03631707051, 10038.179305262667, 10039.792751445922, 10038.279882695098, 10031.614702774583, 10030.639649418177, 10032.499419021191, 10033.748500236125, 10032.992065860715, 10033.137811848042, 10032.426546027527, 10027.284475180471, 10028.825048370061, 10027.895163568552, 10025.861943539443, 10027.503094161464, 10022.534473740503, 10027.357348174137, 10027.922868007321, 10033.821373229788, 10031.177464812596, 10034.751258031294, 10033.821373229788, 10033.821373229788, 10033.821373229788, 10033.821373229788, 10033.821373229788, 10033.821373229788, 10033.821373229788, 10033.821373229788, 10033.821373229788, 10033.821373229788, 10033.821373229788, 10033.821373229788, 10033.821373229788, 10033.821373229788, 10033.821373229788, 10033.821373229788, 10033.821373229788, 10033.821373229788, 10033.821373229788, 10033.821373229788, 10033.821373229788, 10033.821373229788, 10033.821373229788, 10033.821373229788, 10033.821373229788, 10033.821373229788, 10033.821373229788, 10038.031214614432, 10034.30947078163, 10030.587726948832, 10030.587726948832, 10030.587726948832, 10030.587726948832, 10030.587726948832, 10030.587726948832, 10030.587726948832, 10030.587726948832, 10028.263033399433, 10027.798094689551, 10025.302809832738, 10024.202341105563, 10023.590228694451, 10024.690697421625, 10023.369468142602, 10022.978116283339, 10021.191948294436, 10020.579835883324, 10021.974652012963, 10023.22229444137, 10019.185019753682, 10021.509713303083, 10019.894136621595, 10019.894136621595, 10020.211901630242, 10021.312370357417, 10020.676840340122, 10021.777309067296, 10020.921018498153, 10023.172125196937, 10023.024951495703, 10024.346180774726, 10022.707186487058, 10021.777309067296, 10021.777309067296, 10021.777309067296, 10021.777309067296, 10021.777309067296, 10021.777309067296, 10021.777309067296, 10021.777309067296, 10021.777309067296, 10021.777309067296, 10025.337992740486, 10023.844046513486, 10021.67231839454, 10021.67231839454, 10021.67231839454, 10021.67231839454, 10021.67231839454, 10021.67231839454, 10021.67231839454, 10021.67231839454, 10021.67231839454, 10021.67231839454, 10021.67231839454, 10021.67231839454, 10021.67231839454, 10021.67231839454, 10021.67231839454, 10021.67231839454, 10021.67231839454, 10021.67231839454, 10021.67231839454, 10021.67231839454, 10021.67231839454, 10021.67231839454, 10021.67231839454, 10021.67231839454, 10021.67231839454], \"yaxis\": \"y\"}],\n",
       "                        {\"legend\": {\"tracegroupgap\": 0}, \"margin\": {\"t\": 60}, \"template\": {\"data\": {\"bar\": [{\"error_x\": {\"color\": \"#2a3f5f\"}, \"error_y\": {\"color\": \"#2a3f5f\"}, \"marker\": {\"line\": {\"color\": \"#E5ECF6\", \"width\": 0.5}}, \"type\": \"bar\"}], \"barpolar\": [{\"marker\": {\"line\": {\"color\": \"#E5ECF6\", \"width\": 0.5}}, \"type\": \"barpolar\"}], \"carpet\": [{\"aaxis\": {\"endlinecolor\": \"#2a3f5f\", \"gridcolor\": \"white\", \"linecolor\": \"white\", \"minorgridcolor\": \"white\", \"startlinecolor\": \"#2a3f5f\"}, \"baxis\": {\"endlinecolor\": \"#2a3f5f\", \"gridcolor\": \"white\", \"linecolor\": \"white\", \"minorgridcolor\": \"white\", \"startlinecolor\": \"#2a3f5f\"}, \"type\": \"carpet\"}], \"choropleth\": [{\"colorbar\": {\"outlinewidth\": 0, \"ticks\": \"\"}, \"type\": \"choropleth\"}], \"contour\": [{\"colorbar\": {\"outlinewidth\": 0, \"ticks\": \"\"}, \"colorscale\": [[0.0, \"#0d0887\"], [0.1111111111111111, \"#46039f\"], [0.2222222222222222, \"#7201a8\"], [0.3333333333333333, \"#9c179e\"], [0.4444444444444444, \"#bd3786\"], [0.5555555555555556, \"#d8576b\"], [0.6666666666666666, \"#ed7953\"], [0.7777777777777778, \"#fb9f3a\"], [0.8888888888888888, \"#fdca26\"], [1.0, \"#f0f921\"]], \"type\": \"contour\"}], \"contourcarpet\": [{\"colorbar\": {\"outlinewidth\": 0, \"ticks\": \"\"}, \"type\": \"contourcarpet\"}], \"heatmap\": [{\"colorbar\": {\"outlinewidth\": 0, \"ticks\": \"\"}, \"colorscale\": [[0.0, \"#0d0887\"], [0.1111111111111111, \"#46039f\"], [0.2222222222222222, \"#7201a8\"], [0.3333333333333333, \"#9c179e\"], [0.4444444444444444, \"#bd3786\"], [0.5555555555555556, \"#d8576b\"], [0.6666666666666666, \"#ed7953\"], [0.7777777777777778, \"#fb9f3a\"], [0.8888888888888888, \"#fdca26\"], [1.0, \"#f0f921\"]], \"type\": \"heatmap\"}], \"heatmapgl\": [{\"colorbar\": {\"outlinewidth\": 0, \"ticks\": \"\"}, \"colorscale\": [[0.0, \"#0d0887\"], [0.1111111111111111, \"#46039f\"], [0.2222222222222222, \"#7201a8\"], [0.3333333333333333, \"#9c179e\"], [0.4444444444444444, \"#bd3786\"], [0.5555555555555556, \"#d8576b\"], [0.6666666666666666, \"#ed7953\"], [0.7777777777777778, \"#fb9f3a\"], [0.8888888888888888, \"#fdca26\"], [1.0, \"#f0f921\"]], \"type\": \"heatmapgl\"}], \"histogram\": [{\"marker\": {\"colorbar\": {\"outlinewidth\": 0, \"ticks\": \"\"}}, \"type\": \"histogram\"}], \"histogram2d\": [{\"colorbar\": {\"outlinewidth\": 0, \"ticks\": \"\"}, \"colorscale\": [[0.0, \"#0d0887\"], [0.1111111111111111, \"#46039f\"], [0.2222222222222222, \"#7201a8\"], [0.3333333333333333, \"#9c179e\"], [0.4444444444444444, \"#bd3786\"], [0.5555555555555556, \"#d8576b\"], [0.6666666666666666, \"#ed7953\"], [0.7777777777777778, \"#fb9f3a\"], [0.8888888888888888, \"#fdca26\"], [1.0, \"#f0f921\"]], \"type\": \"histogram2d\"}], \"histogram2dcontour\": [{\"colorbar\": {\"outlinewidth\": 0, \"ticks\": \"\"}, \"colorscale\": [[0.0, \"#0d0887\"], [0.1111111111111111, \"#46039f\"], [0.2222222222222222, \"#7201a8\"], [0.3333333333333333, \"#9c179e\"], [0.4444444444444444, \"#bd3786\"], [0.5555555555555556, \"#d8576b\"], [0.6666666666666666, \"#ed7953\"], [0.7777777777777778, \"#fb9f3a\"], [0.8888888888888888, \"#fdca26\"], [1.0, \"#f0f921\"]], \"type\": \"histogram2dcontour\"}], \"mesh3d\": [{\"colorbar\": {\"outlinewidth\": 0, \"ticks\": \"\"}, \"type\": \"mesh3d\"}], \"parcoords\": [{\"line\": {\"colorbar\": {\"outlinewidth\": 0, \"ticks\": \"\"}}, \"type\": \"parcoords\"}], \"pie\": [{\"automargin\": true, \"type\": \"pie\"}], \"scatter\": [{\"marker\": {\"colorbar\": {\"outlinewidth\": 0, \"ticks\": \"\"}}, \"type\": \"scatter\"}], \"scatter3d\": [{\"line\": {\"colorbar\": {\"outlinewidth\": 0, \"ticks\": \"\"}}, \"marker\": {\"colorbar\": {\"outlinewidth\": 0, \"ticks\": \"\"}}, \"type\": \"scatter3d\"}], \"scattercarpet\": [{\"marker\": {\"colorbar\": {\"outlinewidth\": 0, \"ticks\": \"\"}}, \"type\": \"scattercarpet\"}], \"scattergeo\": [{\"marker\": {\"colorbar\": {\"outlinewidth\": 0, \"ticks\": \"\"}}, \"type\": \"scattergeo\"}], \"scattergl\": [{\"marker\": {\"colorbar\": {\"outlinewidth\": 0, \"ticks\": \"\"}}, \"type\": \"scattergl\"}], \"scattermapbox\": [{\"marker\": {\"colorbar\": {\"outlinewidth\": 0, \"ticks\": \"\"}}, \"type\": \"scattermapbox\"}], \"scatterpolar\": [{\"marker\": {\"colorbar\": {\"outlinewidth\": 0, \"ticks\": \"\"}}, \"type\": \"scatterpolar\"}], \"scatterpolargl\": [{\"marker\": {\"colorbar\": {\"outlinewidth\": 0, \"ticks\": \"\"}}, \"type\": \"scatterpolargl\"}], \"scatterternary\": [{\"marker\": {\"colorbar\": {\"outlinewidth\": 0, \"ticks\": \"\"}}, \"type\": \"scatterternary\"}], \"surface\": [{\"colorbar\": {\"outlinewidth\": 0, \"ticks\": \"\"}, \"colorscale\": [[0.0, \"#0d0887\"], [0.1111111111111111, \"#46039f\"], [0.2222222222222222, \"#7201a8\"], [0.3333333333333333, \"#9c179e\"], [0.4444444444444444, \"#bd3786\"], [0.5555555555555556, \"#d8576b\"], [0.6666666666666666, \"#ed7953\"], [0.7777777777777778, \"#fb9f3a\"], [0.8888888888888888, \"#fdca26\"], [1.0, \"#f0f921\"]], \"type\": \"surface\"}], \"table\": [{\"cells\": {\"fill\": {\"color\": \"#EBF0F8\"}, \"line\": {\"color\": \"white\"}}, \"header\": {\"fill\": {\"color\": \"#C8D4E3\"}, \"line\": {\"color\": \"white\"}}, \"type\": \"table\"}]}, \"layout\": {\"annotationdefaults\": {\"arrowcolor\": \"#2a3f5f\", \"arrowhead\": 0, \"arrowwidth\": 1}, \"coloraxis\": {\"colorbar\": {\"outlinewidth\": 0, \"ticks\": \"\"}}, \"colorscale\": {\"diverging\": [[0, \"#8e0152\"], [0.1, \"#c51b7d\"], [0.2, \"#de77ae\"], [0.3, \"#f1b6da\"], [0.4, \"#fde0ef\"], [0.5, \"#f7f7f7\"], [0.6, \"#e6f5d0\"], [0.7, \"#b8e186\"], [0.8, \"#7fbc41\"], [0.9, \"#4d9221\"], [1, \"#276419\"]], \"sequential\": [[0.0, \"#0d0887\"], [0.1111111111111111, \"#46039f\"], [0.2222222222222222, \"#7201a8\"], [0.3333333333333333, \"#9c179e\"], [0.4444444444444444, \"#bd3786\"], [0.5555555555555556, \"#d8576b\"], [0.6666666666666666, \"#ed7953\"], [0.7777777777777778, \"#fb9f3a\"], [0.8888888888888888, \"#fdca26\"], [1.0, \"#f0f921\"]], \"sequentialminus\": [[0.0, \"#0d0887\"], [0.1111111111111111, \"#46039f\"], [0.2222222222222222, \"#7201a8\"], [0.3333333333333333, \"#9c179e\"], [0.4444444444444444, \"#bd3786\"], [0.5555555555555556, \"#d8576b\"], [0.6666666666666666, \"#ed7953\"], [0.7777777777777778, \"#fb9f3a\"], [0.8888888888888888, \"#fdca26\"], [1.0, \"#f0f921\"]]}, \"colorway\": [\"#636efa\", \"#EF553B\", \"#00cc96\", \"#ab63fa\", \"#FFA15A\", \"#19d3f3\", \"#FF6692\", \"#B6E880\", \"#FF97FF\", \"#FECB52\"], \"font\": {\"color\": \"#2a3f5f\"}, \"geo\": {\"bgcolor\": \"white\", \"lakecolor\": \"white\", \"landcolor\": \"#E5ECF6\", \"showlakes\": true, \"showland\": true, \"subunitcolor\": \"white\"}, \"hoverlabel\": {\"align\": \"left\"}, \"hovermode\": \"closest\", \"mapbox\": {\"style\": \"light\"}, \"paper_bgcolor\": \"white\", \"plot_bgcolor\": \"#E5ECF6\", \"polar\": {\"angularaxis\": {\"gridcolor\": \"white\", \"linecolor\": \"white\", \"ticks\": \"\"}, \"bgcolor\": \"#E5ECF6\", \"radialaxis\": {\"gridcolor\": \"white\", \"linecolor\": \"white\", \"ticks\": \"\"}}, \"scene\": {\"xaxis\": {\"backgroundcolor\": \"#E5ECF6\", \"gridcolor\": \"white\", \"gridwidth\": 2, \"linecolor\": \"white\", \"showbackground\": true, \"ticks\": \"\", \"zerolinecolor\": \"white\"}, \"yaxis\": {\"backgroundcolor\": \"#E5ECF6\", \"gridcolor\": \"white\", \"gridwidth\": 2, \"linecolor\": \"white\", \"showbackground\": true, \"ticks\": \"\", \"zerolinecolor\": \"white\"}, \"zaxis\": {\"backgroundcolor\": \"#E5ECF6\", \"gridcolor\": \"white\", \"gridwidth\": 2, \"linecolor\": \"white\", \"showbackground\": true, \"ticks\": \"\", \"zerolinecolor\": \"white\"}}, \"shapedefaults\": {\"line\": {\"color\": \"#2a3f5f\"}}, \"ternary\": {\"aaxis\": {\"gridcolor\": \"white\", \"linecolor\": \"white\", \"ticks\": \"\"}, \"baxis\": {\"gridcolor\": \"white\", \"linecolor\": \"white\", \"ticks\": \"\"}, \"bgcolor\": \"#E5ECF6\", \"caxis\": {\"gridcolor\": \"white\", \"linecolor\": \"white\", \"ticks\": \"\"}}, \"title\": {\"x\": 0.05}, \"xaxis\": {\"automargin\": true, \"gridcolor\": \"white\", \"linecolor\": \"white\", \"ticks\": \"\", \"title\": {\"standoff\": 15}, \"zerolinecolor\": \"white\", \"zerolinewidth\": 2}, \"yaxis\": {\"automargin\": true, \"gridcolor\": \"white\", \"linecolor\": \"white\", \"ticks\": \"\", \"title\": {\"standoff\": 15}, \"zerolinecolor\": \"white\", \"zerolinewidth\": 2}}}, \"xaxis\": {\"anchor\": \"y\", \"domain\": [0.0, 1.0], \"title\": {\"text\": \"x\"}}, \"yaxis\": {\"anchor\": \"x\", \"domain\": [0.0, 1.0], \"title\": {\"text\": \"nav\"}}},\n",
       "                        {\"responsive\": true}\n",
       "                    ).then(function(){\n",
       "                            \n",
       "var gd = document.getElementById('e2517716-e81b-4163-a2c7-7cc748165618');\n",
       "var x = new MutationObserver(function (mutations, observer) {{\n",
       "        var display = window.getComputedStyle(gd).display;\n",
       "        if (!display || display === 'none') {{\n",
       "            console.log([gd, 'removed!']);\n",
       "            Plotly.purge(gd);\n",
       "            observer.disconnect();\n",
       "        }}\n",
       "}});\n",
       "\n",
       "// Listen for the removal of the full notebook cells\n",
       "var notebookContainer = gd.closest('#notebook-container');\n",
       "if (notebookContainer) {{\n",
       "    x.observe(notebookContainer, {childList: true});\n",
       "}}\n",
       "\n",
       "// Listen for the clearing of the current output cell\n",
       "var outputEl = gd.closest('.output');\n",
       "if (outputEl) {{\n",
       "    x.observe(outputEl, {childList: true});\n",
       "}}\n",
       "\n",
       "                        })\n",
       "                };\n",
       "                });\n",
       "            </script>\n",
       "        </div>"
      ]
     },
     "metadata": {},
     "output_type": "display_data"
    }
   ],
   "source": [
    "plot_returns(portfolio['nav'])"
   ]
  },
  {
   "cell_type": "code",
   "execution_count": 56,
   "metadata": {},
   "outputs": [],
   "source": [
    "new_ratios = zscore_moving_avg.to_frame()\n",
    "#print(new_zscores)\n",
    "history = portfolio['history']\n",
    "\n",
    "history = history[history['symbol'] == chosen[1]]\n",
    "trades = pd.DataFrame(columns=[\"Type\" \"BoughtOn\", \"SoldOn\", \"Return\"])\n",
    "trades['Type'] = history[\"type\"]\n",
    "trades['BoughtOn'] = history['bought_on']\n",
    "trades['SoldOn'] = history['sold_on']\n",
    "trades['Return'] = history['return']\n",
    "\n",
    "bought_on = trades['BoughtOn'].to_frame()\n",
    "bought_on['Type'] = trades['Type']\n",
    "bought_on.columns = ['Date', 'Type']\n",
    "bought_on.set_index('Date', inplace=True)\n",
    "new_ratios = new_ratios.join(bought_on)\n",
    "\n",
    "sold_on = trades['SoldOn'].to_frame()\n",
    "sold_on['exit'] = \"Exit\"\n",
    "sold_on.columns = ['Date', 'exit']\n",
    "sold_on['Exit'] = \"EXIT\"\n",
    "sold_on.set_index('Date', inplace=True)\n",
    "new_ratios = new_ratios.join(sold_on)\n",
    "\n",
    "bought_zscore = new_ratios[new_ratios['Type'] == 'BUY']\n",
    "sold_zscore = new_ratios[new_ratios['Type'] == 'SELL']\n",
    "exit_zscore =  new_ratios[new_ratios['Exit'] == 'EXIT']\n",
    "#print(sold_zscore)\n",
    "#print(new_zscores.loc['2010-09-20'])"
   ]
  },
  {
   "cell_type": "code",
   "execution_count": 57,
   "metadata": {},
   "outputs": [
    {
     "data": {
      "application/vnd.plotly.v1+json": {
       "config": {
        "plotlyServerURL": "https://plot.ly"
       },
       "data": [
        {
         "mode": "lines",
         "name": "ratios",
         "type": "scatter",
         "x": [
          "2016-01-01T00:00:00",
          "2016-01-04T00:00:00",
          "2016-01-05T00:00:00",
          "2016-01-06T00:00:00",
          "2016-01-07T00:00:00",
          "2016-01-08T00:00:00",
          "2016-01-11T00:00:00",
          "2016-01-12T00:00:00",
          "2016-01-13T00:00:00",
          "2016-01-14T00:00:00",
          "2016-01-15T00:00:00",
          "2016-01-18T00:00:00",
          "2016-01-19T00:00:00",
          "2016-01-20T00:00:00",
          "2016-01-21T00:00:00",
          "2016-01-22T00:00:00",
          "2016-01-25T00:00:00",
          "2016-01-26T00:00:00",
          "2016-01-27T00:00:00",
          "2016-01-28T00:00:00",
          "2016-01-29T00:00:00",
          "2016-02-01T00:00:00",
          "2016-02-02T00:00:00",
          "2016-02-03T00:00:00",
          "2016-02-04T00:00:00",
          "2016-02-05T00:00:00",
          "2016-02-08T00:00:00",
          "2016-02-09T00:00:00",
          "2016-02-10T00:00:00",
          "2016-02-11T00:00:00",
          "2016-02-12T00:00:00",
          "2016-02-15T00:00:00",
          "2016-02-16T00:00:00",
          "2016-02-17T00:00:00",
          "2016-02-18T00:00:00",
          "2016-02-19T00:00:00",
          "2016-02-22T00:00:00",
          "2016-02-23T00:00:00",
          "2016-02-24T00:00:00",
          "2016-02-25T00:00:00",
          "2016-02-26T00:00:00",
          "2016-02-29T00:00:00",
          "2016-03-01T00:00:00",
          "2016-03-02T00:00:00",
          "2016-03-03T00:00:00",
          "2016-03-04T00:00:00",
          "2016-03-07T00:00:00",
          "2016-03-08T00:00:00",
          "2016-03-09T00:00:00",
          "2016-03-10T00:00:00",
          "2016-03-11T00:00:00",
          "2016-03-14T00:00:00",
          "2016-03-15T00:00:00",
          "2016-03-16T00:00:00",
          "2016-03-17T00:00:00",
          "2016-03-18T00:00:00",
          "2016-03-21T00:00:00",
          "2016-03-22T00:00:00",
          "2016-03-23T00:00:00",
          "2016-03-24T00:00:00",
          "2016-03-25T00:00:00",
          "2016-03-28T00:00:00",
          "2016-03-29T00:00:00",
          "2016-03-30T00:00:00",
          "2016-03-31T00:00:00",
          "2016-04-01T00:00:00",
          "2016-04-04T00:00:00",
          "2016-04-05T00:00:00",
          "2016-04-06T00:00:00",
          "2016-04-07T00:00:00",
          "2016-04-08T00:00:00",
          "2016-04-11T00:00:00",
          "2016-04-12T00:00:00",
          "2016-04-13T00:00:00",
          "2016-04-14T00:00:00",
          "2016-04-15T00:00:00",
          "2016-04-18T00:00:00",
          "2016-04-19T00:00:00",
          "2016-04-20T00:00:00",
          "2016-04-21T00:00:00",
          "2016-04-22T00:00:00",
          "2016-04-25T00:00:00",
          "2016-04-26T00:00:00",
          "2016-04-27T00:00:00",
          "2016-04-28T00:00:00",
          "2016-04-29T00:00:00",
          "2016-05-02T00:00:00",
          "2016-05-03T00:00:00",
          "2016-05-04T00:00:00",
          "2016-05-05T00:00:00",
          "2016-05-06T00:00:00",
          "2016-05-09T00:00:00",
          "2016-05-10T00:00:00",
          "2016-05-11T00:00:00",
          "2016-05-12T00:00:00",
          "2016-05-13T00:00:00",
          "2016-05-16T00:00:00",
          "2016-05-17T00:00:00",
          "2016-05-18T00:00:00",
          "2016-05-19T00:00:00",
          "2016-05-20T00:00:00",
          "2016-05-23T00:00:00",
          "2016-05-24T00:00:00",
          "2016-05-25T00:00:00",
          "2016-05-26T00:00:00",
          "2016-05-27T00:00:00",
          "2016-05-30T00:00:00",
          "2016-05-31T00:00:00",
          "2016-06-01T00:00:00",
          "2016-06-02T00:00:00",
          "2016-06-03T00:00:00",
          "2016-06-06T00:00:00",
          "2016-06-07T00:00:00",
          "2016-06-08T00:00:00",
          "2016-06-09T00:00:00",
          "2016-06-10T00:00:00",
          "2016-06-13T00:00:00",
          "2016-06-14T00:00:00",
          "2016-06-15T00:00:00",
          "2016-06-16T00:00:00",
          "2016-06-17T00:00:00",
          "2016-06-20T00:00:00",
          "2016-06-21T00:00:00",
          "2016-06-22T00:00:00",
          "2016-06-23T00:00:00",
          "2016-06-24T00:00:00",
          "2016-06-27T00:00:00",
          "2016-06-28T00:00:00",
          "2016-06-29T00:00:00",
          "2016-06-30T00:00:00",
          "2016-07-01T00:00:00",
          "2016-07-04T00:00:00",
          "2016-07-05T00:00:00",
          "2016-07-06T00:00:00",
          "2016-07-07T00:00:00",
          "2016-07-08T00:00:00",
          "2016-07-11T00:00:00",
          "2016-07-12T00:00:00",
          "2016-07-13T00:00:00",
          "2016-07-14T00:00:00",
          "2016-07-15T00:00:00",
          "2016-07-18T00:00:00",
          "2016-07-19T00:00:00",
          "2016-07-20T00:00:00",
          "2016-07-21T00:00:00",
          "2016-07-22T00:00:00",
          "2016-07-25T00:00:00",
          "2016-07-26T00:00:00",
          "2016-07-27T00:00:00",
          "2016-07-28T00:00:00",
          "2016-07-29T00:00:00",
          "2016-08-01T00:00:00",
          "2016-08-02T00:00:00",
          "2016-08-03T00:00:00",
          "2016-08-04T00:00:00",
          "2016-08-05T00:00:00",
          "2016-08-08T00:00:00",
          "2016-08-09T00:00:00",
          "2016-08-10T00:00:00",
          "2016-08-11T00:00:00",
          "2016-08-12T00:00:00",
          "2016-08-15T00:00:00",
          "2016-08-16T00:00:00",
          "2016-08-17T00:00:00",
          "2016-08-18T00:00:00",
          "2016-08-19T00:00:00",
          "2016-08-22T00:00:00",
          "2016-08-23T00:00:00",
          "2016-08-24T00:00:00",
          "2016-08-25T00:00:00",
          "2016-08-26T00:00:00",
          "2016-08-29T00:00:00",
          "2016-08-30T00:00:00",
          "2016-08-31T00:00:00",
          "2016-09-01T00:00:00",
          "2016-09-02T00:00:00",
          "2016-09-05T00:00:00",
          "2016-09-06T00:00:00",
          "2016-09-07T00:00:00",
          "2016-09-08T00:00:00",
          "2016-09-09T00:00:00",
          "2016-09-12T00:00:00",
          "2016-09-13T00:00:00",
          "2016-09-14T00:00:00",
          "2016-09-15T00:00:00",
          "2016-09-16T00:00:00",
          "2016-09-19T00:00:00",
          "2016-09-20T00:00:00",
          "2016-09-21T00:00:00",
          "2016-09-22T00:00:00",
          "2016-09-23T00:00:00",
          "2016-09-26T00:00:00",
          "2016-09-27T00:00:00",
          "2016-09-28T00:00:00",
          "2016-09-29T00:00:00",
          "2016-09-30T00:00:00",
          "2016-10-03T00:00:00",
          "2016-10-04T00:00:00",
          "2016-10-05T00:00:00",
          "2016-10-06T00:00:00",
          "2016-10-07T00:00:00",
          "2016-10-10T00:00:00",
          "2016-10-11T00:00:00",
          "2016-10-12T00:00:00",
          "2016-10-13T00:00:00",
          "2016-10-14T00:00:00",
          "2016-10-17T00:00:00",
          "2016-10-18T00:00:00",
          "2016-10-19T00:00:00",
          "2016-10-20T00:00:00",
          "2016-10-21T00:00:00",
          "2016-10-24T00:00:00",
          "2016-10-25T00:00:00",
          "2016-10-26T00:00:00",
          "2016-10-27T00:00:00",
          "2016-10-28T00:00:00",
          "2016-10-31T00:00:00",
          "2016-11-01T00:00:00",
          "2016-11-02T00:00:00",
          "2016-11-03T00:00:00",
          "2016-11-04T00:00:00",
          "2016-11-07T00:00:00",
          "2016-11-08T00:00:00",
          "2016-11-09T00:00:00",
          "2016-11-10T00:00:00",
          "2016-11-11T00:00:00",
          "2016-11-14T00:00:00",
          "2016-11-15T00:00:00",
          "2016-11-16T00:00:00",
          "2016-11-17T00:00:00",
          "2016-11-18T00:00:00",
          "2016-11-21T00:00:00",
          "2016-11-22T00:00:00",
          "2016-11-23T00:00:00",
          "2016-11-24T00:00:00",
          "2016-11-25T00:00:00",
          "2016-11-28T00:00:00",
          "2016-11-29T00:00:00",
          "2016-11-30T00:00:00",
          "2016-12-01T00:00:00",
          "2016-12-02T00:00:00",
          "2016-12-05T00:00:00",
          "2016-12-06T00:00:00",
          "2016-12-07T00:00:00",
          "2016-12-08T00:00:00",
          "2016-12-09T00:00:00",
          "2016-12-12T00:00:00",
          "2016-12-13T00:00:00",
          "2016-12-14T00:00:00",
          "2016-12-15T00:00:00",
          "2016-12-16T00:00:00",
          "2016-12-19T00:00:00",
          "2016-12-20T00:00:00",
          "2016-12-21T00:00:00",
          "2016-12-22T00:00:00",
          "2016-12-23T00:00:00",
          "2016-12-26T00:00:00",
          "2016-12-27T00:00:00",
          "2016-12-28T00:00:00",
          "2016-12-29T00:00:00",
          "2016-12-30T00:00:00",
          "2017-01-02T00:00:00",
          "2017-01-03T00:00:00",
          "2017-01-04T00:00:00",
          "2017-01-05T00:00:00",
          "2017-01-06T00:00:00",
          "2017-01-09T00:00:00",
          "2017-01-10T00:00:00",
          "2017-01-11T00:00:00",
          "2017-01-12T00:00:00",
          "2017-01-13T00:00:00",
          "2017-01-16T00:00:00",
          "2017-01-17T00:00:00",
          "2017-01-18T00:00:00",
          "2017-01-19T00:00:00",
          "2017-01-20T00:00:00",
          "2017-01-23T00:00:00",
          "2017-01-24T00:00:00",
          "2017-01-25T00:00:00",
          "2017-01-26T00:00:00",
          "2017-01-27T00:00:00",
          "2017-01-30T00:00:00",
          "2017-01-31T00:00:00",
          "2017-02-01T00:00:00",
          "2017-02-02T00:00:00",
          "2017-02-03T00:00:00",
          "2017-02-06T00:00:00",
          "2017-02-07T00:00:00",
          "2017-02-08T00:00:00",
          "2017-02-09T00:00:00",
          "2017-02-10T00:00:00",
          "2017-02-13T00:00:00",
          "2017-02-14T00:00:00",
          "2017-02-15T00:00:00",
          "2017-02-16T00:00:00",
          "2017-02-17T00:00:00",
          "2017-02-20T00:00:00",
          "2017-02-21T00:00:00",
          "2017-02-22T00:00:00",
          "2017-02-23T00:00:00",
          "2017-02-24T00:00:00",
          "2017-02-27T00:00:00",
          "2017-02-28T00:00:00",
          "2017-03-01T00:00:00",
          "2017-03-02T00:00:00",
          "2017-03-03T00:00:00",
          "2017-03-06T00:00:00",
          "2017-03-07T00:00:00",
          "2017-03-08T00:00:00",
          "2017-03-09T00:00:00",
          "2017-03-10T00:00:00",
          "2017-03-13T00:00:00",
          "2017-03-14T00:00:00",
          "2017-03-15T00:00:00",
          "2017-03-16T00:00:00",
          "2017-03-17T00:00:00",
          "2017-03-20T00:00:00",
          "2017-03-21T00:00:00",
          "2017-03-22T00:00:00",
          "2017-03-23T00:00:00",
          "2017-03-24T00:00:00",
          "2017-03-27T00:00:00",
          "2017-03-28T00:00:00",
          "2017-03-29T00:00:00",
          "2017-03-30T00:00:00",
          "2017-03-31T00:00:00",
          "2017-04-03T00:00:00",
          "2017-04-04T00:00:00",
          "2017-04-05T00:00:00",
          "2017-04-06T00:00:00",
          "2017-04-07T00:00:00",
          "2017-04-10T00:00:00",
          "2017-04-11T00:00:00",
          "2017-04-12T00:00:00",
          "2017-04-13T00:00:00",
          "2017-04-14T00:00:00",
          "2017-04-17T00:00:00",
          "2017-04-18T00:00:00",
          "2017-04-19T00:00:00",
          "2017-04-20T00:00:00",
          "2017-04-21T00:00:00",
          "2017-04-24T00:00:00",
          "2017-04-25T00:00:00",
          "2017-04-26T00:00:00",
          "2017-04-27T00:00:00",
          "2017-04-28T00:00:00",
          "2017-05-01T00:00:00",
          "2017-05-02T00:00:00",
          "2017-05-03T00:00:00",
          "2017-05-04T00:00:00",
          "2017-05-05T00:00:00",
          "2017-05-08T00:00:00",
          "2017-05-09T00:00:00",
          "2017-05-10T00:00:00",
          "2017-05-11T00:00:00",
          "2017-05-12T00:00:00",
          "2017-05-15T00:00:00",
          "2017-05-16T00:00:00",
          "2017-05-17T00:00:00",
          "2017-05-18T00:00:00",
          "2017-05-19T00:00:00",
          "2017-05-22T00:00:00",
          "2017-05-23T00:00:00",
          "2017-05-24T00:00:00",
          "2017-05-25T00:00:00",
          "2017-05-26T00:00:00",
          "2017-05-29T00:00:00",
          "2017-05-30T00:00:00",
          "2017-05-31T00:00:00",
          "2017-06-01T00:00:00",
          "2017-06-02T00:00:00",
          "2017-06-05T00:00:00",
          "2017-06-06T00:00:00",
          "2017-06-07T00:00:00",
          "2017-06-08T00:00:00",
          "2017-06-09T00:00:00",
          "2017-06-12T00:00:00",
          "2017-06-13T00:00:00",
          "2017-06-14T00:00:00",
          "2017-06-15T00:00:00",
          "2017-06-16T00:00:00",
          "2017-06-19T00:00:00",
          "2017-06-20T00:00:00",
          "2017-06-21T00:00:00",
          "2017-06-22T00:00:00",
          "2017-06-23T00:00:00",
          "2017-06-26T00:00:00",
          "2017-06-27T00:00:00",
          "2017-06-28T00:00:00",
          "2017-06-29T00:00:00",
          "2017-06-30T00:00:00",
          "2017-07-03T00:00:00",
          "2017-07-04T00:00:00",
          "2017-07-05T00:00:00",
          "2017-07-06T00:00:00",
          "2017-07-07T00:00:00",
          "2017-07-10T00:00:00",
          "2017-07-11T00:00:00",
          "2017-07-12T00:00:00",
          "2017-07-13T00:00:00",
          "2017-07-14T00:00:00",
          "2017-07-17T00:00:00",
          "2017-07-18T00:00:00",
          "2017-07-19T00:00:00",
          "2017-07-20T00:00:00",
          "2017-07-21T00:00:00",
          "2017-07-24T00:00:00",
          "2017-07-25T00:00:00",
          "2017-07-26T00:00:00",
          "2017-07-27T00:00:00",
          "2017-07-28T00:00:00",
          "2017-07-31T00:00:00",
          "2017-08-01T00:00:00",
          "2017-08-02T00:00:00",
          "2017-08-03T00:00:00",
          "2017-08-04T00:00:00",
          "2017-08-07T00:00:00",
          "2017-08-08T00:00:00",
          "2017-08-09T00:00:00",
          "2017-08-10T00:00:00",
          "2017-08-11T00:00:00",
          "2017-08-14T00:00:00",
          "2017-08-15T00:00:00",
          "2017-08-16T00:00:00",
          "2017-08-17T00:00:00",
          "2017-08-18T00:00:00",
          "2017-08-21T00:00:00",
          "2017-08-22T00:00:00",
          "2017-08-23T00:00:00",
          "2017-08-24T00:00:00",
          "2017-08-25T00:00:00",
          "2017-08-28T00:00:00",
          "2017-08-29T00:00:00",
          "2017-08-30T00:00:00",
          "2017-08-31T00:00:00",
          "2017-09-01T00:00:00",
          "2017-09-04T00:00:00",
          "2017-09-05T00:00:00",
          "2017-09-06T00:00:00",
          "2017-09-07T00:00:00",
          "2017-09-08T00:00:00",
          "2017-09-11T00:00:00",
          "2017-09-12T00:00:00",
          "2017-09-13T00:00:00",
          "2017-09-14T00:00:00",
          "2017-09-15T00:00:00",
          "2017-09-18T00:00:00",
          "2017-09-19T00:00:00",
          "2017-09-20T00:00:00",
          "2017-09-21T00:00:00",
          "2017-09-22T00:00:00",
          "2017-09-25T00:00:00",
          "2017-09-26T00:00:00",
          "2017-09-27T00:00:00",
          "2017-09-28T00:00:00",
          "2017-09-29T00:00:00",
          "2017-10-02T00:00:00",
          "2017-10-03T00:00:00",
          "2017-10-04T00:00:00",
          "2017-10-05T00:00:00",
          "2017-10-06T00:00:00",
          "2017-10-09T00:00:00",
          "2017-10-10T00:00:00",
          "2017-10-11T00:00:00",
          "2017-10-12T00:00:00",
          "2017-10-13T00:00:00",
          "2017-10-16T00:00:00",
          "2017-10-17T00:00:00",
          "2017-10-18T00:00:00",
          "2017-10-19T00:00:00",
          "2017-10-20T00:00:00",
          "2017-10-23T00:00:00",
          "2017-10-24T00:00:00",
          "2017-10-25T00:00:00",
          "2017-10-26T00:00:00",
          "2017-10-27T00:00:00",
          "2017-10-30T00:00:00",
          "2017-10-31T00:00:00",
          "2017-11-01T00:00:00",
          "2017-11-02T00:00:00",
          "2017-11-03T00:00:00",
          "2017-11-06T00:00:00",
          "2017-11-07T00:00:00",
          "2017-11-08T00:00:00",
          "2017-11-09T00:00:00",
          "2017-11-10T00:00:00",
          "2017-11-13T00:00:00",
          "2017-11-14T00:00:00",
          "2017-11-15T00:00:00",
          "2017-11-16T00:00:00",
          "2017-11-17T00:00:00",
          "2017-11-20T00:00:00",
          "2017-11-21T00:00:00",
          "2017-11-22T00:00:00",
          "2017-11-23T00:00:00",
          "2017-11-24T00:00:00",
          "2017-11-27T00:00:00",
          "2017-11-28T00:00:00",
          "2017-11-29T00:00:00",
          "2017-11-30T00:00:00",
          "2017-12-01T00:00:00",
          "2017-12-04T00:00:00",
          "2017-12-05T00:00:00",
          "2017-12-06T00:00:00",
          "2017-12-07T00:00:00",
          "2017-12-08T00:00:00",
          "2017-12-11T00:00:00",
          "2017-12-12T00:00:00",
          "2017-12-13T00:00:00",
          "2017-12-14T00:00:00",
          "2017-12-15T00:00:00",
          "2017-12-18T00:00:00",
          "2017-12-19T00:00:00",
          "2017-12-20T00:00:00",
          "2017-12-21T00:00:00",
          "2017-12-22T00:00:00",
          "2017-12-25T00:00:00",
          "2017-12-26T00:00:00",
          "2017-12-27T00:00:00",
          "2017-12-28T00:00:00",
          "2017-12-29T00:00:00",
          "2018-01-01T00:00:00",
          "2018-01-02T00:00:00",
          "2018-01-03T00:00:00",
          "2018-01-04T00:00:00",
          "2018-01-05T00:00:00",
          "2018-01-08T00:00:00",
          "2018-01-09T00:00:00",
          "2018-01-10T00:00:00",
          "2018-01-11T00:00:00",
          "2018-01-12T00:00:00",
          "2018-01-15T00:00:00",
          "2018-01-16T00:00:00",
          "2018-01-17T00:00:00",
          "2018-01-18T00:00:00",
          "2018-01-19T00:00:00",
          "2018-01-22T00:00:00",
          "2018-01-23T00:00:00",
          "2018-01-24T00:00:00",
          "2018-01-25T00:00:00",
          "2018-01-26T00:00:00",
          "2018-01-29T00:00:00",
          "2018-01-30T00:00:00",
          "2018-01-31T00:00:00",
          "2018-02-01T00:00:00",
          "2018-02-02T00:00:00",
          "2018-02-05T00:00:00",
          "2018-02-06T00:00:00",
          "2018-02-07T00:00:00",
          "2018-02-08T00:00:00",
          "2018-02-09T00:00:00",
          "2018-02-12T00:00:00",
          "2018-02-13T00:00:00",
          "2018-02-14T00:00:00",
          "2018-02-15T00:00:00",
          "2018-02-16T00:00:00",
          "2018-02-19T00:00:00",
          "2018-02-20T00:00:00",
          "2018-02-21T00:00:00",
          "2018-02-22T00:00:00",
          "2018-02-23T00:00:00",
          "2018-02-26T00:00:00",
          "2018-02-27T00:00:00",
          "2018-02-28T00:00:00",
          "2018-03-01T00:00:00",
          "2018-03-02T00:00:00",
          "2018-03-05T00:00:00",
          "2018-03-06T00:00:00",
          "2018-03-07T00:00:00",
          "2018-03-08T00:00:00",
          "2018-03-09T00:00:00",
          "2018-03-12T00:00:00",
          "2018-03-13T00:00:00",
          "2018-03-14T00:00:00",
          "2018-03-15T00:00:00",
          "2018-03-16T00:00:00",
          "2018-03-19T00:00:00",
          "2018-03-20T00:00:00",
          "2018-03-21T00:00:00",
          "2018-03-22T00:00:00",
          "2018-03-23T00:00:00",
          "2018-03-26T00:00:00",
          "2018-03-27T00:00:00",
          "2018-03-28T00:00:00",
          "2018-03-29T00:00:00",
          "2018-03-30T00:00:00",
          "2018-04-02T00:00:00",
          "2018-04-03T00:00:00",
          "2018-04-04T00:00:00",
          "2018-04-05T00:00:00",
          "2018-04-06T00:00:00",
          "2018-04-09T00:00:00",
          "2018-04-10T00:00:00",
          "2018-04-11T00:00:00",
          "2018-04-12T00:00:00",
          "2018-04-13T00:00:00",
          "2018-04-16T00:00:00",
          "2018-04-17T00:00:00",
          "2018-04-18T00:00:00",
          "2018-04-19T00:00:00",
          "2018-04-20T00:00:00",
          "2018-04-23T00:00:00",
          "2018-04-24T00:00:00",
          "2018-04-25T00:00:00",
          "2018-04-26T00:00:00",
          "2018-04-27T00:00:00",
          "2018-04-30T00:00:00",
          "2018-05-01T00:00:00",
          "2018-05-02T00:00:00",
          "2018-05-03T00:00:00",
          "2018-05-04T00:00:00",
          "2018-05-07T00:00:00",
          "2018-05-08T00:00:00",
          "2018-05-09T00:00:00",
          "2018-05-10T00:00:00",
          "2018-05-11T00:00:00",
          "2018-05-14T00:00:00",
          "2018-05-15T00:00:00",
          "2018-05-16T00:00:00",
          "2018-05-17T00:00:00",
          "2018-05-18T00:00:00",
          "2018-05-21T00:00:00",
          "2018-05-22T00:00:00",
          "2018-05-23T00:00:00",
          "2018-05-24T00:00:00",
          "2018-05-25T00:00:00",
          "2018-05-28T00:00:00",
          "2018-05-29T00:00:00",
          "2018-05-30T00:00:00",
          "2018-05-31T00:00:00",
          "2018-06-01T00:00:00",
          "2018-06-04T00:00:00",
          "2018-06-05T00:00:00",
          "2018-06-06T00:00:00",
          "2018-06-07T00:00:00",
          "2018-06-08T00:00:00",
          "2018-06-11T00:00:00",
          "2018-06-12T00:00:00",
          "2018-06-13T00:00:00",
          "2018-06-14T00:00:00",
          "2018-06-15T00:00:00",
          "2018-06-18T00:00:00",
          "2018-06-19T00:00:00",
          "2018-06-20T00:00:00",
          "2018-06-21T00:00:00",
          "2018-06-22T00:00:00",
          "2018-06-25T00:00:00",
          "2018-06-26T00:00:00",
          "2018-06-27T00:00:00",
          "2018-06-28T00:00:00",
          "2018-06-29T00:00:00",
          "2018-07-02T00:00:00",
          "2018-07-03T00:00:00",
          "2018-07-04T00:00:00",
          "2018-07-05T00:00:00",
          "2018-07-06T00:00:00",
          "2018-07-09T00:00:00",
          "2018-07-10T00:00:00",
          "2018-07-11T00:00:00",
          "2018-07-12T00:00:00",
          "2018-07-13T00:00:00",
          "2018-07-16T00:00:00",
          "2018-07-17T00:00:00",
          "2018-07-18T00:00:00",
          "2018-07-19T00:00:00",
          "2018-07-20T00:00:00",
          "2018-07-23T00:00:00",
          "2018-07-24T00:00:00",
          "2018-07-25T00:00:00",
          "2018-07-26T00:00:00",
          "2018-07-27T00:00:00",
          "2018-07-30T00:00:00",
          "2018-07-31T00:00:00",
          "2018-08-01T00:00:00",
          "2018-08-02T00:00:00",
          "2018-08-03T00:00:00",
          "2018-08-06T00:00:00",
          "2018-08-07T00:00:00",
          "2018-08-08T00:00:00",
          "2018-08-09T00:00:00",
          "2018-08-10T00:00:00",
          "2018-08-13T00:00:00",
          "2018-08-14T00:00:00",
          "2018-08-15T00:00:00",
          "2018-08-16T00:00:00",
          "2018-08-17T00:00:00",
          "2018-08-20T00:00:00",
          "2018-08-21T00:00:00",
          "2018-08-22T00:00:00",
          "2018-08-23T00:00:00",
          "2018-08-24T00:00:00",
          "2018-08-27T00:00:00",
          "2018-08-28T00:00:00",
          "2018-08-29T00:00:00",
          "2018-08-30T00:00:00",
          "2018-08-31T00:00:00",
          "2018-09-03T00:00:00",
          "2018-09-04T00:00:00",
          "2018-09-05T00:00:00",
          "2018-09-06T00:00:00",
          "2018-09-07T00:00:00",
          "2018-09-10T00:00:00",
          "2018-09-11T00:00:00",
          "2018-09-12T00:00:00",
          "2018-09-13T00:00:00",
          "2018-09-14T00:00:00",
          "2018-09-17T00:00:00",
          "2018-09-18T00:00:00",
          "2018-09-19T00:00:00",
          "2018-09-20T00:00:00",
          "2018-09-21T00:00:00",
          "2018-09-24T00:00:00",
          "2018-09-25T00:00:00",
          "2018-09-26T00:00:00",
          "2018-09-27T00:00:00",
          "2018-09-28T00:00:00",
          "2018-10-01T00:00:00",
          "2018-10-02T00:00:00",
          "2018-10-03T00:00:00",
          "2018-10-04T00:00:00",
          "2018-10-05T00:00:00",
          "2018-10-08T00:00:00",
          "2018-10-09T00:00:00",
          "2018-10-10T00:00:00",
          "2018-10-11T00:00:00",
          "2018-10-12T00:00:00",
          "2018-10-15T00:00:00",
          "2018-10-16T00:00:00",
          "2018-10-17T00:00:00",
          "2018-10-18T00:00:00",
          "2018-10-19T00:00:00",
          "2018-10-22T00:00:00",
          "2018-10-23T00:00:00",
          "2018-10-24T00:00:00",
          "2018-10-25T00:00:00",
          "2018-10-26T00:00:00",
          "2018-10-29T00:00:00",
          "2018-10-30T00:00:00",
          "2018-10-31T00:00:00",
          "2018-11-01T00:00:00",
          "2018-11-02T00:00:00",
          "2018-11-05T00:00:00",
          "2018-11-06T00:00:00",
          "2018-11-07T00:00:00",
          "2018-11-08T00:00:00",
          "2018-11-09T00:00:00",
          "2018-11-12T00:00:00",
          "2018-11-13T00:00:00",
          "2018-11-14T00:00:00",
          "2018-11-15T00:00:00",
          "2018-11-16T00:00:00",
          "2018-11-19T00:00:00",
          "2018-11-20T00:00:00",
          "2018-11-21T00:00:00",
          "2018-11-22T00:00:00",
          "2018-11-23T00:00:00",
          "2018-11-26T00:00:00",
          "2018-11-27T00:00:00",
          "2018-11-28T00:00:00",
          "2018-11-29T00:00:00",
          "2018-11-30T00:00:00",
          "2018-12-03T00:00:00",
          "2018-12-04T00:00:00",
          "2018-12-05T00:00:00",
          "2018-12-06T00:00:00",
          "2018-12-07T00:00:00",
          "2018-12-10T00:00:00",
          "2018-12-11T00:00:00",
          "2018-12-12T00:00:00",
          "2018-12-13T00:00:00",
          "2018-12-14T00:00:00",
          "2018-12-17T00:00:00",
          "2018-12-18T00:00:00",
          "2018-12-19T00:00:00",
          "2018-12-20T00:00:00",
          "2018-12-21T00:00:00",
          "2018-12-24T00:00:00",
          "2018-12-25T00:00:00",
          "2018-12-26T00:00:00",
          "2018-12-27T00:00:00",
          "2018-12-28T00:00:00",
          "2018-12-31T00:00:00",
          "2019-01-01T00:00:00",
          "2019-01-02T00:00:00",
          "2019-01-03T00:00:00",
          "2019-01-04T00:00:00",
          "2019-01-07T00:00:00",
          "2019-01-08T00:00:00",
          "2019-01-09T00:00:00",
          "2019-01-10T00:00:00",
          "2019-01-11T00:00:00",
          "2019-01-14T00:00:00",
          "2019-01-15T00:00:00",
          "2019-01-16T00:00:00",
          "2019-01-17T00:00:00",
          "2019-01-18T00:00:00",
          "2019-01-21T00:00:00",
          "2019-01-22T00:00:00",
          "2019-01-23T00:00:00",
          "2019-01-24T00:00:00",
          "2019-01-25T00:00:00",
          "2019-01-28T00:00:00",
          "2019-01-29T00:00:00",
          "2019-01-30T00:00:00",
          "2019-01-31T00:00:00",
          "2019-02-01T00:00:00",
          "2019-02-04T00:00:00",
          "2019-02-05T00:00:00",
          "2019-02-06T00:00:00",
          "2019-02-07T00:00:00",
          "2019-02-08T00:00:00",
          "2019-02-11T00:00:00",
          "2019-02-12T00:00:00",
          "2019-02-13T00:00:00",
          "2019-02-14T00:00:00",
          "2019-02-15T00:00:00",
          "2019-02-18T00:00:00",
          "2019-02-19T00:00:00",
          "2019-02-20T00:00:00",
          "2019-02-21T00:00:00",
          "2019-02-22T00:00:00",
          "2019-02-25T00:00:00",
          "2019-02-26T00:00:00",
          "2019-02-27T00:00:00",
          "2019-02-28T00:00:00",
          "2019-03-01T00:00:00",
          "2019-03-04T00:00:00",
          "2019-03-05T00:00:00",
          "2019-03-06T00:00:00",
          "2019-03-07T00:00:00",
          "2019-03-08T00:00:00",
          "2019-03-11T00:00:00",
          "2019-03-12T00:00:00",
          "2019-03-13T00:00:00",
          "2019-03-14T00:00:00",
          "2019-03-15T00:00:00",
          "2019-03-18T00:00:00",
          "2019-03-19T00:00:00",
          "2019-03-20T00:00:00",
          "2019-03-21T00:00:00",
          "2019-03-22T00:00:00",
          "2019-03-25T00:00:00",
          "2019-03-26T00:00:00",
          "2019-03-27T00:00:00",
          "2019-03-28T00:00:00",
          "2019-03-29T00:00:00",
          "2019-04-01T00:00:00",
          "2019-04-02T00:00:00",
          "2019-04-03T00:00:00",
          "2019-04-04T00:00:00",
          "2019-04-05T00:00:00",
          "2019-04-08T00:00:00",
          "2019-04-09T00:00:00",
          "2019-04-10T00:00:00",
          "2019-04-11T00:00:00",
          "2019-04-12T00:00:00",
          "2019-04-15T00:00:00",
          "2019-04-16T00:00:00",
          "2019-04-17T00:00:00",
          "2019-04-18T00:00:00",
          "2019-04-19T00:00:00",
          "2019-04-22T00:00:00",
          "2019-04-23T00:00:00",
          "2019-04-24T00:00:00",
          "2019-04-25T00:00:00",
          "2019-04-26T00:00:00",
          "2019-04-29T00:00:00",
          "2019-04-30T00:00:00",
          "2019-05-01T00:00:00",
          "2019-05-02T00:00:00",
          "2019-05-03T00:00:00",
          "2019-05-06T00:00:00",
          "2019-05-07T00:00:00",
          "2019-05-08T00:00:00",
          "2019-05-09T00:00:00",
          "2019-05-10T00:00:00",
          "2019-05-13T00:00:00",
          "2019-05-14T00:00:00",
          "2019-05-15T00:00:00",
          "2019-05-16T00:00:00",
          "2019-05-17T00:00:00",
          "2019-05-20T00:00:00",
          "2019-05-21T00:00:00",
          "2019-05-22T00:00:00",
          "2019-05-23T00:00:00",
          "2019-05-24T00:00:00",
          "2019-05-27T00:00:00",
          "2019-05-28T00:00:00",
          "2019-05-29T00:00:00",
          "2019-05-30T00:00:00",
          "2019-05-31T00:00:00",
          "2019-06-03T00:00:00",
          "2019-06-04T00:00:00",
          "2019-06-05T00:00:00",
          "2019-06-06T00:00:00",
          "2019-06-07T00:00:00",
          "2019-06-10T00:00:00",
          "2019-06-11T00:00:00",
          "2019-06-12T00:00:00",
          "2019-06-13T00:00:00",
          "2019-06-14T00:00:00",
          "2019-06-17T00:00:00",
          "2019-06-18T00:00:00",
          "2019-06-19T00:00:00",
          "2019-06-20T00:00:00",
          "2019-06-21T00:00:00",
          "2019-06-24T00:00:00",
          "2019-06-25T00:00:00",
          "2019-06-26T00:00:00",
          "2019-06-27T00:00:00",
          "2019-06-28T00:00:00",
          "2019-07-01T00:00:00",
          "2019-07-02T00:00:00",
          "2019-07-03T00:00:00",
          "2019-07-04T00:00:00",
          "2019-07-05T00:00:00",
          "2019-07-08T00:00:00",
          "2019-07-09T00:00:00",
          "2019-07-10T00:00:00",
          "2019-07-11T00:00:00",
          "2019-07-12T00:00:00",
          "2019-07-15T00:00:00",
          "2019-07-16T00:00:00",
          "2019-07-17T00:00:00",
          "2019-07-18T00:00:00",
          "2019-07-19T00:00:00",
          "2019-07-22T00:00:00",
          "2019-07-23T00:00:00",
          "2019-07-24T00:00:00",
          "2019-07-25T00:00:00",
          "2019-07-26T00:00:00",
          "2019-07-29T00:00:00",
          "2019-07-30T00:00:00",
          "2019-07-31T00:00:00",
          "2019-08-01T00:00:00",
          "2019-08-02T00:00:00",
          "2019-08-05T00:00:00",
          "2019-08-06T00:00:00",
          "2019-08-07T00:00:00",
          "2019-08-08T00:00:00",
          "2019-08-09T00:00:00",
          "2019-08-12T00:00:00",
          "2019-08-13T00:00:00",
          "2019-08-14T00:00:00",
          "2019-08-15T00:00:00",
          "2019-08-16T00:00:00",
          "2019-08-19T00:00:00",
          "2019-08-20T00:00:00",
          "2019-08-21T00:00:00",
          "2019-08-22T00:00:00",
          "2019-08-23T00:00:00",
          "2019-08-26T00:00:00",
          "2019-08-27T00:00:00",
          "2019-08-28T00:00:00",
          "2019-08-29T00:00:00",
          "2019-08-30T00:00:00",
          "2019-09-02T00:00:00",
          "2019-09-03T00:00:00",
          "2019-09-04T00:00:00",
          "2019-09-05T00:00:00",
          "2019-09-06T00:00:00",
          "2019-09-09T00:00:00",
          "2019-09-10T00:00:00",
          "2019-09-11T00:00:00",
          "2019-09-12T00:00:00",
          "2019-09-13T00:00:00",
          "2019-09-16T00:00:00",
          "2019-09-17T00:00:00",
          "2019-09-18T00:00:00",
          "2019-09-19T00:00:00",
          "2019-09-20T00:00:00",
          "2019-09-23T00:00:00",
          "2019-09-24T00:00:00",
          "2019-09-25T00:00:00",
          "2019-09-26T00:00:00",
          "2019-09-27T00:00:00",
          "2019-09-30T00:00:00",
          "2019-10-01T00:00:00",
          "2019-10-02T00:00:00",
          "2019-10-03T00:00:00",
          "2019-10-04T00:00:00",
          "2019-10-07T00:00:00",
          "2019-10-08T00:00:00",
          "2019-10-09T00:00:00",
          "2019-10-10T00:00:00",
          "2019-10-11T00:00:00",
          "2019-10-14T00:00:00",
          "2019-10-15T00:00:00",
          "2019-10-16T00:00:00",
          "2019-10-17T00:00:00",
          "2019-10-18T00:00:00",
          "2019-10-21T00:00:00",
          "2019-10-22T00:00:00",
          "2019-10-23T00:00:00",
          "2019-10-24T00:00:00",
          "2019-10-25T00:00:00",
          "2019-10-28T00:00:00",
          "2019-10-29T00:00:00",
          "2019-10-30T00:00:00",
          "2019-10-31T00:00:00",
          "2019-11-01T00:00:00",
          "2019-11-04T00:00:00",
          "2019-11-05T00:00:00",
          "2019-11-06T00:00:00",
          "2019-11-07T00:00:00",
          "2019-11-08T00:00:00",
          "2019-11-11T00:00:00",
          "2019-11-12T00:00:00",
          "2019-11-13T00:00:00",
          "2019-11-14T00:00:00",
          "2019-11-15T00:00:00",
          "2019-11-18T00:00:00",
          "2019-11-19T00:00:00",
          "2019-11-20T00:00:00",
          "2019-11-21T00:00:00",
          "2019-11-22T00:00:00",
          "2019-11-25T00:00:00",
          "2019-11-26T00:00:00",
          "2019-11-27T00:00:00",
          "2019-11-28T00:00:00",
          "2019-11-29T00:00:00",
          "2019-12-02T00:00:00",
          "2019-12-03T00:00:00",
          "2019-12-04T00:00:00",
          "2019-12-05T00:00:00",
          "2019-12-06T00:00:00",
          "2019-12-09T00:00:00",
          "2019-12-10T00:00:00",
          "2019-12-11T00:00:00",
          "2019-12-12T00:00:00",
          "2019-12-13T00:00:00",
          "2019-12-16T00:00:00",
          "2019-12-17T00:00:00",
          "2019-12-18T00:00:00",
          "2019-12-19T00:00:00",
          "2019-12-20T00:00:00",
          "2019-12-22T00:00:00",
          "2019-12-23T00:00:00",
          "2019-12-24T00:00:00",
          "2019-12-26T00:00:00",
          "2019-12-27T00:00:00",
          "2019-12-29T00:00:00",
          "2019-12-30T00:00:00",
          "2019-12-31T00:00:00",
          "2020-01-01T00:00:00",
          "2020-01-02T00:00:00",
          "2020-01-03T00:00:00",
          "2020-01-05T00:00:00",
          "2020-01-06T00:00:00",
          "2020-01-07T00:00:00",
          "2020-01-08T00:00:00",
          "2020-01-09T00:00:00",
          "2020-01-10T00:00:00",
          "2020-01-12T00:00:00",
          "2020-01-13T00:00:00",
          "2020-01-14T00:00:00",
          "2020-01-15T00:00:00",
          "2020-01-16T00:00:00",
          "2020-01-17T00:00:00",
          "2020-01-19T00:00:00",
          "2020-01-20T00:00:00",
          "2020-01-21T00:00:00",
          "2020-01-22T00:00:00",
          "2020-01-23T00:00:00",
          "2020-01-24T00:00:00",
          "2020-01-26T00:00:00",
          "2020-01-27T00:00:00",
          "2020-01-28T00:00:00",
          "2020-01-29T00:00:00",
          "2020-01-30T00:00:00",
          "2020-01-31T00:00:00",
          "2020-02-02T00:00:00",
          "2020-02-03T00:00:00",
          "2020-02-04T00:00:00",
          "2020-02-05T00:00:00",
          "2020-02-06T00:00:00",
          "2020-02-07T00:00:00",
          "2020-02-09T00:00:00",
          "2020-02-10T00:00:00",
          "2020-02-11T00:00:00",
          "2020-02-12T00:00:00",
          "2020-02-13T00:00:00",
          "2020-02-14T00:00:00",
          "2020-02-16T00:00:00",
          "2020-02-17T00:00:00",
          "2020-02-18T00:00:00",
          "2020-02-19T00:00:00",
          "2020-02-20T00:00:00",
          "2020-02-21T00:00:00",
          "2020-02-23T00:00:00",
          "2020-02-24T00:00:00",
          "2020-02-25T00:00:00",
          "2020-02-26T00:00:00",
          "2020-02-27T00:00:00",
          "2020-02-28T00:00:00",
          "2020-03-01T00:00:00",
          "2020-03-02T00:00:00",
          "2020-03-03T00:00:00",
          "2020-03-04T00:00:00",
          "2020-03-05T00:00:00",
          "2020-03-06T00:00:00",
          "2020-03-08T00:00:00",
          "2020-03-09T00:00:00",
          "2020-03-10T00:00:00",
          "2020-03-11T00:00:00",
          "2020-03-12T00:00:00",
          "2020-03-13T00:00:00",
          "2020-03-15T00:00:00",
          "2020-03-16T00:00:00",
          "2020-03-17T00:00:00",
          "2020-03-18T00:00:00",
          "2020-03-19T00:00:00",
          "2020-03-20T00:00:00",
          "2020-03-22T00:00:00",
          "2020-03-23T00:00:00",
          "2020-03-24T00:00:00",
          "2020-03-25T00:00:00",
          "2020-03-26T00:00:00",
          "2020-03-27T00:00:00",
          "2020-03-29T00:00:00",
          "2020-03-30T00:00:00"
         ],
         "y": [
          null,
          null,
          null,
          null,
          null,
          null,
          null,
          null,
          null,
          null,
          null,
          null,
          null,
          null,
          null,
          null,
          null,
          null,
          null,
          null,
          null,
          null,
          null,
          null,
          null,
          null,
          null,
          null,
          null,
          null,
          null,
          null,
          null,
          null,
          null,
          null,
          null,
          null,
          null,
          1.3128659071494013,
          1.4577921993186518,
          1.4681653942776791,
          1.3890467708520962,
          1.1160549364171806,
          0.8154747872059884,
          0.5240167298385084,
          0.3185173310050801,
          0.1855005022319664,
          0.17726259706784647,
          0.31743260775192117,
          0.3313885958480526,
          0.39867955312423403,
          0.5721408581509496,
          0.7898911145202067,
          0.7283962915422286,
          0.7688274408274643,
          0.8546528257254591,
          0.8856323910180757,
          0.9045412358821477,
          1.0104197392117238,
          1.2108574070440812,
          1.3157412327687958,
          1.2269220727423311,
          1.1143756740041908,
          1.1143287176550325,
          1.2451092607139218,
          1.4503007131057062,
          1.7091565799116875,
          1.8854979451685856,
          1.9926321107206575,
          1.9418279895720518,
          1.8988799091873791,
          1.718279122901049,
          1.4312452144117382,
          1.140296129008726,
          0.8738970757505966,
          0.680238554954584,
          0.5076849450307233,
          0.40526799163119565,
          0.25390273484270653,
          -0.013861383701245851,
          -0.2819535535709413,
          -0.5377843130271972,
          -0.7496625595362005,
          -0.9853292507182806,
          -0.9572110144422527,
          -0.8606559749488778,
          -0.584262558460253,
          -0.34485361775594775,
          -0.13347007956671242,
          -0.03492996520193835,
          0.022233247011693002,
          -0.06946261592621664,
          -0.12181949154273236,
          -0.13940935559935208,
          -0.24386886369840577,
          -0.3580891821515223,
          -0.4599561699741796,
          -0.8618124154437843,
          -1.166841608383443,
          -1.3616038519006466,
          -1.5286905339965287,
          -1.7338331072225193,
          -1.6970134343259435,
          -1.619267126631286,
          -1.6971189285402302,
          -1.7766793015116302,
          -1.6136597136549204,
          -1.3489210620372878,
          -1.1806118893708162,
          -0.7979063879706698,
          -0.3411998942697839,
          -0.08598392565583025,
          0.11554660322394864,
          0.34107256578234074,
          0.48663699377976916,
          0.5910262712111145,
          0.8283305994682989,
          0.9429282593077882,
          1.0841665333111756,
          0.995973087157526,
          0.590427740984405,
          0.09947461012895381,
          -0.3334166945028469,
          -0.7556117451460038,
          -0.2935627501646692,
          0.5469761362261236,
          1.1765375613553342,
          1.7003918579775263,
          2.1904342759073283,
          2.1981566947815265,
          2.039003775605615,
          1.9756211893470343,
          1.9649125019967508,
          1.9304008279755764,
          1.8693634756532012,
          1.8175317963937103,
          1.6542279722867959,
          1.4848105933337608,
          1.2922166198864415,
          1.1379443334733035,
          0.9960369373413712,
          0.975903964724489,
          0.876864279288118,
          0.8355490688235135,
          0.7970256857022322,
          0.7646098713756508,
          0.6976403037561584,
          0.6748639457593995,
          0.6856727899734212,
          0.6891621835744947,
          0.7125470078076606,
          0.7011216256607923,
          0.6698223444486653,
          0.6784482772798094,
          0.6591548524010568,
          0.639659464642857,
          0.6987317885148888,
          0.8157101169858817,
          0.8458862378192212,
          0.9189144443083574,
          1.036644201789674,
          1.1402452949504223,
          1.2841164292783216,
          1.645253984355121,
          1.6674168096322524,
          1.4796185614645418,
          1.3150610189306469,
          1.053624889563695,
          0.895539157220826,
          0.6179906579942077,
          0.44926809538391554,
          0.35284925021495844,
          0.34308176319979344,
          0.16220476463308428,
          -0.04873840870339499,
          -0.3147404454811877,
          -0.585687114756013,
          -0.7063525185916097,
          -0.6994609129549318,
          -0.5917905408246692,
          -0.5313287096471105,
          -0.30621689481216513,
          -0.2063442389150732,
          -0.20588308454106774,
          -0.023505945057402923,
          0.2570422226102582,
          0.3906863228090951,
          0.5420425254636944,
          0.6817953103730454,
          0.7789423070556009,
          0.9142060744933933,
          0.9271482693093733,
          0.9565127564828472,
          1.0909242560100283,
          1.0460997613524898,
          1.0625288495003729,
          1.3002918436588362,
          1.5088584827968545,
          1.6735405490486936,
          1.8885191324364863,
          2.015660436845701,
          2.0603137676387844,
          2.125098899603038,
          2.140369994342804,
          1.995542350424999,
          1.8744553903227439,
          1.6175494549535159,
          1.4682111779598035,
          1.3148687834592978,
          1.168890299640043,
          1.0020832827088746,
          0.9539678297936705,
          0.88600949240816,
          0.8661670041606375,
          0.9122866198629932,
          0.9358455563936915,
          0.9704981722595023,
          1.026746055309231,
          0.9528817618869424,
          0.8079755003408373,
          0.716721978559875,
          0.5488504301465817,
          0.26927048316005064,
          -0.031441685228139594,
          -0.3819423982652596,
          -0.7629363520286242,
          -1.1380074932186888,
          -1.3893009034696822,
          -1.5289363696705314,
          -1.5387083839002356,
          -1.5643685625717427,
          -1.597357124949618,
          -1.6484823089049723,
          -1.6544872304337168,
          -1.6740153307947623,
          -1.5720767935981348,
          -1.5219312793415618,
          -1.4507116960563295,
          -1.3710004483577294,
          -1.3507110275779306,
          -1.3592043854228912,
          -1.3631379785241555,
          -1.2686651912865166,
          -1.2315640232330782,
          -1.1463517581094667,
          -1.1371247764958448,
          -1.1244864483891548,
          -1.1800375628863904,
          -1.1625482946944878,
          -1.1300797932306548,
          -1.0754572005667196,
          -1.0265117927615275,
          -0.9408679573968459,
          -0.8126500483988973,
          -0.6509352239705795,
          -0.49678595288001476,
          -0.32494154550999604,
          -0.17868635375857478,
          -0.047276897192145576,
          0.04840872338883788,
          0.16269250637713079,
          0.26991055689157,
          0.4005257455512762,
          0.4403250860871621,
          0.6126559258486626,
          1.0084218950279655,
          1.3787850491585125,
          1.6832026042162116,
          1.9113500526938454,
          2.074270558822431,
          1.9877753834309915,
          1.8732602528366147,
          1.7946971768090902,
          1.580694244757524,
          1.3612087264148953,
          0.9748320091940293,
          0.8578181243697832,
          0.5607543041502175,
          0.2788984434468725,
          0.0252120335431651,
          -0.0393294629866116,
          -0.04374089256183654,
          -0.04009399625144687,
          0.11745213477362061,
          0.27525421874727235,
          0.3312053488231667,
          0.21343233037509723,
          0.23341197824300755,
          0.07797840707954208,
          -0.22432129689695754,
          -0.6273578798342919,
          -0.8090477561264908,
          -0.909225157548929,
          -0.8870408382694923,
          -0.8296802592673127,
          -0.6866461430746941,
          -0.7313525899897694,
          -0.7847274098792816,
          -0.9949331111887735,
          -1.1471171344335893,
          -1.162876649270984,
          -0.9590426184340658,
          -0.7474756160961623,
          -0.432857291202072,
          -0.05814697393276698,
          0.28181218328215657,
          0.5633873441064788,
          0.7606904867280321,
          1.0918629320677076,
          1.3652623414222094,
          1.6545690018553318,
          1.716790138319021,
          1.8180001077759023,
          1.793241656203417,
          1.545218768332855,
          1.4192164644101442,
          1.2423534517544668,
          1.0181297786223595,
          0.7768203661442554,
          0.7284042137512149,
          0.6171504223391017,
          0.6292417262881412,
          0.6146305315798175,
          0.5085510292764092,
          0.165894770213079,
          -0.04612340232696537,
          -0.28805071889532,
          -0.5478991344655193,
          -0.607157906819727,
          -0.46675376277199837,
          -0.5236789865003483,
          -0.734431115550835,
          -0.8155509048893982,
          -0.8953523386195317,
          -1.042639449321907,
          -1.1541028827793225,
          -1.3427611189732247,
          -1.5111940354044497,
          -1.6878949186915493,
          -1.790200344434709,
          -1.7378522404717467,
          -1.4482060815774374,
          -1.222467250940698,
          -1.0529525106899895,
          -0.9103430942416905,
          -0.9275406675621989,
          -0.9837617050663129,
          -0.9880288405577029,
          -0.8310448589982383,
          -0.6941554022689148,
          -0.6765541067477358,
          -0.6950488915718674,
          -0.7552031588295957,
          -0.8624120801140273,
          -0.8256901949052532,
          -0.6625918478133682,
          -0.2596567694703255,
          0.2285057898706617,
          0.6057176731202173,
          0.9357042809714461,
          1.273905616453668,
          1.4670493819721913,
          1.602027479004436,
          1.701090082935202,
          1.7849842792759967,
          1.7616093226117484,
          1.8036108074181014,
          1.8101066684902964,
          1.7763535812251703,
          1.673709530409312,
          1.6212058186646658,
          1.5758540173251914,
          1.4525466743850852,
          1.3300533087413315,
          1.2650079872084627,
          1.3133255064607254,
          1.3138263837608477,
          1.392203028936558,
          1.4682513731938847,
          1.3894530658555746,
          1.187106216879046,
          1.1372754363808308,
          1.087644120252722,
          1.1134594203097912,
          1.1150214788750397,
          1.1210154545669253,
          1.1003350391231095,
          1.0385502347810522,
          0.9972147599944075,
          0.9179335039042295,
          0.8786517426214346,
          0.7442802963373717,
          0.6797544136894188,
          0.6733295293119012,
          0.794061465752703,
          0.9178761597202255,
          1.1632270299339538,
          1.318858925621418,
          1.3381413989657867,
          1.1210920977589738,
          0.9282335184516926,
          0.6664077640904486,
          0.5748226855344799,
          0.9154478514255477,
          1.3806070502710903,
          1.6672574995933351,
          1.7743817337890642,
          1.9154623973845455,
          1.7468895803739688,
          1.5656946129860574,
          1.5280001087798896,
          1.4367404926391794,
          1.4235849157371996,
          1.5503638528233867,
          1.5949352636429166,
          1.6374417130524737,
          1.7292300724232808,
          1.7626750591505569,
          1.7097448483852768,
          1.6834536209129378,
          1.637146334386812,
          1.6294848361343073,
          1.6493435422672653,
          1.6093570599432943,
          1.5803415673132504,
          1.5823495276089894,
          1.5464270670144498,
          1.546681286925171,
          1.5859592862747716,
          1.6302357780893064,
          1.6534683570604365,
          1.673934208963664,
          1.5780456075719924,
          1.5045579923596462,
          1.3266457959681415,
          1.1800535762495856,
          0.9651851813502459,
          0.850609891245642,
          0.7595813213544147,
          0.6809012213756195,
          0.46083725516722146,
          0.20432527625398306,
          -0.09118914376475824,
          -0.6030995884454279,
          -1.0950973813869544,
          -1.4264699737320685,
          -1.6011759991812118,
          -1.8005946021244537,
          -1.8504826958402998,
          -1.6862546383223727,
          -1.6756643261596769,
          -1.7286774491632602,
          -1.6804163590205827,
          -1.6015724068075825,
          -1.5798646040180222,
          -1.471258532481682,
          -1.2968999159810235,
          -1.135519088859923,
          -0.9233986673983675,
          -0.7186000514978135,
          -0.5809580609825598,
          -0.47584106321085284,
          -0.3477762526902079,
          -0.32789380469752694,
          -0.3916459012299586,
          -0.39327581469621165,
          -0.38642808676022583,
          -0.40326196385835633,
          -0.27038558092230874,
          -0.17988129991595134,
          -0.12782576812139204,
          -0.026711008671319064,
          -0.00294359553961268,
          -0.18720849415738147,
          -0.2876074716630085,
          -0.3729056308943358,
          -0.6606787373751569,
          -0.8782314785565909,
          -0.7456534620038837,
          -0.6581922672067259,
          -0.6409287662307709,
          -0.49392713549509826,
          -0.24838627601571653,
          -0.4584116390084499,
          -0.5967976634465705,
          -0.3597558300201252,
          0.10623623107575605,
          0.38960288963419026,
          0.5517381229059489,
          0.7736847757070746,
          0.6685845875165544,
          0.34906543513999055,
          0.04717333448812716,
          -0.06810191748311714,
          -0.05992001568835385,
          0.1461201559844334,
          0.18768657163713223,
          0.07746277978675806,
          -0.22860864530928762,
          -0.5813476587210631,
          -0.9671112475329094,
          -1.1659826252225074,
          -1.206337402445143,
          -1.2657943902635524,
          -1.3245383484381033,
          -1.2267790774192795,
          -1.1244178835580663,
          -1.0671978916920295,
          -0.9154662962230135,
          -0.7547971721968679,
          -0.7766642981724471,
          -0.6632672896233496,
          -0.43172846777699747,
          -0.0763094993658294,
          0.09386653125897848,
          0.333850802189528,
          0.3789845469839478,
          0.3369775592122035,
          0.418375934581396,
          0.4304224383952598,
          0.45275476699901446,
          0.45186167157916546,
          0.4858244234047316,
          0.5365830727237956,
          0.4764210673615459,
          0.22732725673765133,
          0.07431180231967653,
          -0.05067778625162472,
          -0.10700398099172566,
          -0.029626294767133902,
          0.2740976625274767,
          0.5829038286506592,
          0.47068576865605605,
          0.18058008570302558,
          0.01368309068493906,
          -0.48732933903417275,
          -0.924730233813753,
          -1.204526022758919,
          -1.3546556065465851,
          -1.5275472728255906,
          -1.3929214879804517,
          -1.4268531670577882,
          -1.2023365273526254,
          -1.2188784715646244,
          -1.0148271944941099,
          -0.7791233707478428,
          -0.37537951184968604,
          -0.0568709453542799,
          0.05673494838919908,
          0.11962758077344077,
          0.17059314446206825,
          0.21878852711321917,
          0.44457860623312545,
          0.7155405637130601,
          0.7108167469366753,
          0.6311518631567894,
          0.3517692560275678,
          0.10174464377009278,
          -0.014148442695254395,
          -0.1127159805430437,
          -0.2457305325660932,
          -0.29555949178509583,
          -0.13385609230854362,
          0.16445386279503982,
          0.6266482021438045,
          0.9159283432757676,
          1.3455668299177397,
          1.5046631697073516,
          1.5027085909626836,
          1.364239752035797,
          1.24708816510559,
          1.0517320784758106,
          0.7736001448986625,
          0.4535546203513566,
          0.19474997195916038,
          -0.09072272844342213,
          -0.5369432824417463,
          -1.0415806721448384,
          -1.3589751430614634,
          -1.588545254974107,
          -1.6980674307239896,
          -1.6378627739346612,
          -1.5616701193963034,
          -1.4021696357037983,
          -1.2068063506832323,
          -1.0985182880707673,
          -1.1155506982264443,
          -1.103781439709058,
          -1.1684142684365537,
          -1.3070689568748255,
          -1.3407466520443032,
          -1.2958426778572025,
          -1.222689356131695,
          -1.3140644598135487,
          -1.3492442009352585,
          -1.4300642732854432,
          -1.4785490101212184,
          -1.4574961263992519,
          -1.2052752140215979,
          -0.9186674677533827,
          -0.6024548601134933,
          -0.36152703298075856,
          -0.2805094889924972,
          -0.3807324001480516,
          -0.2848712889014171,
          -0.21553590031043474,
          -0.017401705262735722,
          0.2587349319180249,
          0.7576715558846454,
          0.9309436287253147,
          1.095413483356726,
          1.0282227490898423,
          0.923931884745705,
          0.8763836319403531,
          0.7925321907426414,
          0.8081086543311559,
          0.8225024515471538,
          0.8367513831419854,
          0.46540770715542307,
          0.14068972930514811,
          0.04151038005455298,
          0.04850858194507559,
          0.07465089000850807,
          0.22056653074465635,
          0.29922339251818164,
          0.10727578112004849,
          -0.13309742927962595,
          -0.11217924826408336,
          -0.005902855702948857,
          -0.09528726054297264,
          0.11004146742829089,
          0.26306827747000827,
          0.24688752073453565,
          0.18797518994112664,
          0.31316238767298954,
          0.35683593036991645,
          0.5286916910201411,
          0.6905509408682723,
          0.2987177486495218,
          0.10679454476580588,
          -0.10993753380988577,
          -0.07980280146965399,
          -0.305713038202513,
          -0.16265064940201965,
          0.15431491656717566,
          0.36502679060953963,
          0.44142143246296983,
          0.5984760854909941,
          1.131033977321524,
          1.4858142337638947,
          1.581124325313665,
          1.6536779917063176,
          1.6006392858378737,
          1.5108356206271283,
          1.4403237144553815,
          1.3535127379230405,
          1.3185376978024606,
          1.4027310555863135,
          1.349498134614098,
          1.2445040785273476,
          1.1025014761101462,
          1.176382801030761,
          1.3116163474242295,
          1.5186342763740779,
          1.719948898285268,
          1.869299415223232,
          1.836367540297585,
          1.7086106991680696,
          1.4128927795490505,
          1.2579124942423296,
          1.1381632200735612,
          1.1357702512908183,
          1.0605834591632086,
          1.0664016175040076,
          1.0087336105392828,
          0.9798275206981732,
          1.0689033196921478,
          1.3205061503287188,
          1.5180586649829588,
          1.6460717018355808,
          1.6387058414621098,
          1.4445044568671404,
          1.1260654830102075,
          0.9291280245415325,
          0.9820443573398723,
          1.0368431583149738,
          1.1775868293298777,
          1.2834385715468966,
          1.3969688092101844,
          1.4925529033395546,
          1.6007601885884544,
          1.7534974471407694,
          1.7492283176583838,
          1.6154452668017425,
          1.2830122786663036,
          1.1074156774768975,
          0.8135873913034545,
          0.8392363646933478,
          0.8623673082081629,
          0.8289831170784258,
          0.3360430152189646,
          -0.07001953141514426,
          -0.4645670960202026,
          -0.7102934863319607,
          -0.8432471115782273,
          -0.8861912526833664,
          -0.9831438231192169,
          -1.0810721860966888,
          -1.2292231485166591,
          -0.9665466556539032,
          -0.714732112001527,
          -0.5191016458056896,
          -0.4129327067443101,
          -0.33164889301410927,
          -0.6319435627141609,
          -0.878464732133927,
          -0.9559470283318906,
          -1.0426686824702922,
          -1.135074515598897,
          -1.3816623955173257,
          -1.5112370823412649,
          -1.7385115005109566,
          -1.881249534767088,
          -1.9343243759761914,
          -1.8147997257871695,
          -1.6841266599886253,
          -1.512922180642704,
          -1.3399569023109599,
          -1.2011650191970584,
          -1.1209524305972667,
          -1.0133537254858818,
          -0.8642971019217093,
          -0.6471332082363522,
          -0.4263671739765616,
          -0.21047435231237455,
          -0.04871226770777467,
          0.2461608074882887,
          0.3728329365286044,
          0.1292089630439282,
          -0.1477013550317691,
          -0.5256967723794439,
          -1.046475184121497,
          -1.3787838453688441,
          -1.4515835220349809,
          -1.4924952658521287,
          -1.459679075939927,
          -1.417224410761704,
          -1.3358338224335942,
          -0.9071227685195586,
          -0.4938099727364525,
          0.007895103689398617,
          0.5505954543761586,
          1.1362322894600947,
          1.142566346936156,
          1.0591034720216084,
          0.836549453540185,
          0.7515800587872551,
          0.6144751115159491,
          0.7130898574677668,
          0.7418840711137555,
          0.9458356694621065,
          1.0575785721519866,
          1.1278863279097044,
          1.0604078583314298,
          1.1605204830825868,
          1.2800714656248153,
          1.4282168258375998,
          1.5290739836399774,
          1.6245752710506443,
          1.6458720426436628,
          1.4584301251669773,
          1.2294146881224806,
          1.1942310440725332,
          1.2393994900274832,
          1.2157096585950113,
          1.1397476725284381,
          1.0768880214016334,
          0.9684515252206044,
          0.8918130694101533,
          0.8444140888026976,
          0.8578627302825282,
          0.8867503544369938,
          0.8737393996738652,
          0.7920271883177826,
          0.6661572416143067,
          0.6138206883675625,
          0.6022070742571694,
          0.6661970046939949,
          0.6174749406860023,
          0.5367231493713924,
          0.34706472468434285,
          -0.02907511722718698,
          -0.5540932546214454,
          -1.2017186381411802,
          -1.4753116366423447,
          -1.7626409286885039,
          -1.9289195499125193,
          -2.031670380832662,
          -1.9697694525278941,
          -2.0632668063071637,
          -2.111246334698164,
          -2.039697261885426,
          -1.8790607494480387,
          -1.6567355556287768,
          -1.411817372869162,
          -1.2174181005565585,
          -1.071351588002217,
          -0.9720383697237882,
          -0.8899611734235992,
          -0.8435691193478593,
          -0.8001113613470554,
          -0.8178474504904358,
          -0.7989650066103232,
          -0.6631937306021977,
          -0.6005327732674257,
          -0.5957696910845791,
          -0.7031956171038602,
          -0.7805184443389496,
          -0.9511077415308096,
          -1.022722507254569,
          -1.1026202583408231,
          -1.1578507983032662,
          -1.2824777705058594,
          -1.3927261352648979,
          -1.4563371173596718,
          -1.5309189126048122,
          -1.5043540490317613,
          -1.4087911539862323,
          -1.4226070191581426,
          -1.377334384212267,
          -1.411797606665331,
          -1.2774536271152441,
          -1.34442162652468,
          -1.2849783275647713,
          -1.4328066218826632,
          -1.3711314501411433,
          -1.4719752863634166,
          -1.1225659708135625,
          -0.8282837403848697,
          -0.7045950077404678,
          -0.6312910219232425,
          -0.620823838573,
          -0.808013357001921,
          -0.9311006343344408,
          -0.8145636956620095,
          -0.7873739023243143,
          -0.7264283808171276,
          -0.6516921713554973,
          -0.6709110764597624,
          -0.6583403514422308,
          -0.4933425157745431,
          -0.24033969952454237,
          0.00961501357648681,
          0.21409761346535497,
          0.40987367728923,
          0.5596700706488563,
          0.6802516564426785,
          0.8997115935885728,
          1.0392140073065848,
          1.1674496779993095,
          1.330223231711266,
          1.3674936480847986,
          1.2570627535663779,
          1.1846967648793933,
          1.0614077435825766,
          0.928040131374546,
          0.6288027213596065,
          0.36906822889805657,
          0.14003685830478332,
          -0.29273848309231626,
          -0.659116469578005,
          -0.8075695732769342,
          -0.8130204818412223,
          -0.679249041999981,
          -0.16626535194364356,
          0.24906817807422912,
          0.696423475140039,
          1.081534470060931,
          1.4231384315184827,
          1.6577896480722532,
          1.8189284280025024,
          1.9485762076629132,
          2.0057130407003743,
          2.026470782565665,
          1.9508849233450019,
          1.9102863639311627,
          1.8754420229112247,
          1.789659819305787,
          1.6591395506608604,
          1.6020953126716848,
          1.5500796475841414,
          1.523260812560191,
          1.496561350212896,
          1.4859270278103125,
          1.4797411491097876,
          1.440080124706764,
          1.4217027212445343,
          1.4272098073928485,
          1.3827200725220132,
          1.315201371848101,
          1.270280522738006,
          1.215413039170145,
          1.142736435359098,
          1.084094957205104,
          1.0566272074693603,
          0.9841245653134092,
          0.9810297779628007,
          1.046385863672979,
          1.1169847558739954,
          1.1612284023607817,
          1.122416948498752,
          1.128614109498003,
          1.1234726203375076,
          1.1038370451049013,
          1.1025296142103351,
          1.178750693679849,
          1.2291823654429646,
          1.268485080349758,
          1.2860904336627668,
          1.2601636699132888,
          1.3101970093063415,
          1.3587672405864641,
          1.355388831214103,
          1.30374648401045,
          1.3266108913737726,
          1.2552846090132217,
          0.995015945714666,
          0.606768407286885,
          0.421681040969469,
          0.4051208231660858,
          0.7573656270331942,
          1.2013407040582402,
          1.6448514121883178,
          2.008341646637256,
          2.2408912435210637,
          2.1445758666822714,
          1.9636521211843614,
          1.9952763540317175,
          1.9838839108000865,
          2.0307992857584973,
          1.9313083069083457,
          1.8842706867256251,
          1.8085027808884886,
          1.7120113238829868,
          1.386553478244955,
          1.0962066279924687,
          0.8250436652802088,
          0.6257406575937109,
          0.358008282973416,
          0.245857777062478,
          0.1278893616332139,
          -0.06060700509262858,
          -0.21150041915587323,
          -0.18521781505041504,
          -0.2745509524015796,
          -0.30683676012389427,
          -0.22464677012121062,
          -0.35738604794149925,
          -0.5812315300368163,
          -0.7068215776020779,
          -0.9581878713321088,
          -1.174626523440061,
          -1.26380482870611,
          -1.2166625069736883,
          -1.3561175965693317,
          -1.4361933773082804,
          -1.5089247329824662,
          -1.5929790069444187,
          -1.7422091930643888,
          -1.6933612041525894,
          -1.6030724089794082,
          -1.5481503511387646,
          -1.4529530808379467,
          -1.3209232960262989,
          -1.1778721950333764,
          -1.0915494288472471,
          -0.9615630708890783,
          -0.8590582871576532,
          -0.7758007674518125,
          -0.7486336678239731,
          -0.6369910101884042,
          -0.47989239763206476,
          -0.3079421491992164,
          -0.3328061406914829,
          -0.5577518416922375,
          -0.8038848168517271,
          -1.2517512897743086,
          -1.7182328783077512,
          -1.895108210640969,
          -1.9122167675322612,
          -1.9827747546715484,
          -1.8448157602307003,
          -1.7545017111013268,
          -1.6622022747326806,
          -1.5424767554319898,
          -1.4443623312390421,
          -1.4025439438952452,
          -1.3039509084679026,
          -1.2630341915398526,
          -1.2170410944572758,
          -1.1472293763694437,
          -1.1380334043782458,
          -1.1241444673280687,
          -1.06862708751741,
          -1.0283256312809856,
          -1.0475231395501368,
          -1.018652055123583,
          -1.0234744641053808,
          -1.0578844980158486,
          -1.0890758017253543,
          -1.0789208922328983,
          -1.0291436818381239,
          -0.977764916242152,
          -0.9221328724662952,
          -0.8523029439621118,
          -0.8143266075533575,
          -0.7846630776572492,
          -0.8214393477344569,
          -0.8394268815282138,
          -0.9284234426682567,
          -0.8795793878503853,
          -0.9856095754509612,
          -1.2477276632194465,
          -1.5159649965744693,
          -1.6653147595158282,
          -2.0112023230478346,
          -2.1277380914977333,
          -2.0261576435440176,
          -1.8788827639373373,
          -1.7998585238065732,
          -1.7441592870827998,
          -1.5706850932136822,
          -1.3898172877044315,
          -1.1494599959939822,
          -0.6869562877455213,
          -0.2552420524915879,
          -0.02800473898007918,
          0.18076867890084222,
          0.18814648600087386,
          0.3000429577666383,
          0.37595805773826624,
          0.30556238937920577,
          0.03593706988069987,
          -0.15589624498854146,
          -0.26527085942766676,
          -0.23758593694087568,
          -0.25627939638233543,
          -0.07779388982920618,
          0.07777946662514869,
          0.048058070006151636,
          -0.026077945199205657,
          -0.049987443065296205,
          0.06435347179825693,
          0.32358623139445397,
          0.6022835928116426,
          0.7831706325432386,
          0.8184226402350727,
          0.7954821791137238,
          0.6445762754375685,
          0.5655642247295468,
          0.3884992523944785,
          0.15201396623072658,
          -0.20258696939964696,
          -0.5649874902935231,
          -0.8911361838568523,
          -1.1110816799781866,
          -1.0656802590965635,
          -0.9612002375367534,
          -0.9553456762333705,
          -1.213476840267162,
          -1.4143927184083918,
          -1.204707440231725,
          -1.107487896872938,
          -0.9126542377666097,
          -0.5176440921268771,
          -0.21684051424323184,
          -0.278286737710855,
          -0.3418158106907582,
          -0.42145062342313017,
          -0.7754713953099224,
          -1.252802226149389,
          -1.6629048117122116,
          -1.9012637973046187,
          -2.0398565873444574,
          -2.0853958939659507,
          -1.8585388970747783,
          -1.6067596503861683,
          -1.3982847970809573,
          -1.219684497338146,
          -0.9367993756312429,
          -0.878941496629201,
          -0.703229537597269,
          -0.2306786111624674,
          0.350590352976469,
          0.8795326412193619,
          1.5370097291394296,
          1.9211674430628098,
          2.0316480623810165,
          2.0421897370476776,
          2.002007835759127,
          1.8144890363342379,
          1.6632074758337219,
          1.6538567428412392,
          1.6514651754017704,
          1.7526189884227519,
          1.8195224530130194,
          1.9082344700099882,
          2.0015787009119212,
          2.0651420459298273,
          2.09327987821252,
          2.0368632737265506,
          1.9819278328045495,
          1.89588228784826,
          1.8475751392544422,
          1.6030252409637638,
          1.4524981543663116,
          1.3170581311202683,
          1.145591189477698,
          0.9125817768088712,
          0.7202792023266061
         ]
        },
        {
         "mode": "markers",
         "name": "sell",
         "type": "scatter",
         "x": [
          "2016-03-01T00:00:00",
          "2016-03-29T00:00:00",
          "2016-06-17T00:00:00",
          "2016-07-04T00:00:00",
          "2016-10-14T00:00:00",
          "2017-01-17T00:00:00",
          "2017-03-17T00:00:00",
          "2017-06-01T00:00:00",
          "2018-03-09T00:00:00",
          "2018-05-09T00:00:00",
          "2018-07-05T00:00:00",
          "2018-11-26T00:00:00",
          "2019-04-24T00:00:00",
          "2019-05-24T00:00:00",
          "2019-08-06T00:00:00"
         ],
         "y": [
          1.3890467708520962,
          1.2269220727423311,
          0.995973087157526,
          2.039003775605615,
          1.995542350424999,
          1.8732602528366147,
          1.545218768332855,
          1.7763535812251703,
          1.364239752035797,
          0.923931884745705,
          1.5108356206271283,
          0.836549453540185,
          1.2570627535663779,
          1.9508849233450019,
          1.9636521211843614
         ]
        },
        {
         "mode": "markers",
         "name": "buy",
         "type": "scatter",
         "x": [
          "2016-05-02T00:00:00",
          "2016-05-26T00:00:00",
          "2016-11-28T00:00:00",
          "2017-02-17T00:00:00",
          "2017-04-25T00:00:00",
          "2017-09-22T00:00:00",
          "2017-12-11T00:00:00",
          "2018-01-29T00:00:00",
          "2018-03-28T00:00:00",
          "2018-09-21T00:00:00",
          "2018-10-12T00:00:00",
          "2018-11-13T00:00:00",
          "2019-01-29T00:00:00",
          "2019-09-23T00:00:00",
          "2019-10-22T00:00:00",
          "2020-01-29T00:00:00",
          "2020-02-19T00:00:00"
         ],
         "y": [
          -0.8606559749488778,
          -1.619267126631286,
          -1.5720767935981348,
          -0.8296802592673127,
          -1.4482060815774374,
          -1.6862546383223727,
          -1.2267790774192795,
          -1.3929214879804517,
          -1.5616701193963034,
          -0.9665466556539032,
          -1.8147997257871695,
          -1.417224410761704,
          -2.039697261885426,
          -1.6030724089794082,
          -1.8448157602307003,
          -0.9612002375367534,
          -1.8585388970747783
         ]
        },
        {
         "mode": "markers",
         "name": "exit",
         "type": "scatter",
         "x": [
          "2016-03-07T00:00:00",
          "2016-04-20T00:00:00",
          "2016-05-04T00:00:00",
          "2016-06-06T00:00:00",
          "2016-06-21T00:00:00",
          "2016-08-29T00:00:00",
          "2016-11-09T00:00:00",
          "2016-12-26T00:00:00",
          "2017-01-26T00:00:00",
          "2017-03-02T00:00:00",
          "2017-03-31T00:00:00",
          "2017-05-16T00:00:00",
          "2017-09-11T00:00:00",
          "2017-10-10T00:00:00",
          "2017-12-20T00:00:00",
          "2018-02-06T00:00:00",
          "2018-03-15T00:00:00",
          "2018-04-24T00:00:00",
          "2018-05-17T00:00:00",
          "2018-09-10T00:00:00",
          "2018-09-26T00:00:00",
          "2018-10-25T00:00:00",
          "2018-11-16T00:00:00",
          "2019-01-14T00:00:00",
          "2019-04-08T00:00:00",
          "2019-05-01T00:00:00",
          "2019-07-25T00:00:00",
          "2019-08-22T00:00:00",
          "2019-10-08T00:00:00",
          "2019-12-22T00:00:00",
          "2020-02-07T00:00:00",
          "2020-02-27T00:00:00"
         ],
         "y": [
          0.3185173310050801,
          0.40526799163119565,
          -0.34485361775594775,
          -0.3411998942697839,
          0.09947461012895381,
          0.44926809538391554,
          0.26927048316005064,
          -0.49678595288001476,
          0.2788984434468725,
          -0.432857291202072,
          0.165894770213079,
          -0.2596567694703255,
          0.46083725516722146,
          -0.47584106321085284,
          -0.43172846777699747,
          -0.37537951184968604,
          0.4535546203513566,
          -0.36152703298075856,
          0.46540770715542307,
          0.3360430152189646,
          -0.4129327067443101,
          -0.4263671739765616,
          -0.4938099727364525,
          0.34706472468434285,
          -0.4933425157745431,
          0.36906822889805657,
          0.421681040969469,
          0.358008282973416,
          -0.47989239763206476,
          -0.2552420524915879,
          -0.21684051424323184,
          -0.2306786111624674
         ]
        }
       ],
       "layout": {
        "template": {
         "data": {
          "bar": [
           {
            "error_x": {
             "color": "#2a3f5f"
            },
            "error_y": {
             "color": "#2a3f5f"
            },
            "marker": {
             "line": {
              "color": "#E5ECF6",
              "width": 0.5
             }
            },
            "type": "bar"
           }
          ],
          "barpolar": [
           {
            "marker": {
             "line": {
              "color": "#E5ECF6",
              "width": 0.5
             }
            },
            "type": "barpolar"
           }
          ],
          "carpet": [
           {
            "aaxis": {
             "endlinecolor": "#2a3f5f",
             "gridcolor": "white",
             "linecolor": "white",
             "minorgridcolor": "white",
             "startlinecolor": "#2a3f5f"
            },
            "baxis": {
             "endlinecolor": "#2a3f5f",
             "gridcolor": "white",
             "linecolor": "white",
             "minorgridcolor": "white",
             "startlinecolor": "#2a3f5f"
            },
            "type": "carpet"
           }
          ],
          "choropleth": [
           {
            "colorbar": {
             "outlinewidth": 0,
             "ticks": ""
            },
            "type": "choropleth"
           }
          ],
          "contour": [
           {
            "colorbar": {
             "outlinewidth": 0,
             "ticks": ""
            },
            "colorscale": [
             [
              0,
              "#0d0887"
             ],
             [
              0.1111111111111111,
              "#46039f"
             ],
             [
              0.2222222222222222,
              "#7201a8"
             ],
             [
              0.3333333333333333,
              "#9c179e"
             ],
             [
              0.4444444444444444,
              "#bd3786"
             ],
             [
              0.5555555555555556,
              "#d8576b"
             ],
             [
              0.6666666666666666,
              "#ed7953"
             ],
             [
              0.7777777777777778,
              "#fb9f3a"
             ],
             [
              0.8888888888888888,
              "#fdca26"
             ],
             [
              1,
              "#f0f921"
             ]
            ],
            "type": "contour"
           }
          ],
          "contourcarpet": [
           {
            "colorbar": {
             "outlinewidth": 0,
             "ticks": ""
            },
            "type": "contourcarpet"
           }
          ],
          "heatmap": [
           {
            "colorbar": {
             "outlinewidth": 0,
             "ticks": ""
            },
            "colorscale": [
             [
              0,
              "#0d0887"
             ],
             [
              0.1111111111111111,
              "#46039f"
             ],
             [
              0.2222222222222222,
              "#7201a8"
             ],
             [
              0.3333333333333333,
              "#9c179e"
             ],
             [
              0.4444444444444444,
              "#bd3786"
             ],
             [
              0.5555555555555556,
              "#d8576b"
             ],
             [
              0.6666666666666666,
              "#ed7953"
             ],
             [
              0.7777777777777778,
              "#fb9f3a"
             ],
             [
              0.8888888888888888,
              "#fdca26"
             ],
             [
              1,
              "#f0f921"
             ]
            ],
            "type": "heatmap"
           }
          ],
          "heatmapgl": [
           {
            "colorbar": {
             "outlinewidth": 0,
             "ticks": ""
            },
            "colorscale": [
             [
              0,
              "#0d0887"
             ],
             [
              0.1111111111111111,
              "#46039f"
             ],
             [
              0.2222222222222222,
              "#7201a8"
             ],
             [
              0.3333333333333333,
              "#9c179e"
             ],
             [
              0.4444444444444444,
              "#bd3786"
             ],
             [
              0.5555555555555556,
              "#d8576b"
             ],
             [
              0.6666666666666666,
              "#ed7953"
             ],
             [
              0.7777777777777778,
              "#fb9f3a"
             ],
             [
              0.8888888888888888,
              "#fdca26"
             ],
             [
              1,
              "#f0f921"
             ]
            ],
            "type": "heatmapgl"
           }
          ],
          "histogram": [
           {
            "marker": {
             "colorbar": {
              "outlinewidth": 0,
              "ticks": ""
             }
            },
            "type": "histogram"
           }
          ],
          "histogram2d": [
           {
            "colorbar": {
             "outlinewidth": 0,
             "ticks": ""
            },
            "colorscale": [
             [
              0,
              "#0d0887"
             ],
             [
              0.1111111111111111,
              "#46039f"
             ],
             [
              0.2222222222222222,
              "#7201a8"
             ],
             [
              0.3333333333333333,
              "#9c179e"
             ],
             [
              0.4444444444444444,
              "#bd3786"
             ],
             [
              0.5555555555555556,
              "#d8576b"
             ],
             [
              0.6666666666666666,
              "#ed7953"
             ],
             [
              0.7777777777777778,
              "#fb9f3a"
             ],
             [
              0.8888888888888888,
              "#fdca26"
             ],
             [
              1,
              "#f0f921"
             ]
            ],
            "type": "histogram2d"
           }
          ],
          "histogram2dcontour": [
           {
            "colorbar": {
             "outlinewidth": 0,
             "ticks": ""
            },
            "colorscale": [
             [
              0,
              "#0d0887"
             ],
             [
              0.1111111111111111,
              "#46039f"
             ],
             [
              0.2222222222222222,
              "#7201a8"
             ],
             [
              0.3333333333333333,
              "#9c179e"
             ],
             [
              0.4444444444444444,
              "#bd3786"
             ],
             [
              0.5555555555555556,
              "#d8576b"
             ],
             [
              0.6666666666666666,
              "#ed7953"
             ],
             [
              0.7777777777777778,
              "#fb9f3a"
             ],
             [
              0.8888888888888888,
              "#fdca26"
             ],
             [
              1,
              "#f0f921"
             ]
            ],
            "type": "histogram2dcontour"
           }
          ],
          "mesh3d": [
           {
            "colorbar": {
             "outlinewidth": 0,
             "ticks": ""
            },
            "type": "mesh3d"
           }
          ],
          "parcoords": [
           {
            "line": {
             "colorbar": {
              "outlinewidth": 0,
              "ticks": ""
             }
            },
            "type": "parcoords"
           }
          ],
          "pie": [
           {
            "automargin": true,
            "type": "pie"
           }
          ],
          "scatter": [
           {
            "marker": {
             "colorbar": {
              "outlinewidth": 0,
              "ticks": ""
             }
            },
            "type": "scatter"
           }
          ],
          "scatter3d": [
           {
            "line": {
             "colorbar": {
              "outlinewidth": 0,
              "ticks": ""
             }
            },
            "marker": {
             "colorbar": {
              "outlinewidth": 0,
              "ticks": ""
             }
            },
            "type": "scatter3d"
           }
          ],
          "scattercarpet": [
           {
            "marker": {
             "colorbar": {
              "outlinewidth": 0,
              "ticks": ""
             }
            },
            "type": "scattercarpet"
           }
          ],
          "scattergeo": [
           {
            "marker": {
             "colorbar": {
              "outlinewidth": 0,
              "ticks": ""
             }
            },
            "type": "scattergeo"
           }
          ],
          "scattergl": [
           {
            "marker": {
             "colorbar": {
              "outlinewidth": 0,
              "ticks": ""
             }
            },
            "type": "scattergl"
           }
          ],
          "scattermapbox": [
           {
            "marker": {
             "colorbar": {
              "outlinewidth": 0,
              "ticks": ""
             }
            },
            "type": "scattermapbox"
           }
          ],
          "scatterpolar": [
           {
            "marker": {
             "colorbar": {
              "outlinewidth": 0,
              "ticks": ""
             }
            },
            "type": "scatterpolar"
           }
          ],
          "scatterpolargl": [
           {
            "marker": {
             "colorbar": {
              "outlinewidth": 0,
              "ticks": ""
             }
            },
            "type": "scatterpolargl"
           }
          ],
          "scatterternary": [
           {
            "marker": {
             "colorbar": {
              "outlinewidth": 0,
              "ticks": ""
             }
            },
            "type": "scatterternary"
           }
          ],
          "surface": [
           {
            "colorbar": {
             "outlinewidth": 0,
             "ticks": ""
            },
            "colorscale": [
             [
              0,
              "#0d0887"
             ],
             [
              0.1111111111111111,
              "#46039f"
             ],
             [
              0.2222222222222222,
              "#7201a8"
             ],
             [
              0.3333333333333333,
              "#9c179e"
             ],
             [
              0.4444444444444444,
              "#bd3786"
             ],
             [
              0.5555555555555556,
              "#d8576b"
             ],
             [
              0.6666666666666666,
              "#ed7953"
             ],
             [
              0.7777777777777778,
              "#fb9f3a"
             ],
             [
              0.8888888888888888,
              "#fdca26"
             ],
             [
              1,
              "#f0f921"
             ]
            ],
            "type": "surface"
           }
          ],
          "table": [
           {
            "cells": {
             "fill": {
              "color": "#EBF0F8"
             },
             "line": {
              "color": "white"
             }
            },
            "header": {
             "fill": {
              "color": "#C8D4E3"
             },
             "line": {
              "color": "white"
             }
            },
            "type": "table"
           }
          ]
         },
         "layout": {
          "annotationdefaults": {
           "arrowcolor": "#2a3f5f",
           "arrowhead": 0,
           "arrowwidth": 1
          },
          "coloraxis": {
           "colorbar": {
            "outlinewidth": 0,
            "ticks": ""
           }
          },
          "colorscale": {
           "diverging": [
            [
             0,
             "#8e0152"
            ],
            [
             0.1,
             "#c51b7d"
            ],
            [
             0.2,
             "#de77ae"
            ],
            [
             0.3,
             "#f1b6da"
            ],
            [
             0.4,
             "#fde0ef"
            ],
            [
             0.5,
             "#f7f7f7"
            ],
            [
             0.6,
             "#e6f5d0"
            ],
            [
             0.7,
             "#b8e186"
            ],
            [
             0.8,
             "#7fbc41"
            ],
            [
             0.9,
             "#4d9221"
            ],
            [
             1,
             "#276419"
            ]
           ],
           "sequential": [
            [
             0,
             "#0d0887"
            ],
            [
             0.1111111111111111,
             "#46039f"
            ],
            [
             0.2222222222222222,
             "#7201a8"
            ],
            [
             0.3333333333333333,
             "#9c179e"
            ],
            [
             0.4444444444444444,
             "#bd3786"
            ],
            [
             0.5555555555555556,
             "#d8576b"
            ],
            [
             0.6666666666666666,
             "#ed7953"
            ],
            [
             0.7777777777777778,
             "#fb9f3a"
            ],
            [
             0.8888888888888888,
             "#fdca26"
            ],
            [
             1,
             "#f0f921"
            ]
           ],
           "sequentialminus": [
            [
             0,
             "#0d0887"
            ],
            [
             0.1111111111111111,
             "#46039f"
            ],
            [
             0.2222222222222222,
             "#7201a8"
            ],
            [
             0.3333333333333333,
             "#9c179e"
            ],
            [
             0.4444444444444444,
             "#bd3786"
            ],
            [
             0.5555555555555556,
             "#d8576b"
            ],
            [
             0.6666666666666666,
             "#ed7953"
            ],
            [
             0.7777777777777778,
             "#fb9f3a"
            ],
            [
             0.8888888888888888,
             "#fdca26"
            ],
            [
             1,
             "#f0f921"
            ]
           ]
          },
          "colorway": [
           "#636efa",
           "#EF553B",
           "#00cc96",
           "#ab63fa",
           "#FFA15A",
           "#19d3f3",
           "#FF6692",
           "#B6E880",
           "#FF97FF",
           "#FECB52"
          ],
          "font": {
           "color": "#2a3f5f"
          },
          "geo": {
           "bgcolor": "white",
           "lakecolor": "white",
           "landcolor": "#E5ECF6",
           "showlakes": true,
           "showland": true,
           "subunitcolor": "white"
          },
          "hoverlabel": {
           "align": "left"
          },
          "hovermode": "closest",
          "mapbox": {
           "style": "light"
          },
          "paper_bgcolor": "white",
          "plot_bgcolor": "#E5ECF6",
          "polar": {
           "angularaxis": {
            "gridcolor": "white",
            "linecolor": "white",
            "ticks": ""
           },
           "bgcolor": "#E5ECF6",
           "radialaxis": {
            "gridcolor": "white",
            "linecolor": "white",
            "ticks": ""
           }
          },
          "scene": {
           "xaxis": {
            "backgroundcolor": "#E5ECF6",
            "gridcolor": "white",
            "gridwidth": 2,
            "linecolor": "white",
            "showbackground": true,
            "ticks": "",
            "zerolinecolor": "white"
           },
           "yaxis": {
            "backgroundcolor": "#E5ECF6",
            "gridcolor": "white",
            "gridwidth": 2,
            "linecolor": "white",
            "showbackground": true,
            "ticks": "",
            "zerolinecolor": "white"
           },
           "zaxis": {
            "backgroundcolor": "#E5ECF6",
            "gridcolor": "white",
            "gridwidth": 2,
            "linecolor": "white",
            "showbackground": true,
            "ticks": "",
            "zerolinecolor": "white"
           }
          },
          "shapedefaults": {
           "line": {
            "color": "#2a3f5f"
           }
          },
          "ternary": {
           "aaxis": {
            "gridcolor": "white",
            "linecolor": "white",
            "ticks": ""
           },
           "baxis": {
            "gridcolor": "white",
            "linecolor": "white",
            "ticks": ""
           },
           "bgcolor": "#E5ECF6",
           "caxis": {
            "gridcolor": "white",
            "linecolor": "white",
            "ticks": ""
           }
          },
          "title": {
           "x": 0.05
          },
          "xaxis": {
           "automargin": true,
           "gridcolor": "white",
           "linecolor": "white",
           "ticks": "",
           "title": {
            "standoff": 15
           },
           "zerolinecolor": "white",
           "zerolinewidth": 2
          },
          "yaxis": {
           "automargin": true,
           "gridcolor": "white",
           "linecolor": "white",
           "ticks": "",
           "title": {
            "standoff": 15
           },
           "zerolinecolor": "white",
           "zerolinewidth": 2
          }
         }
        }
       }
      },
      "text/html": [
       "<div>\n",
       "        \n",
       "        \n",
       "            <div id=\"eb003cb1-f02d-4aa4-9074-93adaf2965a8\" class=\"plotly-graph-div\" style=\"height:525px; width:100%;\"></div>\n",
       "            <script type=\"text/javascript\">\n",
       "                require([\"plotly\"], function(Plotly) {\n",
       "                    window.PLOTLYENV=window.PLOTLYENV || {};\n",
       "                    \n",
       "                if (document.getElementById(\"eb003cb1-f02d-4aa4-9074-93adaf2965a8\")) {\n",
       "                    Plotly.newPlot(\n",
       "                        'eb003cb1-f02d-4aa4-9074-93adaf2965a8',\n",
       "                        [{\"mode\": \"lines\", \"name\": \"ratios\", \"type\": \"scatter\", \"x\": [\"2016-01-01T00:00:00\", \"2016-01-04T00:00:00\", \"2016-01-05T00:00:00\", \"2016-01-06T00:00:00\", \"2016-01-07T00:00:00\", \"2016-01-08T00:00:00\", \"2016-01-11T00:00:00\", \"2016-01-12T00:00:00\", \"2016-01-13T00:00:00\", \"2016-01-14T00:00:00\", \"2016-01-15T00:00:00\", \"2016-01-18T00:00:00\", \"2016-01-19T00:00:00\", \"2016-01-20T00:00:00\", \"2016-01-21T00:00:00\", \"2016-01-22T00:00:00\", \"2016-01-25T00:00:00\", \"2016-01-26T00:00:00\", \"2016-01-27T00:00:00\", \"2016-01-28T00:00:00\", \"2016-01-29T00:00:00\", \"2016-02-01T00:00:00\", \"2016-02-02T00:00:00\", \"2016-02-03T00:00:00\", \"2016-02-04T00:00:00\", \"2016-02-05T00:00:00\", \"2016-02-08T00:00:00\", \"2016-02-09T00:00:00\", \"2016-02-10T00:00:00\", \"2016-02-11T00:00:00\", \"2016-02-12T00:00:00\", \"2016-02-15T00:00:00\", \"2016-02-16T00:00:00\", \"2016-02-17T00:00:00\", \"2016-02-18T00:00:00\", \"2016-02-19T00:00:00\", \"2016-02-22T00:00:00\", \"2016-02-23T00:00:00\", \"2016-02-24T00:00:00\", \"2016-02-25T00:00:00\", \"2016-02-26T00:00:00\", \"2016-02-29T00:00:00\", \"2016-03-01T00:00:00\", \"2016-03-02T00:00:00\", \"2016-03-03T00:00:00\", \"2016-03-04T00:00:00\", \"2016-03-07T00:00:00\", \"2016-03-08T00:00:00\", \"2016-03-09T00:00:00\", \"2016-03-10T00:00:00\", \"2016-03-11T00:00:00\", \"2016-03-14T00:00:00\", \"2016-03-15T00:00:00\", \"2016-03-16T00:00:00\", \"2016-03-17T00:00:00\", \"2016-03-18T00:00:00\", \"2016-03-21T00:00:00\", \"2016-03-22T00:00:00\", \"2016-03-23T00:00:00\", \"2016-03-24T00:00:00\", \"2016-03-25T00:00:00\", \"2016-03-28T00:00:00\", \"2016-03-29T00:00:00\", \"2016-03-30T00:00:00\", \"2016-03-31T00:00:00\", \"2016-04-01T00:00:00\", \"2016-04-04T00:00:00\", \"2016-04-05T00:00:00\", \"2016-04-06T00:00:00\", \"2016-04-07T00:00:00\", \"2016-04-08T00:00:00\", \"2016-04-11T00:00:00\", \"2016-04-12T00:00:00\", \"2016-04-13T00:00:00\", \"2016-04-14T00:00:00\", \"2016-04-15T00:00:00\", \"2016-04-18T00:00:00\", \"2016-04-19T00:00:00\", \"2016-04-20T00:00:00\", \"2016-04-21T00:00:00\", \"2016-04-22T00:00:00\", \"2016-04-25T00:00:00\", \"2016-04-26T00:00:00\", \"2016-04-27T00:00:00\", \"2016-04-28T00:00:00\", \"2016-04-29T00:00:00\", \"2016-05-02T00:00:00\", \"2016-05-03T00:00:00\", \"2016-05-04T00:00:00\", \"2016-05-05T00:00:00\", \"2016-05-06T00:00:00\", \"2016-05-09T00:00:00\", \"2016-05-10T00:00:00\", \"2016-05-11T00:00:00\", \"2016-05-12T00:00:00\", \"2016-05-13T00:00:00\", \"2016-05-16T00:00:00\", \"2016-05-17T00:00:00\", \"2016-05-18T00:00:00\", \"2016-05-19T00:00:00\", \"2016-05-20T00:00:00\", \"2016-05-23T00:00:00\", \"2016-05-24T00:00:00\", \"2016-05-25T00:00:00\", \"2016-05-26T00:00:00\", \"2016-05-27T00:00:00\", \"2016-05-30T00:00:00\", \"2016-05-31T00:00:00\", \"2016-06-01T00:00:00\", \"2016-06-02T00:00:00\", \"2016-06-03T00:00:00\", \"2016-06-06T00:00:00\", \"2016-06-07T00:00:00\", \"2016-06-08T00:00:00\", \"2016-06-09T00:00:00\", \"2016-06-10T00:00:00\", \"2016-06-13T00:00:00\", \"2016-06-14T00:00:00\", \"2016-06-15T00:00:00\", \"2016-06-16T00:00:00\", \"2016-06-17T00:00:00\", \"2016-06-20T00:00:00\", \"2016-06-21T00:00:00\", \"2016-06-22T00:00:00\", \"2016-06-23T00:00:00\", \"2016-06-24T00:00:00\", \"2016-06-27T00:00:00\", \"2016-06-28T00:00:00\", \"2016-06-29T00:00:00\", \"2016-06-30T00:00:00\", \"2016-07-01T00:00:00\", \"2016-07-04T00:00:00\", \"2016-07-05T00:00:00\", \"2016-07-06T00:00:00\", \"2016-07-07T00:00:00\", \"2016-07-08T00:00:00\", \"2016-07-11T00:00:00\", \"2016-07-12T00:00:00\", \"2016-07-13T00:00:00\", \"2016-07-14T00:00:00\", \"2016-07-15T00:00:00\", \"2016-07-18T00:00:00\", \"2016-07-19T00:00:00\", \"2016-07-20T00:00:00\", \"2016-07-21T00:00:00\", \"2016-07-22T00:00:00\", \"2016-07-25T00:00:00\", \"2016-07-26T00:00:00\", \"2016-07-27T00:00:00\", \"2016-07-28T00:00:00\", \"2016-07-29T00:00:00\", \"2016-08-01T00:00:00\", \"2016-08-02T00:00:00\", \"2016-08-03T00:00:00\", \"2016-08-04T00:00:00\", \"2016-08-05T00:00:00\", \"2016-08-08T00:00:00\", \"2016-08-09T00:00:00\", \"2016-08-10T00:00:00\", \"2016-08-11T00:00:00\", \"2016-08-12T00:00:00\", \"2016-08-15T00:00:00\", \"2016-08-16T00:00:00\", \"2016-08-17T00:00:00\", \"2016-08-18T00:00:00\", \"2016-08-19T00:00:00\", \"2016-08-22T00:00:00\", \"2016-08-23T00:00:00\", \"2016-08-24T00:00:00\", \"2016-08-25T00:00:00\", \"2016-08-26T00:00:00\", \"2016-08-29T00:00:00\", \"2016-08-30T00:00:00\", \"2016-08-31T00:00:00\", \"2016-09-01T00:00:00\", \"2016-09-02T00:00:00\", \"2016-09-05T00:00:00\", \"2016-09-06T00:00:00\", \"2016-09-07T00:00:00\", \"2016-09-08T00:00:00\", \"2016-09-09T00:00:00\", \"2016-09-12T00:00:00\", \"2016-09-13T00:00:00\", \"2016-09-14T00:00:00\", \"2016-09-15T00:00:00\", \"2016-09-16T00:00:00\", \"2016-09-19T00:00:00\", \"2016-09-20T00:00:00\", \"2016-09-21T00:00:00\", \"2016-09-22T00:00:00\", \"2016-09-23T00:00:00\", \"2016-09-26T00:00:00\", \"2016-09-27T00:00:00\", \"2016-09-28T00:00:00\", \"2016-09-29T00:00:00\", \"2016-09-30T00:00:00\", \"2016-10-03T00:00:00\", \"2016-10-04T00:00:00\", \"2016-10-05T00:00:00\", \"2016-10-06T00:00:00\", \"2016-10-07T00:00:00\", \"2016-10-10T00:00:00\", \"2016-10-11T00:00:00\", \"2016-10-12T00:00:00\", \"2016-10-13T00:00:00\", \"2016-10-14T00:00:00\", \"2016-10-17T00:00:00\", \"2016-10-18T00:00:00\", \"2016-10-19T00:00:00\", \"2016-10-20T00:00:00\", \"2016-10-21T00:00:00\", \"2016-10-24T00:00:00\", \"2016-10-25T00:00:00\", \"2016-10-26T00:00:00\", \"2016-10-27T00:00:00\", \"2016-10-28T00:00:00\", \"2016-10-31T00:00:00\", \"2016-11-01T00:00:00\", \"2016-11-02T00:00:00\", \"2016-11-03T00:00:00\", \"2016-11-04T00:00:00\", \"2016-11-07T00:00:00\", \"2016-11-08T00:00:00\", \"2016-11-09T00:00:00\", \"2016-11-10T00:00:00\", \"2016-11-11T00:00:00\", \"2016-11-14T00:00:00\", \"2016-11-15T00:00:00\", \"2016-11-16T00:00:00\", \"2016-11-17T00:00:00\", \"2016-11-18T00:00:00\", \"2016-11-21T00:00:00\", \"2016-11-22T00:00:00\", \"2016-11-23T00:00:00\", \"2016-11-24T00:00:00\", \"2016-11-25T00:00:00\", \"2016-11-28T00:00:00\", \"2016-11-29T00:00:00\", \"2016-11-30T00:00:00\", \"2016-12-01T00:00:00\", \"2016-12-02T00:00:00\", \"2016-12-05T00:00:00\", \"2016-12-06T00:00:00\", \"2016-12-07T00:00:00\", \"2016-12-08T00:00:00\", \"2016-12-09T00:00:00\", \"2016-12-12T00:00:00\", \"2016-12-13T00:00:00\", \"2016-12-14T00:00:00\", \"2016-12-15T00:00:00\", \"2016-12-16T00:00:00\", \"2016-12-19T00:00:00\", \"2016-12-20T00:00:00\", \"2016-12-21T00:00:00\", \"2016-12-22T00:00:00\", \"2016-12-23T00:00:00\", \"2016-12-26T00:00:00\", \"2016-12-27T00:00:00\", \"2016-12-28T00:00:00\", \"2016-12-29T00:00:00\", \"2016-12-30T00:00:00\", \"2017-01-02T00:00:00\", \"2017-01-03T00:00:00\", \"2017-01-04T00:00:00\", \"2017-01-05T00:00:00\", \"2017-01-06T00:00:00\", \"2017-01-09T00:00:00\", \"2017-01-10T00:00:00\", \"2017-01-11T00:00:00\", \"2017-01-12T00:00:00\", \"2017-01-13T00:00:00\", \"2017-01-16T00:00:00\", \"2017-01-17T00:00:00\", \"2017-01-18T00:00:00\", \"2017-01-19T00:00:00\", \"2017-01-20T00:00:00\", \"2017-01-23T00:00:00\", \"2017-01-24T00:00:00\", \"2017-01-25T00:00:00\", \"2017-01-26T00:00:00\", \"2017-01-27T00:00:00\", \"2017-01-30T00:00:00\", \"2017-01-31T00:00:00\", \"2017-02-01T00:00:00\", \"2017-02-02T00:00:00\", \"2017-02-03T00:00:00\", \"2017-02-06T00:00:00\", \"2017-02-07T00:00:00\", \"2017-02-08T00:00:00\", \"2017-02-09T00:00:00\", \"2017-02-10T00:00:00\", \"2017-02-13T00:00:00\", \"2017-02-14T00:00:00\", \"2017-02-15T00:00:00\", \"2017-02-16T00:00:00\", \"2017-02-17T00:00:00\", \"2017-02-20T00:00:00\", \"2017-02-21T00:00:00\", \"2017-02-22T00:00:00\", \"2017-02-23T00:00:00\", \"2017-02-24T00:00:00\", \"2017-02-27T00:00:00\", \"2017-02-28T00:00:00\", \"2017-03-01T00:00:00\", \"2017-03-02T00:00:00\", \"2017-03-03T00:00:00\", \"2017-03-06T00:00:00\", \"2017-03-07T00:00:00\", \"2017-03-08T00:00:00\", \"2017-03-09T00:00:00\", \"2017-03-10T00:00:00\", \"2017-03-13T00:00:00\", \"2017-03-14T00:00:00\", \"2017-03-15T00:00:00\", \"2017-03-16T00:00:00\", \"2017-03-17T00:00:00\", \"2017-03-20T00:00:00\", \"2017-03-21T00:00:00\", \"2017-03-22T00:00:00\", \"2017-03-23T00:00:00\", \"2017-03-24T00:00:00\", \"2017-03-27T00:00:00\", \"2017-03-28T00:00:00\", \"2017-03-29T00:00:00\", \"2017-03-30T00:00:00\", \"2017-03-31T00:00:00\", \"2017-04-03T00:00:00\", \"2017-04-04T00:00:00\", \"2017-04-05T00:00:00\", \"2017-04-06T00:00:00\", \"2017-04-07T00:00:00\", \"2017-04-10T00:00:00\", \"2017-04-11T00:00:00\", \"2017-04-12T00:00:00\", \"2017-04-13T00:00:00\", \"2017-04-14T00:00:00\", \"2017-04-17T00:00:00\", \"2017-04-18T00:00:00\", \"2017-04-19T00:00:00\", \"2017-04-20T00:00:00\", \"2017-04-21T00:00:00\", \"2017-04-24T00:00:00\", \"2017-04-25T00:00:00\", \"2017-04-26T00:00:00\", \"2017-04-27T00:00:00\", \"2017-04-28T00:00:00\", \"2017-05-01T00:00:00\", \"2017-05-02T00:00:00\", \"2017-05-03T00:00:00\", \"2017-05-04T00:00:00\", \"2017-05-05T00:00:00\", \"2017-05-08T00:00:00\", \"2017-05-09T00:00:00\", \"2017-05-10T00:00:00\", \"2017-05-11T00:00:00\", \"2017-05-12T00:00:00\", \"2017-05-15T00:00:00\", \"2017-05-16T00:00:00\", \"2017-05-17T00:00:00\", \"2017-05-18T00:00:00\", \"2017-05-19T00:00:00\", \"2017-05-22T00:00:00\", \"2017-05-23T00:00:00\", \"2017-05-24T00:00:00\", \"2017-05-25T00:00:00\", \"2017-05-26T00:00:00\", \"2017-05-29T00:00:00\", \"2017-05-30T00:00:00\", \"2017-05-31T00:00:00\", \"2017-06-01T00:00:00\", \"2017-06-02T00:00:00\", \"2017-06-05T00:00:00\", \"2017-06-06T00:00:00\", \"2017-06-07T00:00:00\", \"2017-06-08T00:00:00\", \"2017-06-09T00:00:00\", \"2017-06-12T00:00:00\", \"2017-06-13T00:00:00\", \"2017-06-14T00:00:00\", \"2017-06-15T00:00:00\", \"2017-06-16T00:00:00\", \"2017-06-19T00:00:00\", \"2017-06-20T00:00:00\", \"2017-06-21T00:00:00\", \"2017-06-22T00:00:00\", \"2017-06-23T00:00:00\", \"2017-06-26T00:00:00\", \"2017-06-27T00:00:00\", \"2017-06-28T00:00:00\", \"2017-06-29T00:00:00\", \"2017-06-30T00:00:00\", \"2017-07-03T00:00:00\", \"2017-07-04T00:00:00\", \"2017-07-05T00:00:00\", \"2017-07-06T00:00:00\", \"2017-07-07T00:00:00\", \"2017-07-10T00:00:00\", \"2017-07-11T00:00:00\", \"2017-07-12T00:00:00\", \"2017-07-13T00:00:00\", \"2017-07-14T00:00:00\", \"2017-07-17T00:00:00\", \"2017-07-18T00:00:00\", \"2017-07-19T00:00:00\", \"2017-07-20T00:00:00\", \"2017-07-21T00:00:00\", \"2017-07-24T00:00:00\", \"2017-07-25T00:00:00\", \"2017-07-26T00:00:00\", \"2017-07-27T00:00:00\", \"2017-07-28T00:00:00\", \"2017-07-31T00:00:00\", \"2017-08-01T00:00:00\", \"2017-08-02T00:00:00\", \"2017-08-03T00:00:00\", \"2017-08-04T00:00:00\", \"2017-08-07T00:00:00\", \"2017-08-08T00:00:00\", \"2017-08-09T00:00:00\", \"2017-08-10T00:00:00\", \"2017-08-11T00:00:00\", \"2017-08-14T00:00:00\", \"2017-08-15T00:00:00\", \"2017-08-16T00:00:00\", \"2017-08-17T00:00:00\", \"2017-08-18T00:00:00\", \"2017-08-21T00:00:00\", \"2017-08-22T00:00:00\", \"2017-08-23T00:00:00\", \"2017-08-24T00:00:00\", \"2017-08-25T00:00:00\", \"2017-08-28T00:00:00\", \"2017-08-29T00:00:00\", \"2017-08-30T00:00:00\", \"2017-08-31T00:00:00\", \"2017-09-01T00:00:00\", \"2017-09-04T00:00:00\", \"2017-09-05T00:00:00\", \"2017-09-06T00:00:00\", \"2017-09-07T00:00:00\", \"2017-09-08T00:00:00\", \"2017-09-11T00:00:00\", \"2017-09-12T00:00:00\", \"2017-09-13T00:00:00\", \"2017-09-14T00:00:00\", \"2017-09-15T00:00:00\", \"2017-09-18T00:00:00\", \"2017-09-19T00:00:00\", \"2017-09-20T00:00:00\", \"2017-09-21T00:00:00\", \"2017-09-22T00:00:00\", \"2017-09-25T00:00:00\", \"2017-09-26T00:00:00\", \"2017-09-27T00:00:00\", \"2017-09-28T00:00:00\", \"2017-09-29T00:00:00\", \"2017-10-02T00:00:00\", \"2017-10-03T00:00:00\", \"2017-10-04T00:00:00\", \"2017-10-05T00:00:00\", \"2017-10-06T00:00:00\", \"2017-10-09T00:00:00\", \"2017-10-10T00:00:00\", \"2017-10-11T00:00:00\", \"2017-10-12T00:00:00\", \"2017-10-13T00:00:00\", \"2017-10-16T00:00:00\", \"2017-10-17T00:00:00\", \"2017-10-18T00:00:00\", \"2017-10-19T00:00:00\", \"2017-10-20T00:00:00\", \"2017-10-23T00:00:00\", \"2017-10-24T00:00:00\", \"2017-10-25T00:00:00\", \"2017-10-26T00:00:00\", \"2017-10-27T00:00:00\", \"2017-10-30T00:00:00\", \"2017-10-31T00:00:00\", \"2017-11-01T00:00:00\", \"2017-11-02T00:00:00\", \"2017-11-03T00:00:00\", \"2017-11-06T00:00:00\", \"2017-11-07T00:00:00\", \"2017-11-08T00:00:00\", \"2017-11-09T00:00:00\", \"2017-11-10T00:00:00\", \"2017-11-13T00:00:00\", \"2017-11-14T00:00:00\", \"2017-11-15T00:00:00\", \"2017-11-16T00:00:00\", \"2017-11-17T00:00:00\", \"2017-11-20T00:00:00\", \"2017-11-21T00:00:00\", \"2017-11-22T00:00:00\", \"2017-11-23T00:00:00\", \"2017-11-24T00:00:00\", \"2017-11-27T00:00:00\", \"2017-11-28T00:00:00\", \"2017-11-29T00:00:00\", \"2017-11-30T00:00:00\", \"2017-12-01T00:00:00\", \"2017-12-04T00:00:00\", \"2017-12-05T00:00:00\", \"2017-12-06T00:00:00\", \"2017-12-07T00:00:00\", \"2017-12-08T00:00:00\", \"2017-12-11T00:00:00\", \"2017-12-12T00:00:00\", \"2017-12-13T00:00:00\", \"2017-12-14T00:00:00\", \"2017-12-15T00:00:00\", \"2017-12-18T00:00:00\", \"2017-12-19T00:00:00\", \"2017-12-20T00:00:00\", \"2017-12-21T00:00:00\", \"2017-12-22T00:00:00\", \"2017-12-25T00:00:00\", \"2017-12-26T00:00:00\", \"2017-12-27T00:00:00\", \"2017-12-28T00:00:00\", \"2017-12-29T00:00:00\", \"2018-01-01T00:00:00\", \"2018-01-02T00:00:00\", \"2018-01-03T00:00:00\", \"2018-01-04T00:00:00\", \"2018-01-05T00:00:00\", \"2018-01-08T00:00:00\", \"2018-01-09T00:00:00\", \"2018-01-10T00:00:00\", \"2018-01-11T00:00:00\", \"2018-01-12T00:00:00\", \"2018-01-15T00:00:00\", \"2018-01-16T00:00:00\", \"2018-01-17T00:00:00\", \"2018-01-18T00:00:00\", \"2018-01-19T00:00:00\", \"2018-01-22T00:00:00\", \"2018-01-23T00:00:00\", \"2018-01-24T00:00:00\", \"2018-01-25T00:00:00\", \"2018-01-26T00:00:00\", \"2018-01-29T00:00:00\", \"2018-01-30T00:00:00\", \"2018-01-31T00:00:00\", \"2018-02-01T00:00:00\", \"2018-02-02T00:00:00\", \"2018-02-05T00:00:00\", \"2018-02-06T00:00:00\", \"2018-02-07T00:00:00\", \"2018-02-08T00:00:00\", \"2018-02-09T00:00:00\", \"2018-02-12T00:00:00\", \"2018-02-13T00:00:00\", \"2018-02-14T00:00:00\", \"2018-02-15T00:00:00\", \"2018-02-16T00:00:00\", \"2018-02-19T00:00:00\", \"2018-02-20T00:00:00\", \"2018-02-21T00:00:00\", \"2018-02-22T00:00:00\", \"2018-02-23T00:00:00\", \"2018-02-26T00:00:00\", \"2018-02-27T00:00:00\", \"2018-02-28T00:00:00\", \"2018-03-01T00:00:00\", \"2018-03-02T00:00:00\", \"2018-03-05T00:00:00\", \"2018-03-06T00:00:00\", \"2018-03-07T00:00:00\", \"2018-03-08T00:00:00\", \"2018-03-09T00:00:00\", \"2018-03-12T00:00:00\", \"2018-03-13T00:00:00\", \"2018-03-14T00:00:00\", \"2018-03-15T00:00:00\", \"2018-03-16T00:00:00\", \"2018-03-19T00:00:00\", \"2018-03-20T00:00:00\", \"2018-03-21T00:00:00\", \"2018-03-22T00:00:00\", \"2018-03-23T00:00:00\", \"2018-03-26T00:00:00\", \"2018-03-27T00:00:00\", \"2018-03-28T00:00:00\", \"2018-03-29T00:00:00\", \"2018-03-30T00:00:00\", \"2018-04-02T00:00:00\", \"2018-04-03T00:00:00\", \"2018-04-04T00:00:00\", \"2018-04-05T00:00:00\", \"2018-04-06T00:00:00\", \"2018-04-09T00:00:00\", \"2018-04-10T00:00:00\", \"2018-04-11T00:00:00\", \"2018-04-12T00:00:00\", \"2018-04-13T00:00:00\", \"2018-04-16T00:00:00\", \"2018-04-17T00:00:00\", \"2018-04-18T00:00:00\", \"2018-04-19T00:00:00\", \"2018-04-20T00:00:00\", \"2018-04-23T00:00:00\", \"2018-04-24T00:00:00\", \"2018-04-25T00:00:00\", \"2018-04-26T00:00:00\", \"2018-04-27T00:00:00\", \"2018-04-30T00:00:00\", \"2018-05-01T00:00:00\", \"2018-05-02T00:00:00\", \"2018-05-03T00:00:00\", \"2018-05-04T00:00:00\", \"2018-05-07T00:00:00\", \"2018-05-08T00:00:00\", \"2018-05-09T00:00:00\", \"2018-05-10T00:00:00\", \"2018-05-11T00:00:00\", \"2018-05-14T00:00:00\", \"2018-05-15T00:00:00\", \"2018-05-16T00:00:00\", \"2018-05-17T00:00:00\", \"2018-05-18T00:00:00\", \"2018-05-21T00:00:00\", \"2018-05-22T00:00:00\", \"2018-05-23T00:00:00\", \"2018-05-24T00:00:00\", \"2018-05-25T00:00:00\", \"2018-05-28T00:00:00\", \"2018-05-29T00:00:00\", \"2018-05-30T00:00:00\", \"2018-05-31T00:00:00\", \"2018-06-01T00:00:00\", \"2018-06-04T00:00:00\", \"2018-06-05T00:00:00\", \"2018-06-06T00:00:00\", \"2018-06-07T00:00:00\", \"2018-06-08T00:00:00\", \"2018-06-11T00:00:00\", \"2018-06-12T00:00:00\", \"2018-06-13T00:00:00\", \"2018-06-14T00:00:00\", \"2018-06-15T00:00:00\", \"2018-06-18T00:00:00\", \"2018-06-19T00:00:00\", \"2018-06-20T00:00:00\", \"2018-06-21T00:00:00\", \"2018-06-22T00:00:00\", \"2018-06-25T00:00:00\", \"2018-06-26T00:00:00\", \"2018-06-27T00:00:00\", \"2018-06-28T00:00:00\", \"2018-06-29T00:00:00\", \"2018-07-02T00:00:00\", \"2018-07-03T00:00:00\", \"2018-07-04T00:00:00\", \"2018-07-05T00:00:00\", \"2018-07-06T00:00:00\", \"2018-07-09T00:00:00\", \"2018-07-10T00:00:00\", \"2018-07-11T00:00:00\", \"2018-07-12T00:00:00\", \"2018-07-13T00:00:00\", \"2018-07-16T00:00:00\", \"2018-07-17T00:00:00\", \"2018-07-18T00:00:00\", \"2018-07-19T00:00:00\", \"2018-07-20T00:00:00\", \"2018-07-23T00:00:00\", \"2018-07-24T00:00:00\", \"2018-07-25T00:00:00\", \"2018-07-26T00:00:00\", \"2018-07-27T00:00:00\", \"2018-07-30T00:00:00\", \"2018-07-31T00:00:00\", \"2018-08-01T00:00:00\", \"2018-08-02T00:00:00\", \"2018-08-03T00:00:00\", \"2018-08-06T00:00:00\", \"2018-08-07T00:00:00\", \"2018-08-08T00:00:00\", \"2018-08-09T00:00:00\", \"2018-08-10T00:00:00\", \"2018-08-13T00:00:00\", \"2018-08-14T00:00:00\", \"2018-08-15T00:00:00\", \"2018-08-16T00:00:00\", \"2018-08-17T00:00:00\", \"2018-08-20T00:00:00\", \"2018-08-21T00:00:00\", \"2018-08-22T00:00:00\", \"2018-08-23T00:00:00\", \"2018-08-24T00:00:00\", \"2018-08-27T00:00:00\", \"2018-08-28T00:00:00\", \"2018-08-29T00:00:00\", \"2018-08-30T00:00:00\", \"2018-08-31T00:00:00\", \"2018-09-03T00:00:00\", \"2018-09-04T00:00:00\", \"2018-09-05T00:00:00\", \"2018-09-06T00:00:00\", \"2018-09-07T00:00:00\", \"2018-09-10T00:00:00\", \"2018-09-11T00:00:00\", \"2018-09-12T00:00:00\", \"2018-09-13T00:00:00\", \"2018-09-14T00:00:00\", \"2018-09-17T00:00:00\", \"2018-09-18T00:00:00\", \"2018-09-19T00:00:00\", \"2018-09-20T00:00:00\", \"2018-09-21T00:00:00\", \"2018-09-24T00:00:00\", \"2018-09-25T00:00:00\", \"2018-09-26T00:00:00\", \"2018-09-27T00:00:00\", \"2018-09-28T00:00:00\", \"2018-10-01T00:00:00\", \"2018-10-02T00:00:00\", \"2018-10-03T00:00:00\", \"2018-10-04T00:00:00\", \"2018-10-05T00:00:00\", \"2018-10-08T00:00:00\", \"2018-10-09T00:00:00\", \"2018-10-10T00:00:00\", \"2018-10-11T00:00:00\", \"2018-10-12T00:00:00\", \"2018-10-15T00:00:00\", \"2018-10-16T00:00:00\", \"2018-10-17T00:00:00\", \"2018-10-18T00:00:00\", \"2018-10-19T00:00:00\", \"2018-10-22T00:00:00\", \"2018-10-23T00:00:00\", \"2018-10-24T00:00:00\", \"2018-10-25T00:00:00\", \"2018-10-26T00:00:00\", \"2018-10-29T00:00:00\", \"2018-10-30T00:00:00\", \"2018-10-31T00:00:00\", \"2018-11-01T00:00:00\", \"2018-11-02T00:00:00\", \"2018-11-05T00:00:00\", \"2018-11-06T00:00:00\", \"2018-11-07T00:00:00\", \"2018-11-08T00:00:00\", \"2018-11-09T00:00:00\", \"2018-11-12T00:00:00\", \"2018-11-13T00:00:00\", \"2018-11-14T00:00:00\", \"2018-11-15T00:00:00\", \"2018-11-16T00:00:00\", \"2018-11-19T00:00:00\", \"2018-11-20T00:00:00\", \"2018-11-21T00:00:00\", \"2018-11-22T00:00:00\", \"2018-11-23T00:00:00\", \"2018-11-26T00:00:00\", \"2018-11-27T00:00:00\", \"2018-11-28T00:00:00\", \"2018-11-29T00:00:00\", \"2018-11-30T00:00:00\", \"2018-12-03T00:00:00\", \"2018-12-04T00:00:00\", \"2018-12-05T00:00:00\", \"2018-12-06T00:00:00\", \"2018-12-07T00:00:00\", \"2018-12-10T00:00:00\", \"2018-12-11T00:00:00\", \"2018-12-12T00:00:00\", \"2018-12-13T00:00:00\", \"2018-12-14T00:00:00\", \"2018-12-17T00:00:00\", \"2018-12-18T00:00:00\", \"2018-12-19T00:00:00\", \"2018-12-20T00:00:00\", \"2018-12-21T00:00:00\", \"2018-12-24T00:00:00\", \"2018-12-25T00:00:00\", \"2018-12-26T00:00:00\", \"2018-12-27T00:00:00\", \"2018-12-28T00:00:00\", \"2018-12-31T00:00:00\", \"2019-01-01T00:00:00\", \"2019-01-02T00:00:00\", \"2019-01-03T00:00:00\", \"2019-01-04T00:00:00\", \"2019-01-07T00:00:00\", \"2019-01-08T00:00:00\", \"2019-01-09T00:00:00\", \"2019-01-10T00:00:00\", \"2019-01-11T00:00:00\", \"2019-01-14T00:00:00\", \"2019-01-15T00:00:00\", \"2019-01-16T00:00:00\", \"2019-01-17T00:00:00\", \"2019-01-18T00:00:00\", \"2019-01-21T00:00:00\", \"2019-01-22T00:00:00\", \"2019-01-23T00:00:00\", \"2019-01-24T00:00:00\", \"2019-01-25T00:00:00\", \"2019-01-28T00:00:00\", \"2019-01-29T00:00:00\", \"2019-01-30T00:00:00\", \"2019-01-31T00:00:00\", \"2019-02-01T00:00:00\", \"2019-02-04T00:00:00\", \"2019-02-05T00:00:00\", \"2019-02-06T00:00:00\", \"2019-02-07T00:00:00\", \"2019-02-08T00:00:00\", \"2019-02-11T00:00:00\", \"2019-02-12T00:00:00\", \"2019-02-13T00:00:00\", \"2019-02-14T00:00:00\", \"2019-02-15T00:00:00\", \"2019-02-18T00:00:00\", \"2019-02-19T00:00:00\", \"2019-02-20T00:00:00\", \"2019-02-21T00:00:00\", \"2019-02-22T00:00:00\", \"2019-02-25T00:00:00\", \"2019-02-26T00:00:00\", \"2019-02-27T00:00:00\", \"2019-02-28T00:00:00\", \"2019-03-01T00:00:00\", \"2019-03-04T00:00:00\", \"2019-03-05T00:00:00\", \"2019-03-06T00:00:00\", \"2019-03-07T00:00:00\", \"2019-03-08T00:00:00\", \"2019-03-11T00:00:00\", \"2019-03-12T00:00:00\", \"2019-03-13T00:00:00\", \"2019-03-14T00:00:00\", \"2019-03-15T00:00:00\", \"2019-03-18T00:00:00\", \"2019-03-19T00:00:00\", \"2019-03-20T00:00:00\", \"2019-03-21T00:00:00\", \"2019-03-22T00:00:00\", \"2019-03-25T00:00:00\", \"2019-03-26T00:00:00\", \"2019-03-27T00:00:00\", \"2019-03-28T00:00:00\", \"2019-03-29T00:00:00\", \"2019-04-01T00:00:00\", \"2019-04-02T00:00:00\", \"2019-04-03T00:00:00\", \"2019-04-04T00:00:00\", \"2019-04-05T00:00:00\", \"2019-04-08T00:00:00\", \"2019-04-09T00:00:00\", \"2019-04-10T00:00:00\", \"2019-04-11T00:00:00\", \"2019-04-12T00:00:00\", \"2019-04-15T00:00:00\", \"2019-04-16T00:00:00\", \"2019-04-17T00:00:00\", \"2019-04-18T00:00:00\", \"2019-04-19T00:00:00\", \"2019-04-22T00:00:00\", \"2019-04-23T00:00:00\", \"2019-04-24T00:00:00\", \"2019-04-25T00:00:00\", \"2019-04-26T00:00:00\", \"2019-04-29T00:00:00\", \"2019-04-30T00:00:00\", \"2019-05-01T00:00:00\", \"2019-05-02T00:00:00\", \"2019-05-03T00:00:00\", \"2019-05-06T00:00:00\", \"2019-05-07T00:00:00\", \"2019-05-08T00:00:00\", \"2019-05-09T00:00:00\", \"2019-05-10T00:00:00\", \"2019-05-13T00:00:00\", \"2019-05-14T00:00:00\", \"2019-05-15T00:00:00\", \"2019-05-16T00:00:00\", \"2019-05-17T00:00:00\", \"2019-05-20T00:00:00\", \"2019-05-21T00:00:00\", \"2019-05-22T00:00:00\", \"2019-05-23T00:00:00\", \"2019-05-24T00:00:00\", \"2019-05-27T00:00:00\", \"2019-05-28T00:00:00\", \"2019-05-29T00:00:00\", \"2019-05-30T00:00:00\", \"2019-05-31T00:00:00\", \"2019-06-03T00:00:00\", \"2019-06-04T00:00:00\", \"2019-06-05T00:00:00\", \"2019-06-06T00:00:00\", \"2019-06-07T00:00:00\", \"2019-06-10T00:00:00\", \"2019-06-11T00:00:00\", \"2019-06-12T00:00:00\", \"2019-06-13T00:00:00\", \"2019-06-14T00:00:00\", \"2019-06-17T00:00:00\", \"2019-06-18T00:00:00\", \"2019-06-19T00:00:00\", \"2019-06-20T00:00:00\", \"2019-06-21T00:00:00\", \"2019-06-24T00:00:00\", \"2019-06-25T00:00:00\", \"2019-06-26T00:00:00\", \"2019-06-27T00:00:00\", \"2019-06-28T00:00:00\", \"2019-07-01T00:00:00\", \"2019-07-02T00:00:00\", \"2019-07-03T00:00:00\", \"2019-07-04T00:00:00\", \"2019-07-05T00:00:00\", \"2019-07-08T00:00:00\", \"2019-07-09T00:00:00\", \"2019-07-10T00:00:00\", \"2019-07-11T00:00:00\", \"2019-07-12T00:00:00\", \"2019-07-15T00:00:00\", \"2019-07-16T00:00:00\", \"2019-07-17T00:00:00\", \"2019-07-18T00:00:00\", \"2019-07-19T00:00:00\", \"2019-07-22T00:00:00\", \"2019-07-23T00:00:00\", \"2019-07-24T00:00:00\", \"2019-07-25T00:00:00\", \"2019-07-26T00:00:00\", \"2019-07-29T00:00:00\", \"2019-07-30T00:00:00\", \"2019-07-31T00:00:00\", \"2019-08-01T00:00:00\", \"2019-08-02T00:00:00\", \"2019-08-05T00:00:00\", \"2019-08-06T00:00:00\", \"2019-08-07T00:00:00\", \"2019-08-08T00:00:00\", \"2019-08-09T00:00:00\", \"2019-08-12T00:00:00\", \"2019-08-13T00:00:00\", \"2019-08-14T00:00:00\", \"2019-08-15T00:00:00\", \"2019-08-16T00:00:00\", \"2019-08-19T00:00:00\", \"2019-08-20T00:00:00\", \"2019-08-21T00:00:00\", \"2019-08-22T00:00:00\", \"2019-08-23T00:00:00\", \"2019-08-26T00:00:00\", \"2019-08-27T00:00:00\", \"2019-08-28T00:00:00\", \"2019-08-29T00:00:00\", \"2019-08-30T00:00:00\", \"2019-09-02T00:00:00\", \"2019-09-03T00:00:00\", \"2019-09-04T00:00:00\", \"2019-09-05T00:00:00\", \"2019-09-06T00:00:00\", \"2019-09-09T00:00:00\", \"2019-09-10T00:00:00\", \"2019-09-11T00:00:00\", \"2019-09-12T00:00:00\", \"2019-09-13T00:00:00\", \"2019-09-16T00:00:00\", \"2019-09-17T00:00:00\", \"2019-09-18T00:00:00\", \"2019-09-19T00:00:00\", \"2019-09-20T00:00:00\", \"2019-09-23T00:00:00\", \"2019-09-24T00:00:00\", \"2019-09-25T00:00:00\", \"2019-09-26T00:00:00\", \"2019-09-27T00:00:00\", \"2019-09-30T00:00:00\", \"2019-10-01T00:00:00\", \"2019-10-02T00:00:00\", \"2019-10-03T00:00:00\", \"2019-10-04T00:00:00\", \"2019-10-07T00:00:00\", \"2019-10-08T00:00:00\", \"2019-10-09T00:00:00\", \"2019-10-10T00:00:00\", \"2019-10-11T00:00:00\", \"2019-10-14T00:00:00\", \"2019-10-15T00:00:00\", \"2019-10-16T00:00:00\", \"2019-10-17T00:00:00\", \"2019-10-18T00:00:00\", \"2019-10-21T00:00:00\", \"2019-10-22T00:00:00\", \"2019-10-23T00:00:00\", \"2019-10-24T00:00:00\", \"2019-10-25T00:00:00\", \"2019-10-28T00:00:00\", \"2019-10-29T00:00:00\", \"2019-10-30T00:00:00\", \"2019-10-31T00:00:00\", \"2019-11-01T00:00:00\", \"2019-11-04T00:00:00\", \"2019-11-05T00:00:00\", \"2019-11-06T00:00:00\", \"2019-11-07T00:00:00\", \"2019-11-08T00:00:00\", \"2019-11-11T00:00:00\", \"2019-11-12T00:00:00\", \"2019-11-13T00:00:00\", \"2019-11-14T00:00:00\", \"2019-11-15T00:00:00\", \"2019-11-18T00:00:00\", \"2019-11-19T00:00:00\", \"2019-11-20T00:00:00\", \"2019-11-21T00:00:00\", \"2019-11-22T00:00:00\", \"2019-11-25T00:00:00\", \"2019-11-26T00:00:00\", \"2019-11-27T00:00:00\", \"2019-11-28T00:00:00\", \"2019-11-29T00:00:00\", \"2019-12-02T00:00:00\", \"2019-12-03T00:00:00\", \"2019-12-04T00:00:00\", \"2019-12-05T00:00:00\", \"2019-12-06T00:00:00\", \"2019-12-09T00:00:00\", \"2019-12-10T00:00:00\", \"2019-12-11T00:00:00\", \"2019-12-12T00:00:00\", \"2019-12-13T00:00:00\", \"2019-12-16T00:00:00\", \"2019-12-17T00:00:00\", \"2019-12-18T00:00:00\", \"2019-12-19T00:00:00\", \"2019-12-20T00:00:00\", \"2019-12-22T00:00:00\", \"2019-12-23T00:00:00\", \"2019-12-24T00:00:00\", \"2019-12-26T00:00:00\", \"2019-12-27T00:00:00\", \"2019-12-29T00:00:00\", \"2019-12-30T00:00:00\", \"2019-12-31T00:00:00\", \"2020-01-01T00:00:00\", \"2020-01-02T00:00:00\", \"2020-01-03T00:00:00\", \"2020-01-05T00:00:00\", \"2020-01-06T00:00:00\", \"2020-01-07T00:00:00\", \"2020-01-08T00:00:00\", \"2020-01-09T00:00:00\", \"2020-01-10T00:00:00\", \"2020-01-12T00:00:00\", \"2020-01-13T00:00:00\", \"2020-01-14T00:00:00\", \"2020-01-15T00:00:00\", \"2020-01-16T00:00:00\", \"2020-01-17T00:00:00\", \"2020-01-19T00:00:00\", \"2020-01-20T00:00:00\", \"2020-01-21T00:00:00\", \"2020-01-22T00:00:00\", \"2020-01-23T00:00:00\", \"2020-01-24T00:00:00\", \"2020-01-26T00:00:00\", \"2020-01-27T00:00:00\", \"2020-01-28T00:00:00\", \"2020-01-29T00:00:00\", \"2020-01-30T00:00:00\", \"2020-01-31T00:00:00\", \"2020-02-02T00:00:00\", \"2020-02-03T00:00:00\", \"2020-02-04T00:00:00\", \"2020-02-05T00:00:00\", \"2020-02-06T00:00:00\", \"2020-02-07T00:00:00\", \"2020-02-09T00:00:00\", \"2020-02-10T00:00:00\", \"2020-02-11T00:00:00\", \"2020-02-12T00:00:00\", \"2020-02-13T00:00:00\", \"2020-02-14T00:00:00\", \"2020-02-16T00:00:00\", \"2020-02-17T00:00:00\", \"2020-02-18T00:00:00\", \"2020-02-19T00:00:00\", \"2020-02-20T00:00:00\", \"2020-02-21T00:00:00\", \"2020-02-23T00:00:00\", \"2020-02-24T00:00:00\", \"2020-02-25T00:00:00\", \"2020-02-26T00:00:00\", \"2020-02-27T00:00:00\", \"2020-02-28T00:00:00\", \"2020-03-01T00:00:00\", \"2020-03-02T00:00:00\", \"2020-03-03T00:00:00\", \"2020-03-04T00:00:00\", \"2020-03-05T00:00:00\", \"2020-03-06T00:00:00\", \"2020-03-08T00:00:00\", \"2020-03-09T00:00:00\", \"2020-03-10T00:00:00\", \"2020-03-11T00:00:00\", \"2020-03-12T00:00:00\", \"2020-03-13T00:00:00\", \"2020-03-15T00:00:00\", \"2020-03-16T00:00:00\", \"2020-03-17T00:00:00\", \"2020-03-18T00:00:00\", \"2020-03-19T00:00:00\", \"2020-03-20T00:00:00\", \"2020-03-22T00:00:00\", \"2020-03-23T00:00:00\", \"2020-03-24T00:00:00\", \"2020-03-25T00:00:00\", \"2020-03-26T00:00:00\", \"2020-03-27T00:00:00\", \"2020-03-29T00:00:00\", \"2020-03-30T00:00:00\"], \"y\": [null, null, null, null, null, null, null, null, null, null, null, null, null, null, null, null, null, null, null, null, null, null, null, null, null, null, null, null, null, null, null, null, null, null, null, null, null, null, null, 1.3128659071494013, 1.4577921993186518, 1.4681653942776791, 1.3890467708520962, 1.1160549364171806, 0.8154747872059884, 0.5240167298385084, 0.3185173310050801, 0.1855005022319664, 0.17726259706784647, 0.31743260775192117, 0.3313885958480526, 0.39867955312423403, 0.5721408581509496, 0.7898911145202067, 0.7283962915422286, 0.7688274408274643, 0.8546528257254591, 0.8856323910180757, 0.9045412358821477, 1.0104197392117238, 1.2108574070440812, 1.3157412327687958, 1.2269220727423311, 1.1143756740041908, 1.1143287176550325, 1.2451092607139218, 1.4503007131057062, 1.7091565799116875, 1.8854979451685856, 1.9926321107206575, 1.9418279895720518, 1.8988799091873791, 1.718279122901049, 1.4312452144117382, 1.140296129008726, 0.8738970757505966, 0.680238554954584, 0.5076849450307233, 0.40526799163119565, 0.25390273484270653, -0.013861383701245851, -0.2819535535709413, -0.5377843130271972, -0.7496625595362005, -0.9853292507182806, -0.9572110144422527, -0.8606559749488778, -0.584262558460253, -0.34485361775594775, -0.13347007956671242, -0.03492996520193835, 0.022233247011693002, -0.06946261592621664, -0.12181949154273236, -0.13940935559935208, -0.24386886369840577, -0.3580891821515223, -0.4599561699741796, -0.8618124154437843, -1.166841608383443, -1.3616038519006466, -1.5286905339965287, -1.7338331072225193, -1.6970134343259435, -1.619267126631286, -1.6971189285402302, -1.7766793015116302, -1.6136597136549204, -1.3489210620372878, -1.1806118893708162, -0.7979063879706698, -0.3411998942697839, -0.08598392565583025, 0.11554660322394864, 0.34107256578234074, 0.48663699377976916, 0.5910262712111145, 0.8283305994682989, 0.9429282593077882, 1.0841665333111756, 0.995973087157526, 0.590427740984405, 0.09947461012895381, -0.3334166945028469, -0.7556117451460038, -0.2935627501646692, 0.5469761362261236, 1.1765375613553342, 1.7003918579775263, 2.1904342759073283, 2.1981566947815265, 2.039003775605615, 1.9756211893470343, 1.9649125019967508, 1.9304008279755764, 1.8693634756532012, 1.8175317963937103, 1.6542279722867959, 1.4848105933337608, 1.2922166198864415, 1.1379443334733035, 0.9960369373413712, 0.975903964724489, 0.876864279288118, 0.8355490688235135, 0.7970256857022322, 0.7646098713756508, 0.6976403037561584, 0.6748639457593995, 0.6856727899734212, 0.6891621835744947, 0.7125470078076606, 0.7011216256607923, 0.6698223444486653, 0.6784482772798094, 0.6591548524010568, 0.639659464642857, 0.6987317885148888, 0.8157101169858817, 0.8458862378192212, 0.9189144443083574, 1.036644201789674, 1.1402452949504223, 1.2841164292783216, 1.645253984355121, 1.6674168096322524, 1.4796185614645418, 1.3150610189306469, 1.053624889563695, 0.895539157220826, 0.6179906579942077, 0.44926809538391554, 0.35284925021495844, 0.34308176319979344, 0.16220476463308428, -0.04873840870339499, -0.3147404454811877, -0.585687114756013, -0.7063525185916097, -0.6994609129549318, -0.5917905408246692, -0.5313287096471105, -0.30621689481216513, -0.2063442389150732, -0.20588308454106774, -0.023505945057402923, 0.2570422226102582, 0.3906863228090951, 0.5420425254636944, 0.6817953103730454, 0.7789423070556009, 0.9142060744933933, 0.9271482693093733, 0.9565127564828472, 1.0909242560100283, 1.0460997613524898, 1.0625288495003729, 1.3002918436588362, 1.5088584827968545, 1.6735405490486936, 1.8885191324364863, 2.015660436845701, 2.0603137676387844, 2.125098899603038, 2.140369994342804, 1.995542350424999, 1.8744553903227439, 1.6175494549535159, 1.4682111779598035, 1.3148687834592978, 1.168890299640043, 1.0020832827088746, 0.9539678297936705, 0.88600949240816, 0.8661670041606375, 0.9122866198629932, 0.9358455563936915, 0.9704981722595023, 1.026746055309231, 0.9528817618869424, 0.8079755003408373, 0.716721978559875, 0.5488504301465817, 0.26927048316005064, -0.031441685228139594, -0.3819423982652596, -0.7629363520286242, -1.1380074932186888, -1.3893009034696822, -1.5289363696705314, -1.5387083839002356, -1.5643685625717427, -1.597357124949618, -1.6484823089049723, -1.6544872304337168, -1.6740153307947623, -1.5720767935981348, -1.5219312793415618, -1.4507116960563295, -1.3710004483577294, -1.3507110275779306, -1.3592043854228912, -1.3631379785241555, -1.2686651912865166, -1.2315640232330782, -1.1463517581094667, -1.1371247764958448, -1.1244864483891548, -1.1800375628863904, -1.1625482946944878, -1.1300797932306548, -1.0754572005667196, -1.0265117927615275, -0.9408679573968459, -0.8126500483988973, -0.6509352239705795, -0.49678595288001476, -0.32494154550999604, -0.17868635375857478, -0.047276897192145576, 0.04840872338883788, 0.16269250637713079, 0.26991055689157, 0.4005257455512762, 0.4403250860871621, 0.6126559258486626, 1.0084218950279655, 1.3787850491585125, 1.6832026042162116, 1.9113500526938454, 2.074270558822431, 1.9877753834309915, 1.8732602528366147, 1.7946971768090902, 1.580694244757524, 1.3612087264148953, 0.9748320091940293, 0.8578181243697832, 0.5607543041502175, 0.2788984434468725, 0.0252120335431651, -0.0393294629866116, -0.04374089256183654, -0.04009399625144687, 0.11745213477362061, 0.27525421874727235, 0.3312053488231667, 0.21343233037509723, 0.23341197824300755, 0.07797840707954208, -0.22432129689695754, -0.6273578798342919, -0.8090477561264908, -0.909225157548929, -0.8870408382694923, -0.8296802592673127, -0.6866461430746941, -0.7313525899897694, -0.7847274098792816, -0.9949331111887735, -1.1471171344335893, -1.162876649270984, -0.9590426184340658, -0.7474756160961623, -0.432857291202072, -0.05814697393276698, 0.28181218328215657, 0.5633873441064788, 0.7606904867280321, 1.0918629320677076, 1.3652623414222094, 1.6545690018553318, 1.716790138319021, 1.8180001077759023, 1.793241656203417, 1.545218768332855, 1.4192164644101442, 1.2423534517544668, 1.0181297786223595, 0.7768203661442554, 0.7284042137512149, 0.6171504223391017, 0.6292417262881412, 0.6146305315798175, 0.5085510292764092, 0.165894770213079, -0.04612340232696537, -0.28805071889532, -0.5478991344655193, -0.607157906819727, -0.46675376277199837, -0.5236789865003483, -0.734431115550835, -0.8155509048893982, -0.8953523386195317, -1.042639449321907, -1.1541028827793225, -1.3427611189732247, -1.5111940354044497, -1.6878949186915493, -1.790200344434709, -1.7378522404717467, -1.4482060815774374, -1.222467250940698, -1.0529525106899895, -0.9103430942416905, -0.9275406675621989, -0.9837617050663129, -0.9880288405577029, -0.8310448589982383, -0.6941554022689148, -0.6765541067477358, -0.6950488915718674, -0.7552031588295957, -0.8624120801140273, -0.8256901949052532, -0.6625918478133682, -0.2596567694703255, 0.2285057898706617, 0.6057176731202173, 0.9357042809714461, 1.273905616453668, 1.4670493819721913, 1.602027479004436, 1.701090082935202, 1.7849842792759967, 1.7616093226117484, 1.8036108074181014, 1.8101066684902964, 1.7763535812251703, 1.673709530409312, 1.6212058186646658, 1.5758540173251914, 1.4525466743850852, 1.3300533087413315, 1.2650079872084627, 1.3133255064607254, 1.3138263837608477, 1.392203028936558, 1.4682513731938847, 1.3894530658555746, 1.187106216879046, 1.1372754363808308, 1.087644120252722, 1.1134594203097912, 1.1150214788750397, 1.1210154545669253, 1.1003350391231095, 1.0385502347810522, 0.9972147599944075, 0.9179335039042295, 0.8786517426214346, 0.7442802963373717, 0.6797544136894188, 0.6733295293119012, 0.794061465752703, 0.9178761597202255, 1.1632270299339538, 1.318858925621418, 1.3381413989657867, 1.1210920977589738, 0.9282335184516926, 0.6664077640904486, 0.5748226855344799, 0.9154478514255477, 1.3806070502710903, 1.6672574995933351, 1.7743817337890642, 1.9154623973845455, 1.7468895803739688, 1.5656946129860574, 1.5280001087798896, 1.4367404926391794, 1.4235849157371996, 1.5503638528233867, 1.5949352636429166, 1.6374417130524737, 1.7292300724232808, 1.7626750591505569, 1.7097448483852768, 1.6834536209129378, 1.637146334386812, 1.6294848361343073, 1.6493435422672653, 1.6093570599432943, 1.5803415673132504, 1.5823495276089894, 1.5464270670144498, 1.546681286925171, 1.5859592862747716, 1.6302357780893064, 1.6534683570604365, 1.673934208963664, 1.5780456075719924, 1.5045579923596462, 1.3266457959681415, 1.1800535762495856, 0.9651851813502459, 0.850609891245642, 0.7595813213544147, 0.6809012213756195, 0.46083725516722146, 0.20432527625398306, -0.09118914376475824, -0.6030995884454279, -1.0950973813869544, -1.4264699737320685, -1.6011759991812118, -1.8005946021244537, -1.8504826958402998, -1.6862546383223727, -1.6756643261596769, -1.7286774491632602, -1.6804163590205827, -1.6015724068075825, -1.5798646040180222, -1.471258532481682, -1.2968999159810235, -1.135519088859923, -0.9233986673983675, -0.7186000514978135, -0.5809580609825598, -0.47584106321085284, -0.3477762526902079, -0.32789380469752694, -0.3916459012299586, -0.39327581469621165, -0.38642808676022583, -0.40326196385835633, -0.27038558092230874, -0.17988129991595134, -0.12782576812139204, -0.026711008671319064, -0.00294359553961268, -0.18720849415738147, -0.2876074716630085, -0.3729056308943358, -0.6606787373751569, -0.8782314785565909, -0.7456534620038837, -0.6581922672067259, -0.6409287662307709, -0.49392713549509826, -0.24838627601571653, -0.4584116390084499, -0.5967976634465705, -0.3597558300201252, 0.10623623107575605, 0.38960288963419026, 0.5517381229059489, 0.7736847757070746, 0.6685845875165544, 0.34906543513999055, 0.04717333448812716, -0.06810191748311714, -0.05992001568835385, 0.1461201559844334, 0.18768657163713223, 0.07746277978675806, -0.22860864530928762, -0.5813476587210631, -0.9671112475329094, -1.1659826252225074, -1.206337402445143, -1.2657943902635524, -1.3245383484381033, -1.2267790774192795, -1.1244178835580663, -1.0671978916920295, -0.9154662962230135, -0.7547971721968679, -0.7766642981724471, -0.6632672896233496, -0.43172846777699747, -0.0763094993658294, 0.09386653125897848, 0.333850802189528, 0.3789845469839478, 0.3369775592122035, 0.418375934581396, 0.4304224383952598, 0.45275476699901446, 0.45186167157916546, 0.4858244234047316, 0.5365830727237956, 0.4764210673615459, 0.22732725673765133, 0.07431180231967653, -0.05067778625162472, -0.10700398099172566, -0.029626294767133902, 0.2740976625274767, 0.5829038286506592, 0.47068576865605605, 0.18058008570302558, 0.01368309068493906, -0.48732933903417275, -0.924730233813753, -1.204526022758919, -1.3546556065465851, -1.5275472728255906, -1.3929214879804517, -1.4268531670577882, -1.2023365273526254, -1.2188784715646244, -1.0148271944941099, -0.7791233707478428, -0.37537951184968604, -0.0568709453542799, 0.05673494838919908, 0.11962758077344077, 0.17059314446206825, 0.21878852711321917, 0.44457860623312545, 0.7155405637130601, 0.7108167469366753, 0.6311518631567894, 0.3517692560275678, 0.10174464377009278, -0.014148442695254395, -0.1127159805430437, -0.2457305325660932, -0.29555949178509583, -0.13385609230854362, 0.16445386279503982, 0.6266482021438045, 0.9159283432757676, 1.3455668299177397, 1.5046631697073516, 1.5027085909626836, 1.364239752035797, 1.24708816510559, 1.0517320784758106, 0.7736001448986625, 0.4535546203513566, 0.19474997195916038, -0.09072272844342213, -0.5369432824417463, -1.0415806721448384, -1.3589751430614634, -1.588545254974107, -1.6980674307239896, -1.6378627739346612, -1.5616701193963034, -1.4021696357037983, -1.2068063506832323, -1.0985182880707673, -1.1155506982264443, -1.103781439709058, -1.1684142684365537, -1.3070689568748255, -1.3407466520443032, -1.2958426778572025, -1.222689356131695, -1.3140644598135487, -1.3492442009352585, -1.4300642732854432, -1.4785490101212184, -1.4574961263992519, -1.2052752140215979, -0.9186674677533827, -0.6024548601134933, -0.36152703298075856, -0.2805094889924972, -0.3807324001480516, -0.2848712889014171, -0.21553590031043474, -0.017401705262735722, 0.2587349319180249, 0.7576715558846454, 0.9309436287253147, 1.095413483356726, 1.0282227490898423, 0.923931884745705, 0.8763836319403531, 0.7925321907426414, 0.8081086543311559, 0.8225024515471538, 0.8367513831419854, 0.46540770715542307, 0.14068972930514811, 0.04151038005455298, 0.04850858194507559, 0.07465089000850807, 0.22056653074465635, 0.29922339251818164, 0.10727578112004849, -0.13309742927962595, -0.11217924826408336, -0.005902855702948857, -0.09528726054297264, 0.11004146742829089, 0.26306827747000827, 0.24688752073453565, 0.18797518994112664, 0.31316238767298954, 0.35683593036991645, 0.5286916910201411, 0.6905509408682723, 0.2987177486495218, 0.10679454476580588, -0.10993753380988577, -0.07980280146965399, -0.305713038202513, -0.16265064940201965, 0.15431491656717566, 0.36502679060953963, 0.44142143246296983, 0.5984760854909941, 1.131033977321524, 1.4858142337638947, 1.581124325313665, 1.6536779917063176, 1.6006392858378737, 1.5108356206271283, 1.4403237144553815, 1.3535127379230405, 1.3185376978024606, 1.4027310555863135, 1.349498134614098, 1.2445040785273476, 1.1025014761101462, 1.176382801030761, 1.3116163474242295, 1.5186342763740779, 1.719948898285268, 1.869299415223232, 1.836367540297585, 1.7086106991680696, 1.4128927795490505, 1.2579124942423296, 1.1381632200735612, 1.1357702512908183, 1.0605834591632086, 1.0664016175040076, 1.0087336105392828, 0.9798275206981732, 1.0689033196921478, 1.3205061503287188, 1.5180586649829588, 1.6460717018355808, 1.6387058414621098, 1.4445044568671404, 1.1260654830102075, 0.9291280245415325, 0.9820443573398723, 1.0368431583149738, 1.1775868293298777, 1.2834385715468966, 1.3969688092101844, 1.4925529033395546, 1.6007601885884544, 1.7534974471407694, 1.7492283176583838, 1.6154452668017425, 1.2830122786663036, 1.1074156774768975, 0.8135873913034545, 0.8392363646933478, 0.8623673082081629, 0.8289831170784258, 0.3360430152189646, -0.07001953141514426, -0.4645670960202026, -0.7102934863319607, -0.8432471115782273, -0.8861912526833664, -0.9831438231192169, -1.0810721860966888, -1.2292231485166591, -0.9665466556539032, -0.714732112001527, -0.5191016458056896, -0.4129327067443101, -0.33164889301410927, -0.6319435627141609, -0.878464732133927, -0.9559470283318906, -1.0426686824702922, -1.135074515598897, -1.3816623955173257, -1.5112370823412649, -1.7385115005109566, -1.881249534767088, -1.9343243759761914, -1.8147997257871695, -1.6841266599886253, -1.512922180642704, -1.3399569023109599, -1.2011650191970584, -1.1209524305972667, -1.0133537254858818, -0.8642971019217093, -0.6471332082363522, -0.4263671739765616, -0.21047435231237455, -0.04871226770777467, 0.2461608074882887, 0.3728329365286044, 0.1292089630439282, -0.1477013550317691, -0.5256967723794439, -1.046475184121497, -1.3787838453688441, -1.4515835220349809, -1.4924952658521287, -1.459679075939927, -1.417224410761704, -1.3358338224335942, -0.9071227685195586, -0.4938099727364525, 0.007895103689398617, 0.5505954543761586, 1.1362322894600947, 1.142566346936156, 1.0591034720216084, 0.836549453540185, 0.7515800587872551, 0.6144751115159491, 0.7130898574677668, 0.7418840711137555, 0.9458356694621065, 1.0575785721519866, 1.1278863279097044, 1.0604078583314298, 1.1605204830825868, 1.2800714656248153, 1.4282168258375998, 1.5290739836399774, 1.6245752710506443, 1.6458720426436628, 1.4584301251669773, 1.2294146881224806, 1.1942310440725332, 1.2393994900274832, 1.2157096585950113, 1.1397476725284381, 1.0768880214016334, 0.9684515252206044, 0.8918130694101533, 0.8444140888026976, 0.8578627302825282, 0.8867503544369938, 0.8737393996738652, 0.7920271883177826, 0.6661572416143067, 0.6138206883675625, 0.6022070742571694, 0.6661970046939949, 0.6174749406860023, 0.5367231493713924, 0.34706472468434285, -0.02907511722718698, -0.5540932546214454, -1.2017186381411802, -1.4753116366423447, -1.7626409286885039, -1.9289195499125193, -2.031670380832662, -1.9697694525278941, -2.0632668063071637, -2.111246334698164, -2.039697261885426, -1.8790607494480387, -1.6567355556287768, -1.411817372869162, -1.2174181005565585, -1.071351588002217, -0.9720383697237882, -0.8899611734235992, -0.8435691193478593, -0.8001113613470554, -0.8178474504904358, -0.7989650066103232, -0.6631937306021977, -0.6005327732674257, -0.5957696910845791, -0.7031956171038602, -0.7805184443389496, -0.9511077415308096, -1.022722507254569, -1.1026202583408231, -1.1578507983032662, -1.2824777705058594, -1.3927261352648979, -1.4563371173596718, -1.5309189126048122, -1.5043540490317613, -1.4087911539862323, -1.4226070191581426, -1.377334384212267, -1.411797606665331, -1.2774536271152441, -1.34442162652468, -1.2849783275647713, -1.4328066218826632, -1.3711314501411433, -1.4719752863634166, -1.1225659708135625, -0.8282837403848697, -0.7045950077404678, -0.6312910219232425, -0.620823838573, -0.808013357001921, -0.9311006343344408, -0.8145636956620095, -0.7873739023243143, -0.7264283808171276, -0.6516921713554973, -0.6709110764597624, -0.6583403514422308, -0.4933425157745431, -0.24033969952454237, 0.00961501357648681, 0.21409761346535497, 0.40987367728923, 0.5596700706488563, 0.6802516564426785, 0.8997115935885728, 1.0392140073065848, 1.1674496779993095, 1.330223231711266, 1.3674936480847986, 1.2570627535663779, 1.1846967648793933, 1.0614077435825766, 0.928040131374546, 0.6288027213596065, 0.36906822889805657, 0.14003685830478332, -0.29273848309231626, -0.659116469578005, -0.8075695732769342, -0.8130204818412223, -0.679249041999981, -0.16626535194364356, 0.24906817807422912, 0.696423475140039, 1.081534470060931, 1.4231384315184827, 1.6577896480722532, 1.8189284280025024, 1.9485762076629132, 2.0057130407003743, 2.026470782565665, 1.9508849233450019, 1.9102863639311627, 1.8754420229112247, 1.789659819305787, 1.6591395506608604, 1.6020953126716848, 1.5500796475841414, 1.523260812560191, 1.496561350212896, 1.4859270278103125, 1.4797411491097876, 1.440080124706764, 1.4217027212445343, 1.4272098073928485, 1.3827200725220132, 1.315201371848101, 1.270280522738006, 1.215413039170145, 1.142736435359098, 1.084094957205104, 1.0566272074693603, 0.9841245653134092, 0.9810297779628007, 1.046385863672979, 1.1169847558739954, 1.1612284023607817, 1.122416948498752, 1.128614109498003, 1.1234726203375076, 1.1038370451049013, 1.1025296142103351, 1.178750693679849, 1.2291823654429646, 1.268485080349758, 1.2860904336627668, 1.2601636699132888, 1.3101970093063415, 1.3587672405864641, 1.355388831214103, 1.30374648401045, 1.3266108913737726, 1.2552846090132217, 0.995015945714666, 0.606768407286885, 0.421681040969469, 0.4051208231660858, 0.7573656270331942, 1.2013407040582402, 1.6448514121883178, 2.008341646637256, 2.2408912435210637, 2.1445758666822714, 1.9636521211843614, 1.9952763540317175, 1.9838839108000865, 2.0307992857584973, 1.9313083069083457, 1.8842706867256251, 1.8085027808884886, 1.7120113238829868, 1.386553478244955, 1.0962066279924687, 0.8250436652802088, 0.6257406575937109, 0.358008282973416, 0.245857777062478, 0.1278893616332139, -0.06060700509262858, -0.21150041915587323, -0.18521781505041504, -0.2745509524015796, -0.30683676012389427, -0.22464677012121062, -0.35738604794149925, -0.5812315300368163, -0.7068215776020779, -0.9581878713321088, -1.174626523440061, -1.26380482870611, -1.2166625069736883, -1.3561175965693317, -1.4361933773082804, -1.5089247329824662, -1.5929790069444187, -1.7422091930643888, -1.6933612041525894, -1.6030724089794082, -1.5481503511387646, -1.4529530808379467, -1.3209232960262989, -1.1778721950333764, -1.0915494288472471, -0.9615630708890783, -0.8590582871576532, -0.7758007674518125, -0.7486336678239731, -0.6369910101884042, -0.47989239763206476, -0.3079421491992164, -0.3328061406914829, -0.5577518416922375, -0.8038848168517271, -1.2517512897743086, -1.7182328783077512, -1.895108210640969, -1.9122167675322612, -1.9827747546715484, -1.8448157602307003, -1.7545017111013268, -1.6622022747326806, -1.5424767554319898, -1.4443623312390421, -1.4025439438952452, -1.3039509084679026, -1.2630341915398526, -1.2170410944572758, -1.1472293763694437, -1.1380334043782458, -1.1241444673280687, -1.06862708751741, -1.0283256312809856, -1.0475231395501368, -1.018652055123583, -1.0234744641053808, -1.0578844980158486, -1.0890758017253543, -1.0789208922328983, -1.0291436818381239, -0.977764916242152, -0.9221328724662952, -0.8523029439621118, -0.8143266075533575, -0.7846630776572492, -0.8214393477344569, -0.8394268815282138, -0.9284234426682567, -0.8795793878503853, -0.9856095754509612, -1.2477276632194465, -1.5159649965744693, -1.6653147595158282, -2.0112023230478346, -2.1277380914977333, -2.0261576435440176, -1.8788827639373373, -1.7998585238065732, -1.7441592870827998, -1.5706850932136822, -1.3898172877044315, -1.1494599959939822, -0.6869562877455213, -0.2552420524915879, -0.02800473898007918, 0.18076867890084222, 0.18814648600087386, 0.3000429577666383, 0.37595805773826624, 0.30556238937920577, 0.03593706988069987, -0.15589624498854146, -0.26527085942766676, -0.23758593694087568, -0.25627939638233543, -0.07779388982920618, 0.07777946662514869, 0.048058070006151636, -0.026077945199205657, -0.049987443065296205, 0.06435347179825693, 0.32358623139445397, 0.6022835928116426, 0.7831706325432386, 0.8184226402350727, 0.7954821791137238, 0.6445762754375685, 0.5655642247295468, 0.3884992523944785, 0.15201396623072658, -0.20258696939964696, -0.5649874902935231, -0.8911361838568523, -1.1110816799781866, -1.0656802590965635, -0.9612002375367534, -0.9553456762333705, -1.213476840267162, -1.4143927184083918, -1.204707440231725, -1.107487896872938, -0.9126542377666097, -0.5176440921268771, -0.21684051424323184, -0.278286737710855, -0.3418158106907582, -0.42145062342313017, -0.7754713953099224, -1.252802226149389, -1.6629048117122116, -1.9012637973046187, -2.0398565873444574, -2.0853958939659507, -1.8585388970747783, -1.6067596503861683, -1.3982847970809573, -1.219684497338146, -0.9367993756312429, -0.878941496629201, -0.703229537597269, -0.2306786111624674, 0.350590352976469, 0.8795326412193619, 1.5370097291394296, 1.9211674430628098, 2.0316480623810165, 2.0421897370476776, 2.002007835759127, 1.8144890363342379, 1.6632074758337219, 1.6538567428412392, 1.6514651754017704, 1.7526189884227519, 1.8195224530130194, 1.9082344700099882, 2.0015787009119212, 2.0651420459298273, 2.09327987821252, 2.0368632737265506, 1.9819278328045495, 1.89588228784826, 1.8475751392544422, 1.6030252409637638, 1.4524981543663116, 1.3170581311202683, 1.145591189477698, 0.9125817768088712, 0.7202792023266061]}, {\"mode\": \"markers\", \"name\": \"sell\", \"type\": \"scatter\", \"x\": [\"2016-03-01T00:00:00\", \"2016-03-29T00:00:00\", \"2016-06-17T00:00:00\", \"2016-07-04T00:00:00\", \"2016-10-14T00:00:00\", \"2017-01-17T00:00:00\", \"2017-03-17T00:00:00\", \"2017-06-01T00:00:00\", \"2018-03-09T00:00:00\", \"2018-05-09T00:00:00\", \"2018-07-05T00:00:00\", \"2018-11-26T00:00:00\", \"2019-04-24T00:00:00\", \"2019-05-24T00:00:00\", \"2019-08-06T00:00:00\"], \"y\": [1.3890467708520962, 1.2269220727423311, 0.995973087157526, 2.039003775605615, 1.995542350424999, 1.8732602528366147, 1.545218768332855, 1.7763535812251703, 1.364239752035797, 0.923931884745705, 1.5108356206271283, 0.836549453540185, 1.2570627535663779, 1.9508849233450019, 1.9636521211843614]}, {\"mode\": \"markers\", \"name\": \"buy\", \"type\": \"scatter\", \"x\": [\"2016-05-02T00:00:00\", \"2016-05-26T00:00:00\", \"2016-11-28T00:00:00\", \"2017-02-17T00:00:00\", \"2017-04-25T00:00:00\", \"2017-09-22T00:00:00\", \"2017-12-11T00:00:00\", \"2018-01-29T00:00:00\", \"2018-03-28T00:00:00\", \"2018-09-21T00:00:00\", \"2018-10-12T00:00:00\", \"2018-11-13T00:00:00\", \"2019-01-29T00:00:00\", \"2019-09-23T00:00:00\", \"2019-10-22T00:00:00\", \"2020-01-29T00:00:00\", \"2020-02-19T00:00:00\"], \"y\": [-0.8606559749488778, -1.619267126631286, -1.5720767935981348, -0.8296802592673127, -1.4482060815774374, -1.6862546383223727, -1.2267790774192795, -1.3929214879804517, -1.5616701193963034, -0.9665466556539032, -1.8147997257871695, -1.417224410761704, -2.039697261885426, -1.6030724089794082, -1.8448157602307003, -0.9612002375367534, -1.8585388970747783]}, {\"mode\": \"markers\", \"name\": \"exit\", \"type\": \"scatter\", \"x\": [\"2016-03-07T00:00:00\", \"2016-04-20T00:00:00\", \"2016-05-04T00:00:00\", \"2016-06-06T00:00:00\", \"2016-06-21T00:00:00\", \"2016-08-29T00:00:00\", \"2016-11-09T00:00:00\", \"2016-12-26T00:00:00\", \"2017-01-26T00:00:00\", \"2017-03-02T00:00:00\", \"2017-03-31T00:00:00\", \"2017-05-16T00:00:00\", \"2017-09-11T00:00:00\", \"2017-10-10T00:00:00\", \"2017-12-20T00:00:00\", \"2018-02-06T00:00:00\", \"2018-03-15T00:00:00\", \"2018-04-24T00:00:00\", \"2018-05-17T00:00:00\", \"2018-09-10T00:00:00\", \"2018-09-26T00:00:00\", \"2018-10-25T00:00:00\", \"2018-11-16T00:00:00\", \"2019-01-14T00:00:00\", \"2019-04-08T00:00:00\", \"2019-05-01T00:00:00\", \"2019-07-25T00:00:00\", \"2019-08-22T00:00:00\", \"2019-10-08T00:00:00\", \"2019-12-22T00:00:00\", \"2020-02-07T00:00:00\", \"2020-02-27T00:00:00\"], \"y\": [0.3185173310050801, 0.40526799163119565, -0.34485361775594775, -0.3411998942697839, 0.09947461012895381, 0.44926809538391554, 0.26927048316005064, -0.49678595288001476, 0.2788984434468725, -0.432857291202072, 0.165894770213079, -0.2596567694703255, 0.46083725516722146, -0.47584106321085284, -0.43172846777699747, -0.37537951184968604, 0.4535546203513566, -0.36152703298075856, 0.46540770715542307, 0.3360430152189646, -0.4129327067443101, -0.4263671739765616, -0.4938099727364525, 0.34706472468434285, -0.4933425157745431, 0.36906822889805657, 0.421681040969469, 0.358008282973416, -0.47989239763206476, -0.2552420524915879, -0.21684051424323184, -0.2306786111624674]}],\n",
       "                        {\"template\": {\"data\": {\"bar\": [{\"error_x\": {\"color\": \"#2a3f5f\"}, \"error_y\": {\"color\": \"#2a3f5f\"}, \"marker\": {\"line\": {\"color\": \"#E5ECF6\", \"width\": 0.5}}, \"type\": \"bar\"}], \"barpolar\": [{\"marker\": {\"line\": {\"color\": \"#E5ECF6\", \"width\": 0.5}}, \"type\": \"barpolar\"}], \"carpet\": [{\"aaxis\": {\"endlinecolor\": \"#2a3f5f\", \"gridcolor\": \"white\", \"linecolor\": \"white\", \"minorgridcolor\": \"white\", \"startlinecolor\": \"#2a3f5f\"}, \"baxis\": {\"endlinecolor\": \"#2a3f5f\", \"gridcolor\": \"white\", \"linecolor\": \"white\", \"minorgridcolor\": \"white\", \"startlinecolor\": \"#2a3f5f\"}, \"type\": \"carpet\"}], \"choropleth\": [{\"colorbar\": {\"outlinewidth\": 0, \"ticks\": \"\"}, \"type\": \"choropleth\"}], \"contour\": [{\"colorbar\": {\"outlinewidth\": 0, \"ticks\": \"\"}, \"colorscale\": [[0.0, \"#0d0887\"], [0.1111111111111111, \"#46039f\"], [0.2222222222222222, \"#7201a8\"], [0.3333333333333333, \"#9c179e\"], [0.4444444444444444, \"#bd3786\"], [0.5555555555555556, \"#d8576b\"], [0.6666666666666666, \"#ed7953\"], [0.7777777777777778, \"#fb9f3a\"], [0.8888888888888888, \"#fdca26\"], [1.0, \"#f0f921\"]], \"type\": \"contour\"}], \"contourcarpet\": [{\"colorbar\": {\"outlinewidth\": 0, \"ticks\": \"\"}, \"type\": \"contourcarpet\"}], \"heatmap\": [{\"colorbar\": {\"outlinewidth\": 0, \"ticks\": \"\"}, \"colorscale\": [[0.0, \"#0d0887\"], [0.1111111111111111, \"#46039f\"], [0.2222222222222222, \"#7201a8\"], [0.3333333333333333, \"#9c179e\"], [0.4444444444444444, \"#bd3786\"], [0.5555555555555556, \"#d8576b\"], [0.6666666666666666, \"#ed7953\"], [0.7777777777777778, \"#fb9f3a\"], [0.8888888888888888, \"#fdca26\"], [1.0, \"#f0f921\"]], \"type\": \"heatmap\"}], \"heatmapgl\": [{\"colorbar\": {\"outlinewidth\": 0, \"ticks\": \"\"}, \"colorscale\": [[0.0, \"#0d0887\"], [0.1111111111111111, \"#46039f\"], [0.2222222222222222, \"#7201a8\"], [0.3333333333333333, \"#9c179e\"], [0.4444444444444444, \"#bd3786\"], [0.5555555555555556, \"#d8576b\"], [0.6666666666666666, \"#ed7953\"], [0.7777777777777778, \"#fb9f3a\"], [0.8888888888888888, \"#fdca26\"], [1.0, \"#f0f921\"]], \"type\": \"heatmapgl\"}], \"histogram\": [{\"marker\": {\"colorbar\": {\"outlinewidth\": 0, \"ticks\": \"\"}}, \"type\": \"histogram\"}], \"histogram2d\": [{\"colorbar\": {\"outlinewidth\": 0, \"ticks\": \"\"}, \"colorscale\": [[0.0, \"#0d0887\"], [0.1111111111111111, \"#46039f\"], [0.2222222222222222, \"#7201a8\"], [0.3333333333333333, \"#9c179e\"], [0.4444444444444444, \"#bd3786\"], [0.5555555555555556, \"#d8576b\"], [0.6666666666666666, \"#ed7953\"], [0.7777777777777778, \"#fb9f3a\"], [0.8888888888888888, \"#fdca26\"], [1.0, \"#f0f921\"]], \"type\": \"histogram2d\"}], \"histogram2dcontour\": [{\"colorbar\": {\"outlinewidth\": 0, \"ticks\": \"\"}, \"colorscale\": [[0.0, \"#0d0887\"], [0.1111111111111111, \"#46039f\"], [0.2222222222222222, \"#7201a8\"], [0.3333333333333333, \"#9c179e\"], [0.4444444444444444, \"#bd3786\"], [0.5555555555555556, \"#d8576b\"], [0.6666666666666666, \"#ed7953\"], [0.7777777777777778, \"#fb9f3a\"], [0.8888888888888888, \"#fdca26\"], [1.0, \"#f0f921\"]], \"type\": \"histogram2dcontour\"}], \"mesh3d\": [{\"colorbar\": {\"outlinewidth\": 0, \"ticks\": \"\"}, \"type\": \"mesh3d\"}], \"parcoords\": [{\"line\": {\"colorbar\": {\"outlinewidth\": 0, \"ticks\": \"\"}}, \"type\": \"parcoords\"}], \"pie\": [{\"automargin\": true, \"type\": \"pie\"}], \"scatter\": [{\"marker\": {\"colorbar\": {\"outlinewidth\": 0, \"ticks\": \"\"}}, \"type\": \"scatter\"}], \"scatter3d\": [{\"line\": {\"colorbar\": {\"outlinewidth\": 0, \"ticks\": \"\"}}, \"marker\": {\"colorbar\": {\"outlinewidth\": 0, \"ticks\": \"\"}}, \"type\": \"scatter3d\"}], \"scattercarpet\": [{\"marker\": {\"colorbar\": {\"outlinewidth\": 0, \"ticks\": \"\"}}, \"type\": \"scattercarpet\"}], \"scattergeo\": [{\"marker\": {\"colorbar\": {\"outlinewidth\": 0, \"ticks\": \"\"}}, \"type\": \"scattergeo\"}], \"scattergl\": [{\"marker\": {\"colorbar\": {\"outlinewidth\": 0, \"ticks\": \"\"}}, \"type\": \"scattergl\"}], \"scattermapbox\": [{\"marker\": {\"colorbar\": {\"outlinewidth\": 0, \"ticks\": \"\"}}, \"type\": \"scattermapbox\"}], \"scatterpolar\": [{\"marker\": {\"colorbar\": {\"outlinewidth\": 0, \"ticks\": \"\"}}, \"type\": \"scatterpolar\"}], \"scatterpolargl\": [{\"marker\": {\"colorbar\": {\"outlinewidth\": 0, \"ticks\": \"\"}}, \"type\": \"scatterpolargl\"}], \"scatterternary\": [{\"marker\": {\"colorbar\": {\"outlinewidth\": 0, \"ticks\": \"\"}}, \"type\": \"scatterternary\"}], \"surface\": [{\"colorbar\": {\"outlinewidth\": 0, \"ticks\": \"\"}, \"colorscale\": [[0.0, \"#0d0887\"], [0.1111111111111111, \"#46039f\"], [0.2222222222222222, \"#7201a8\"], [0.3333333333333333, \"#9c179e\"], [0.4444444444444444, \"#bd3786\"], [0.5555555555555556, \"#d8576b\"], [0.6666666666666666, \"#ed7953\"], [0.7777777777777778, \"#fb9f3a\"], [0.8888888888888888, \"#fdca26\"], [1.0, \"#f0f921\"]], \"type\": \"surface\"}], \"table\": [{\"cells\": {\"fill\": {\"color\": \"#EBF0F8\"}, \"line\": {\"color\": \"white\"}}, \"header\": {\"fill\": {\"color\": \"#C8D4E3\"}, \"line\": {\"color\": \"white\"}}, \"type\": \"table\"}]}, \"layout\": {\"annotationdefaults\": {\"arrowcolor\": \"#2a3f5f\", \"arrowhead\": 0, \"arrowwidth\": 1}, \"coloraxis\": {\"colorbar\": {\"outlinewidth\": 0, \"ticks\": \"\"}}, \"colorscale\": {\"diverging\": [[0, \"#8e0152\"], [0.1, \"#c51b7d\"], [0.2, \"#de77ae\"], [0.3, \"#f1b6da\"], [0.4, \"#fde0ef\"], [0.5, \"#f7f7f7\"], [0.6, \"#e6f5d0\"], [0.7, \"#b8e186\"], [0.8, \"#7fbc41\"], [0.9, \"#4d9221\"], [1, \"#276419\"]], \"sequential\": [[0.0, \"#0d0887\"], [0.1111111111111111, \"#46039f\"], [0.2222222222222222, \"#7201a8\"], [0.3333333333333333, \"#9c179e\"], [0.4444444444444444, \"#bd3786\"], [0.5555555555555556, \"#d8576b\"], [0.6666666666666666, \"#ed7953\"], [0.7777777777777778, \"#fb9f3a\"], [0.8888888888888888, \"#fdca26\"], [1.0, \"#f0f921\"]], \"sequentialminus\": [[0.0, \"#0d0887\"], [0.1111111111111111, \"#46039f\"], [0.2222222222222222, \"#7201a8\"], [0.3333333333333333, \"#9c179e\"], [0.4444444444444444, \"#bd3786\"], [0.5555555555555556, \"#d8576b\"], [0.6666666666666666, \"#ed7953\"], [0.7777777777777778, \"#fb9f3a\"], [0.8888888888888888, \"#fdca26\"], [1.0, \"#f0f921\"]]}, \"colorway\": [\"#636efa\", \"#EF553B\", \"#00cc96\", \"#ab63fa\", \"#FFA15A\", \"#19d3f3\", \"#FF6692\", \"#B6E880\", \"#FF97FF\", \"#FECB52\"], \"font\": {\"color\": \"#2a3f5f\"}, \"geo\": {\"bgcolor\": \"white\", \"lakecolor\": \"white\", \"landcolor\": \"#E5ECF6\", \"showlakes\": true, \"showland\": true, \"subunitcolor\": \"white\"}, \"hoverlabel\": {\"align\": \"left\"}, \"hovermode\": \"closest\", \"mapbox\": {\"style\": \"light\"}, \"paper_bgcolor\": \"white\", \"plot_bgcolor\": \"#E5ECF6\", \"polar\": {\"angularaxis\": {\"gridcolor\": \"white\", \"linecolor\": \"white\", \"ticks\": \"\"}, \"bgcolor\": \"#E5ECF6\", \"radialaxis\": {\"gridcolor\": \"white\", \"linecolor\": \"white\", \"ticks\": \"\"}}, \"scene\": {\"xaxis\": {\"backgroundcolor\": \"#E5ECF6\", \"gridcolor\": \"white\", \"gridwidth\": 2, \"linecolor\": \"white\", \"showbackground\": true, \"ticks\": \"\", \"zerolinecolor\": \"white\"}, \"yaxis\": {\"backgroundcolor\": \"#E5ECF6\", \"gridcolor\": \"white\", \"gridwidth\": 2, \"linecolor\": \"white\", \"showbackground\": true, \"ticks\": \"\", \"zerolinecolor\": \"white\"}, \"zaxis\": {\"backgroundcolor\": \"#E5ECF6\", \"gridcolor\": \"white\", \"gridwidth\": 2, \"linecolor\": \"white\", \"showbackground\": true, \"ticks\": \"\", \"zerolinecolor\": \"white\"}}, \"shapedefaults\": {\"line\": {\"color\": \"#2a3f5f\"}}, \"ternary\": {\"aaxis\": {\"gridcolor\": \"white\", \"linecolor\": \"white\", \"ticks\": \"\"}, \"baxis\": {\"gridcolor\": \"white\", \"linecolor\": \"white\", \"ticks\": \"\"}, \"bgcolor\": \"#E5ECF6\", \"caxis\": {\"gridcolor\": \"white\", \"linecolor\": \"white\", \"ticks\": \"\"}}, \"title\": {\"x\": 0.05}, \"xaxis\": {\"automargin\": true, \"gridcolor\": \"white\", \"linecolor\": \"white\", \"ticks\": \"\", \"title\": {\"standoff\": 15}, \"zerolinecolor\": \"white\", \"zerolinewidth\": 2}, \"yaxis\": {\"automargin\": true, \"gridcolor\": \"white\", \"linecolor\": \"white\", \"ticks\": \"\", \"title\": {\"standoff\": 15}, \"zerolinecolor\": \"white\", \"zerolinewidth\": 2}}}},\n",
       "                        {\"responsive\": true}\n",
       "                    ).then(function(){\n",
       "                            \n",
       "var gd = document.getElementById('eb003cb1-f02d-4aa4-9074-93adaf2965a8');\n",
       "var x = new MutationObserver(function (mutations, observer) {{\n",
       "        var display = window.getComputedStyle(gd).display;\n",
       "        if (!display || display === 'none') {{\n",
       "            console.log([gd, 'removed!']);\n",
       "            Plotly.purge(gd);\n",
       "            observer.disconnect();\n",
       "        }}\n",
       "}});\n",
       "\n",
       "// Listen for the removal of the full notebook cells\n",
       "var notebookContainer = gd.closest('#notebook-container');\n",
       "if (notebookContainer) {{\n",
       "    x.observe(notebookContainer, {childList: true});\n",
       "}}\n",
       "\n",
       "// Listen for the clearing of the current output cell\n",
       "var outputEl = gd.closest('.output');\n",
       "if (outputEl) {{\n",
       "    x.observe(outputEl, {childList: true});\n",
       "}}\n",
       "\n",
       "                        })\n",
       "                };\n",
       "                });\n",
       "            </script>\n",
       "        </div>"
      ]
     },
     "metadata": {},
     "output_type": "display_data"
    },
    {
     "data": {
      "text/plain": [
       "<Figure size 1080x504 with 0 Axes>"
      ]
     },
     "metadata": {},
     "output_type": "display_data"
    }
   ],
   "source": [
    "plt.figure(figsize=(15,7))\n",
    "\n",
    "#print(bought_zscore)\n",
    "#print(new_zscores)\n",
    "fig = go.Figure()\n",
    "fig.add_trace(go.Scatter(x=new_ratios.index, y=new_ratios[0],\n",
    "                    mode='lines',\n",
    "                    name='ratios'))\n",
    "\n",
    "fig.add_trace(go.Scatter(x=bought_zscore.index, y=bought_zscore[0],\n",
    "                    mode='markers',\n",
    "                    name='sell'))\n",
    "\n",
    "fig.add_trace(go.Scatter(x=sold_zscore.index, y=sold_zscore[0],\n",
    "                    mode='markers',\n",
    "                    name='buy'))\n",
    "\n",
    "fig.add_trace(go.Scatter(x=exit_zscore.index, y=exit_zscore[0],\n",
    "                    mode='markers',\n",
    "                    name='exit'))\n",
    "fig.show()"
   ]
  },
  {
   "cell_type": "code",
   "execution_count": null,
   "metadata": {},
   "outputs": [],
   "source": []
  },
  {
   "cell_type": "code",
   "execution_count": null,
   "metadata": {},
   "outputs": [],
   "source": []
  },
  {
   "cell_type": "code",
   "execution_count": null,
   "metadata": {},
   "outputs": [],
   "source": []
  }
 ],
 "metadata": {
  "kernelspec": {
   "display_name": "Python 3",
   "language": "python",
   "name": "python3"
  },
  "language_info": {
   "codemirror_mode": {
    "name": "ipython",
    "version": 3
   },
   "file_extension": ".py",
   "mimetype": "text/x-python",
   "name": "python",
   "nbconvert_exporter": "python",
   "pygments_lexer": "ipython3",
   "version": "3.6.4"
  }
 },
 "nbformat": 4,
 "nbformat_minor": 2
}
